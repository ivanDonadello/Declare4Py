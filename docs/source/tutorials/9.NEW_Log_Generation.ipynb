{
 "cells": [
  {
   "cell_type": "markdown",
   "id": "4f5a9a59",
   "metadata": {},
   "source": [
    "# Synthetic Log Generation from DECLARE Models\n",
    "\n",
    "DECLARE4Py implements the generation of synthetic logs from DECLARE models with a solution based on Answer Set Programming that uses a Clingo solver. More details can be found in the paper of Chiariello, F., Maggi, F. M., & Patrizi, F. (2022, June). ASP-Based Declarative Process Mining. In *Proceedings of the AAAI Conference on Artificial Intelligence* (Vol. 36, No. 5, pp. 5539-5547).\n",
    "\n",
    "As first step, it is necessary to import a `.decl` file containing the DECLARE constraints."
   ]
  },
  {
   "metadata": {},
   "cell_type": "code",
   "source": [
    "import os\n",
    "from Declare4Py.ProcessModels.DeclareModel import DeclareModel\n",
    "from Declare4Py.ProcessMiningTasks.LogGenerator.ASP.ASPLogGenerator import AspGenerator\n",
    "\n",
    "model_name = 'data-model1'\n",
    "model: DeclareModel = DeclareModel().parse_from_file(os.path.join(\"../../../\", \"tests\", \"test_models\", f\"{model_name}.decl\"))"
   ],
   "id": "bdf42d09",
   "outputs": [],
   "execution_count": null
  },
  {
   "cell_type": "markdown",
   "source": [
    "Then, some general settings are needed to set the number of cases to generate and the minimum and maximum number of events for each case"
   ],
   "metadata": {
    "collapsed": false
   },
   "id": "7a9b8417"
  },
  {
   "cell_type": "code",
   "id": "785a61eb",
   "metadata": {},
   "source": [
    "%%time\n",
    "# Number of cases that have be generated\n",
    "num_of_cases = 10\n",
    "\n",
    "# Minimum and maximum number of events a case can contain\n",
    "(num_min_events, num_max_events) = (8,15)\n",
    "\n",
    "# Shows some feedback from the Generator (Set it too false to ignore all debug messages)\n",
    "verbose = True\n",
    "\n",
    "asp_gen: AspGenerator = AspGenerator(model, num_of_cases, num_min_events, num_max_events, verbose=verbose)\n",
    "asp_gen.run()"
   ],
   "outputs": [],
   "execution_count": null
  },
  {
   "cell_type": "markdown",
   "id": "6a06484d",
   "metadata": {},
   "source": [
    "The class `AspGenerator` has to be instantiated with the DECLARE model and the settings of above. Then, the `run` method will generate the cases and the `to_xes` method will save them in a `.xes` event log or the `to_csv` method will save them in a `.csv` file."
   ]
  },
  {
   "cell_type": "code",
   "source": [
    "asp_gen.to_xes(f\"{model_name}.xes\")\n",
    "asp_gen.to_csv(f\"{model_name}.csv\")"
   ],
   "metadata": {
    "collapsed": false
   },
   "id": "7467c274549de47f",
   "outputs": [],
   "execution_count": null
  },
  {
   "cell_type": "markdown",
   "id": "d1a80293",
   "metadata": {},
   "source": [
    "Logs can be generated with some **purposes** according to the needs of Process Mining algorithms. DECLARE4Py implements four useful purposes that can be set with the following methods of the `AspGenerator` class.\n",
    "\n",
    "\n",
    "## 1. Setting up the Length Distribution of the Cases\n",
    "\n",
    "Users can specify a probability distribution over the lengths of the generated traces. The method `set_distribution_type` takes as parameter the `distribution_type`. By setting this parameter with the `uniform` value, a uniform distribution in `[num_min_events, num_max_events]` is chosen. \n",
    "\n",
    "Also, the length of the positive traces can be changed with the method `set_positive_traces`"
   ]
  },
  {
   "cell_type": "code",
   "id": "7b624f2d",
   "metadata": {},
   "source": [
    "%%time\n",
    "# Default is uniform\n",
    "asp_gen.set_distribution_type(\"uniform\")\n",
    "\n",
    "# Before was 10, lets double that\n",
    "asp_gen.set_positive_traces(num_of_cases * 2)\n",
    "\n",
    "asp_gen.run()\n",
    "asp_gen.to_csv(f'{model_name}_Distribution_Test_1.csv')"
   ],
   "outputs": [],
   "execution_count": null
  },
  {
   "cell_type": "markdown",
   "id": "8fc1cfec",
   "metadata": {},
   "source": [
    "A `gaussian` distribution requires a location (the mean) and a scale (the variance)"
   ]
  },
  {
   "cell_type": "code",
   "id": "b094a88f",
   "metadata": {},
   "source": [
    "%%time\n",
    "asp_gen.change_distribution_settings(min_num_events_or_mu=15.5, max_num_events_or_sigma=3.2, dist_type=\"gaussian\")\n",
    "asp_gen.run()\n",
    "asp_gen.to_csv(f'{model_name}_Distribution_Test_2.csv')"
   ],
   "outputs": [],
   "execution_count": null
  },
  {
   "cell_type": "markdown",
   "id": "d17bb2bf",
   "metadata": {},
   "source": [
    "A `custom` distribution requires the user to set the probability for each length in `[num_min_events, num_max_events]`"
   ]
  },
  {
   "cell_type": "code",
   "id": "b5e657eb",
   "metadata": {},
   "source": [
    "%%time\n",
    "asp_gen.set_distribution_type(\"custom\")\n",
    "asp_gen.set_custom_probabilities([0.1, 0.1, 0.1, 0.1, 0.1, 0.1, 0.1, 0.3])\n",
    "\n",
    "asp_gen.run()\n",
    "asp_gen.to_csv(f'{model_name}_Distribution_Test_3.csv')"
   ],
   "outputs": [],
   "execution_count": null
  },
  {
   "cell_type": "markdown",
   "id": "0a4122d0",
   "metadata": {},
   "source": [
    "## 2. Setting up the Personalized Clingo configuration\n",
    "\n",
    "### More information\n",
    "\n",
    "For more information on clingo and its functionalities consult:  https://potassco.org/\n",
    "\n",
    "For more information on the option commands consult the documentation of Clingo (Potassco) at: https://github.com/potassco/guide/releases/ or https://github.com/potassco/asprin/blob/master/asprin/src/main/clingo_help.py\n",
    "\n",
    "Or download directly the documentation from here: https://github.com/potassco/guide/releases/download/v2.2.0/guide.pdf\n",
    "\n",
    "### Setting up the configuration\n",
    "\n",
    "Clingo offers various option to personalize the solver range of action, probabilistic reasoning and decision-making\n",
    "\n",
    "At the moment the solver can be personalized using the following method `use_custom_clingo_configuration` with the following options:\n",
    "    \n",
    "- The **Configuration** of clingo can be: \"frumpy\", \"tweety\", \"crafty\", \"jumpy\", \"trendy\" or \"handy\". (Default is trendy)\n",
    "\n",
    "\n",
    "- The amount of **Threads** used by clingo to speed up the process. (Default uses al possible cores)\n",
    "\n",
    "\n",
    "- The **Random Frequency** used by clingo in the decision-making is a float number between 0 and 1 included. Where 0 means: No random decisions and 1 means: Every decision is random. (Default is 0.3)\n",
    "\n",
    "\n",
    "- The **Mode** configures the optimization of the algorithm and can be either \"optN\" or \"ignore\". (Default is optN)\n",
    "\n",
    "\n",
    "- The **Sign** of the operation which can be \"asp\", \"pos\" \"neg\", \"rnd\". (Default is asp)\n",
    "\n",
    "\n",
    "- The **Strategy** configures the optimization of the strategy and can be \"bb\" or \"usc\". (This functionality is not used in the default configuration)\n",
    "\n",
    "\n",
    "- The **Heuristic** used by clingo configures the decision heuristic and can be \"Berkmin\", \"Vmtf\", \"Vsids\", \"Domain\", \"Unit\" or \"None\". (This functionality is not used in the default configuration)\n"
   ]
  },
  {
   "metadata": {},
   "cell_type": "code",
   "source": [
    "%%time\n",
    "\n",
    "asp_gen.use_default_clingo_configuration()\n",
    "# The default configuration can be obtained using the following command\n",
    "print(asp_gen.get_current_clingo_configuration())\n",
    "\n",
    "# To enable the custom configuration: \n",
    "asp_gen.use_custom_clingo_configuration(config=\"jumpy\", threads=None, frequency=1, sign_def=\"rnd\", strategy=\"bb\", heuristic=\"Vsids\")\n",
    "\n",
    "# The current configuration then becomes the custom one\n",
    "print(asp_gen.get_current_clingo_configuration())\n",
    "\n",
    "# this command tells the generator to use the default configuration again\n",
    "# asp_gen.use_default_clingo_configuration()\n",
    "# It does not delete the old custom configuration, in fact the custom configuration can be re-enabled by calling\n",
    "# asp_gen.use_custom_clingo_configuration()\n",
    "\n",
    "asp_gen.run()\n",
    "asp_gen.to_csv(f'{model_name}_Custom_Configuration_Test_1.csv')"
   ],
   "id": "4e790b8cf6851bc3",
   "outputs": [],
   "execution_count": null
  },
  {
   "metadata": {},
   "cell_type": "code",
   "source": "stop",
   "id": "8e4a5e6355824464",
   "outputs": [],
   "execution_count": null
  },
  {
   "metadata": {},
   "cell_type": "markdown",
   "source": [
    "\n",
    "# NOTE: The following code is not tested\n",
    "\n",
    "## 3. Setting up the Variants\n",
    "\n",
    "Users can generate variants by setting the number of repetitions of the workflow of each case. This is done with the `set_number_of_repetition_per_trace` method"
   ],
   "id": "3c9e78d687e669fa"
  },
  {
   "metadata": {},
   "cell_type": "code",
   "source": [
    "asp_gen.set_number_of_repetition_per_trace(3)\n",
    "\n",
    "asp_gen.run()\n",
    "asp_gen.to_csv(f'{model_name}.csv')"
   ],
   "id": "21d06307db87a3c1",
   "outputs": [],
   "execution_count": null
  },
  {
   "metadata": {},
   "cell_type": "markdown",
   "source": [
    "## Setting up Positive and Negative Traces\n",
    "\n",
    "Users can specify some constraints to be violated in the synthetic cases to obtain labelled logs for binary classification, e.g., for deviance mining algorithms. The method `set_constraints_to_violate` takes as input:\n",
    "\n",
    "1. `tot_negative_trace`: the number of negative cases to be violated;\n",
    "2. `violate_all`: whether to violate *all* the specified constraints or let Clingo decide which constraints to be violated;\n",
    "3. `constraints_list`: the list containing the subset of DECLARE constraints (specified as strings of text) to be violated."
   ],
   "id": "4e97e9a04272bcc9"
  },
  {
   "metadata": {},
   "cell_type": "code",
   "source": [
    "asp_gen: AspGenerator = AspGenerator(model, num_of_cases, num_min_events, num_max_events)\n",
    "\n",
    "asp_gen.set_constraints_to_violate(tot_negative_trace=10, violate_all=True, constraints_list=[\n",
    "    \"Init[ER Registration] | |\",\n",
    "    \"Chain Response[ER Registration, ER Triage] |A.org:group is J |T.org:group is A |\"])\n",
    "asp_gen.run()\n",
    "asp_gen.to_csv(f'{model_name}.csv')"
   ],
   "id": "6b8810320af3dcc3",
   "outputs": [],
   "execution_count": null
  },
  {
   "metadata": {},
   "cell_type": "markdown",
   "source": "In addition, instead of giving the explicit text of the DECLARE constraint, an index can be used in the `set_constraints_to_violate_by_template_index` method",
   "id": "5415fdc0a45ff533"
  },
  {
   "metadata": {},
   "cell_type": "code",
   "source": [
    "asp_gen: AspGenerator = AspGenerator(model, num_of_cases, num_min_events, num_max_events)\n",
    "\n",
    "for id, constr_text in enumerate(model.serialized_constraints):\n",
    "    print(f\"{id} - {constr_text}\")\n",
    "\n",
    "asp_gen.set_constraints_to_violate_by_template_index(tot_negative_trace=10, violate_all=True, \n",
    "                                                 constraints_idx_list=[0, 3])\n",
    "asp_gen.run()\n",
    "asp_gen.to_csv(f'{model_name}.csv')"
   ],
   "id": "a9dd6ae5fdb5c935",
   "outputs": [],
   "execution_count": null
  },
  {
   "metadata": {},
   "cell_type": "markdown",
   "source": [
    "## Setting up Rules for the Activation Conditions\n",
    "\n",
    "Users can specify the number of activations of a DECLARE constraint in the synthetic cases. This can be done with the `set_activation_conditions` method by specifying an interval of activations for specific DECLARE constraints in the loaded model"
   ],
   "id": "9832b4eaaaa61ed0"
  },
  {
   "metadata": {},
   "cell_type": "code",
   "source": [
    "asp_gen: AspGenerator = AspGenerator(model, num_of_cases, num_min_events, num_max_events)\n",
    "\n",
    "asp_gen.set_activation_conditions({\n",
    "'Response[CRP, Release B] |A.org:group is J |T.org:group is A |':\n",
    "[2, 3]}) # activation should occur between 2 to 3 times\n",
    "\n",
    "asp_gen.run()\n",
    "asp_gen.to_csv(f'{model_name}.csv')"
   ],
   "id": "5c5c995e9c1ace",
   "outputs": [],
   "execution_count": null
  },
  {
   "metadata": {},
   "cell_type": "markdown",
   "source": "In addition, instead of giving the explicit text of the DECLARE constraints, an index can be used in the `set_activation_conditions_by_template_index` method",
   "id": "7eb11a89ca32618"
  },
  {
   "metadata": {},
   "cell_type": "code",
   "source": [
    "asp_gen: AspGenerator = AspGenerator(model, num_of_cases, num_min_events, num_max_events)\n",
    "\n",
    "for id, constr_text in enumerate(model.serialized_constraints):\n",
    "    print(f\"{id} - {constr_text}\")\n",
    "\n",
    "asp_gen.set_activation_conditions_by_template_index({3: [2, 3]})\n",
    "asp_gen.run()\n",
    "asp_gen.to_csv(f'{model_name}.csv')"
   ],
   "id": "3014ddfa6c357452",
   "outputs": [],
   "execution_count": null
  }
 ],
 "metadata": {
  "kernelspec": {
   "display_name": "Python 3 (ipykernel)",
   "language": "python",
   "name": "python3"
  },
  "language_info": {
   "codemirror_mode": {
    "name": "ipython",
    "version": 3
   },
   "file_extension": ".py",
   "mimetype": "text/x-python",
   "name": "python",
   "nbconvert_exporter": "python",
   "pygments_lexer": "ipython3",
   "version": "3.11.4"
  }
 },
 "nbformat": 4,
 "nbformat_minor": 5
}
