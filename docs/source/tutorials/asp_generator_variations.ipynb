{
 "cells": [
  {
   "cell_type": "markdown",
   "id": "0009d44f-be72-4bb2-9ca6-487a2be24ce1",
   "metadata": {
    "tags": []
   },
   "source": [
    "# Generate pm4py log using ASP Generator\n",
    "\n",
    "ASP log generator uses the decl model which converts the model into abduction logic programming and pass to the clingo.\n",
    "Clingo generates the output which is turned into the pm4py log or can be created a .xes file.\n"
   ]
  },
  {
   "cell_type": "code",
   "id": "1eb21bf2-bf41-46b2-96e3-806047cc8cb1",
   "metadata": {
    "scrolled": true,
    "ExecuteTime": {
     "end_time": "2024-05-07T12:03:24.250189Z",
     "start_time": "2024-05-07T12:03:24.155189Z"
    }
   },
   "source": [
    "!python3 --version"
   ],
   "outputs": [
    {
     "name": "stderr",
     "output_type": "stream",
     "text": [
      "Python non trovato; Esegui senza argomenti per installare da Microsoft Store o disabilitare il collegamento da impostazioni > Gestisci app Alias di esecuzione.\n"
     ]
    }
   ],
   "execution_count": 21
  },
  {
   "cell_type": "code",
   "id": "2938753f-7b7c-4095-b918-1a667621e50d",
   "metadata": {
    "tags": [],
    "ExecuteTime": {
     "end_time": "2024-05-07T12:03:24.265189Z",
     "start_time": "2024-05-07T12:03:24.251189Z"
    }
   },
   "source": [
    "import pathlib\n",
    "\n",
    "from Declare4Py.ProcessMiningTasks.LogGenerator.ASP.ASPLogGenerator import AspGenerator\n",
    "from Declare4Py.ProcessModels.DeclareModel import DeclareModel\n",
    "from Declare4Py.ProcessMiningTasks.LogGenerator.Utils.Distribution import Distribution\n"
   ],
   "outputs": [],
   "execution_count": 22
  },
  {
   "cell_type": "code",
   "id": "0b9d5123-dc4f-4a75-bdd1-d4235d636772",
   "metadata": {
    "tags": [],
    "ExecuteTime": {
     "end_time": "2024-05-07T12:03:24.280189Z",
     "start_time": "2024-05-07T12:03:24.266190Z"
    }
   },
   "source": [
    "decl_model_1 = \"decl_files/Response.decl\"\n",
    "decl_model_2 = \"decl_files/MikeModel.decl\"\n",
    "decl_model_3 = \"decl_files/reference10.decl\"\n",
    "decl_model_4 = \"diagnosis.decl\"\n",
    "decl_folder = \"decl_files\"\n",
    "\n",
    "decl_filename = decl_model_4.split(\".\")[0]\n",
    "output_file = pathlib.Path(\".\", f\"{decl_filename}.xes\")\n",
    "decl_file = pathlib.Path(\".\", decl_folder, decl_model_4)"
   ],
   "outputs": [],
   "execution_count": 23
  },
  {
   "cell_type": "code",
   "id": "4b2d84b6-6a5a-4b3c-a0bb-335981eb6374",
   "metadata": {
    "ExecuteTime": {
     "end_time": "2024-05-07T12:03:24.296189Z",
     "start_time": "2024-05-07T12:03:24.282189Z"
    }
   },
   "source": [
    "# Create Declare model by reading declare model from a file.\n",
    "\n",
    "model: DeclareModel = DeclareModel().parse_from_file(decl_file)"
   ],
   "outputs": [],
   "execution_count": 24
  },
  {
   "cell_type": "code",
   "id": "f4b87ba4-2740-4006-b40f-b0ae95bab202",
   "metadata": {
    "ExecuteTime": {
     "end_time": "2024-05-07T12:03:24.311189Z",
     "start_time": "2024-05-07T12:03:24.297189Z"
    }
   },
   "source": [
    "#general Setting\n",
    "\n",
    "# Number of traces that should be generated\n",
    "num_of_traces = 20\n",
    "\n",
    "# Minimum and maximum number of events a trace can contain\n",
    "(num_min_events, num_max_events) = (2, 5)\n"
   ],
   "outputs": [],
   "execution_count": 25
  },
  {
   "cell_type": "code",
   "id": "b9dc4474-319b-40e0-95a7-c8ac36a18f2b",
   "metadata": {
    "ExecuteTime": {
     "end_time": "2024-05-07T12:03:24.326189Z",
     "start_time": "2024-05-07T12:03:24.312189Z"
    }
   },
   "source": [
    "# Initializing ASP generator with default distributor which is uniform.\n",
    "\n",
    "asp = AspGenerator(\n",
    "    model,\n",
    "    num_of_traces,\n",
    "    num_min_events,\n",
    "    num_max_events\n",
    ")"
   ],
   "outputs": [],
   "execution_count": 26
  },
  {
   "cell_type": "code",
   "id": "fd662d2d",
   "metadata": {
    "ExecuteTime": {
     "end_time": "2024-05-07T12:03:24.341189Z",
     "start_time": "2024-05-07T12:03:24.327190Z"
    }
   },
   "source": [
    "asp.set_number_of_repetition_per_trace(8)  # same trace but with possible different events"
   ],
   "outputs": [],
   "execution_count": 27
  },
  {
   "cell_type": "code",
   "id": "974a92ad-6497-433f-99e4-2f0d79a6e150",
   "metadata": {
    "scrolled": true,
    "ExecuteTime": {
     "end_time": "2024-05-07T12:03:30.024380Z",
     "start_time": "2024-05-07T12:03:24.342190Z"
    }
   },
   "source": [
    "# Generate the traces and parse the result produced by clingo\n",
    "asp.run()  # Run accepts 1 optional value whether to create file for the ASP generated from given declare model\n"
   ],
   "outputs": [
    {
     "name": "stderr",
     "output_type": "stream",
     "text": [
      "WARNING:ASP generator:PM4PY log generated: 40/160 only.\n"
     ]
    }
   ],
   "execution_count": 28
  },
  {
   "cell_type": "code",
   "id": "a03b7b40-e718-4783-a8e4-36528bd4d01d",
   "metadata": {
    "ExecuteTime": {
     "end_time": "2024-05-07T12:03:30.056379Z",
     "start_time": "2024-05-07T12:03:30.025379Z"
    }
   },
   "source": [
    "# Save file to xes\n",
    "asp.to_xes(output_file.as_posix())"
   ],
   "outputs": [
    {
     "name": "stderr",
     "output_type": "stream",
     "text": [
      "C:\\Users\\Matteo\\miniconda3\\envs\\Declare4Py\\lib\\site-packages\\ipywidgets\\widgets\\widget.py:528: DeprecationWarning: The `ipykernel.comm.Comm` class has been deprecated. Please use the `comm` module instead.For creating comms, use the function `from comm import create_comm`.\n",
      "  self.comm = Comm(**args)\n",
      "C:\\Users\\Matteo\\miniconda3\\envs\\Declare4Py\\lib\\site-packages\\ipywidgets\\widgets\\widget.py:528: DeprecationWarning: The `ipykernel.comm.Comm` class has been deprecated. Please use the `comm` module instead.For creating comms, use the function `from comm import create_comm`.\n",
      "  self.comm = Comm(**args)\n",
      "C:\\Users\\Matteo\\miniconda3\\envs\\Declare4Py\\lib\\site-packages\\ipywidgets\\widgets\\widget.py:528: DeprecationWarning: The `ipykernel.comm.Comm` class has been deprecated. Please use the `comm` module instead.For creating comms, use the function `from comm import create_comm`.\n",
      "  self.comm = Comm(**args)\n",
      "C:\\Users\\Matteo\\miniconda3\\envs\\Declare4Py\\lib\\site-packages\\ipywidgets\\widgets\\widget.py:528: DeprecationWarning: The `ipykernel.comm.Comm` class has been deprecated. Please use the `comm` module instead.For creating comms, use the function `from comm import create_comm`.\n",
      "  self.comm = Comm(**args)\n",
      "C:\\Users\\Matteo\\miniconda3\\envs\\Declare4Py\\lib\\site-packages\\ipywidgets\\widgets\\widget.py:528: DeprecationWarning: The `ipykernel.comm.Comm` class has been deprecated. Please use the `comm` module instead.For creating comms, use the function `from comm import create_comm`.\n",
      "  self.comm = Comm(**args)\n",
      "C:\\Users\\Matteo\\miniconda3\\envs\\Declare4Py\\lib\\site-packages\\ipywidgets\\widgets\\widget.py:528: DeprecationWarning: The `ipykernel.comm.Comm` class has been deprecated. Please use the `comm` module instead.For creating comms, use the function `from comm import create_comm`.\n",
      "  self.comm = Comm(**args)\n",
      "C:\\Users\\Matteo\\miniconda3\\envs\\Declare4Py\\lib\\site-packages\\ipywidgets\\widgets\\widget.py:528: DeprecationWarning: The `ipykernel.comm.Comm` class has been deprecated. Please use the `comm` module instead.For creating comms, use the function `from comm import create_comm`.\n",
      "  self.comm = Comm(**args)\n",
      "C:\\Users\\Matteo\\miniconda3\\envs\\Declare4Py\\lib\\site-packages\\ipywidgets\\widgets\\widget.py:528: DeprecationWarning: The `ipykernel.comm.Comm` class has been deprecated. Please use the `comm` module instead.For creating comms, use the function `from comm import create_comm`.\n",
      "  self.comm = Comm(**args)\n",
      "C:\\Users\\Matteo\\miniconda3\\envs\\Declare4Py\\lib\\site-packages\\ipywidgets\\widgets\\widget.py:528: DeprecationWarning: The `ipykernel.comm.Comm` class has been deprecated. Please use the `comm` module instead.For creating comms, use the function `from comm import create_comm`.\n",
      "  self.comm = Comm(**args)\n",
      "C:\\Users\\Matteo\\miniconda3\\envs\\Declare4Py\\lib\\site-packages\\ipywidgets\\widgets\\widget.py:528: DeprecationWarning: The `ipykernel.comm.Comm` class has been deprecated. Please use the `comm` module instead.For creating comms, use the function `from comm import create_comm`.\n",
      "  self.comm = Comm(**args)\n",
      "C:\\Users\\Matteo\\miniconda3\\envs\\Declare4Py\\lib\\site-packages\\ipywidgets\\widgets\\widget.py:528: DeprecationWarning: The `ipykernel.comm.Comm` class has been deprecated. Please use the `comm` module instead.For creating comms, use the function `from comm import create_comm`.\n",
      "  self.comm = Comm(**args)\n"
     ]
    },
    {
     "data": {
      "text/plain": [
       "exporting log, completed traces ::   0%|          | 0/40 [00:00<?, ?it/s]"
      ],
      "application/vnd.jupyter.widget-view+json": {
       "version_major": 2,
       "version_minor": 0,
       "model_id": "c61539e558914ae4aaae59ead44d6b88"
      }
     },
     "metadata": {},
     "output_type": "display_data"
    }
   ],
   "execution_count": 29
  },
  {
   "cell_type": "code",
   "id": "16c4df61",
   "metadata": {
    "ExecuteTime": {
     "end_time": "2024-05-07T12:03:53.128285Z",
     "start_time": "2024-05-07T12:03:53.111285Z"
    }
   },
   "source": [
    "asp.set_distribution_type(Distribution.CUSTOM)\n",
    "asp.set_custom_probabilities(custom_probabilities=[0.0, 0.9, 0.0, 0.1])"
   ],
   "outputs": [],
   "execution_count": 32
  },
  {
   "cell_type": "code",
   "id": "eae4ba22",
   "metadata": {
    "ExecuteTime": {
     "end_time": "2024-05-07T12:03:57.330007Z",
     "start_time": "2024-05-07T12:03:55.795289Z"
    }
   },
   "source": [
    "asp.run()"
   ],
   "outputs": [
    {
     "name": "stderr",
     "output_type": "stream",
     "text": [
      "WARNING:ASP generator:PM4PY log generated: 40/160 only.\n"
     ]
    }
   ],
   "execution_count": 33
  },
  {
   "cell_type": "code",
   "id": "a6e602c3",
   "metadata": {
    "ExecuteTime": {
     "end_time": "2024-05-07T12:03:57.361007Z",
     "start_time": "2024-05-07T12:03:57.331007Z"
    }
   },
   "source": [
    "asp.to_xes(output_file.as_posix())"
   ],
   "outputs": [
    {
     "name": "stderr",
     "output_type": "stream",
     "text": [
      "C:\\Users\\Matteo\\miniconda3\\envs\\Declare4Py\\lib\\site-packages\\ipywidgets\\widgets\\widget.py:528: DeprecationWarning: The `ipykernel.comm.Comm` class has been deprecated. Please use the `comm` module instead.For creating comms, use the function `from comm import create_comm`.\n",
      "  self.comm = Comm(**args)\n",
      "C:\\Users\\Matteo\\miniconda3\\envs\\Declare4Py\\lib\\site-packages\\ipywidgets\\widgets\\widget.py:528: DeprecationWarning: The `ipykernel.comm.Comm` class has been deprecated. Please use the `comm` module instead.For creating comms, use the function `from comm import create_comm`.\n",
      "  self.comm = Comm(**args)\n",
      "C:\\Users\\Matteo\\miniconda3\\envs\\Declare4Py\\lib\\site-packages\\ipywidgets\\widgets\\widget.py:528: DeprecationWarning: The `ipykernel.comm.Comm` class has been deprecated. Please use the `comm` module instead.For creating comms, use the function `from comm import create_comm`.\n",
      "  self.comm = Comm(**args)\n",
      "C:\\Users\\Matteo\\miniconda3\\envs\\Declare4Py\\lib\\site-packages\\ipywidgets\\widgets\\widget.py:528: DeprecationWarning: The `ipykernel.comm.Comm` class has been deprecated. Please use the `comm` module instead.For creating comms, use the function `from comm import create_comm`.\n",
      "  self.comm = Comm(**args)\n",
      "C:\\Users\\Matteo\\miniconda3\\envs\\Declare4Py\\lib\\site-packages\\ipywidgets\\widgets\\widget.py:528: DeprecationWarning: The `ipykernel.comm.Comm` class has been deprecated. Please use the `comm` module instead.For creating comms, use the function `from comm import create_comm`.\n",
      "  self.comm = Comm(**args)\n",
      "C:\\Users\\Matteo\\miniconda3\\envs\\Declare4Py\\lib\\site-packages\\ipywidgets\\widgets\\widget.py:528: DeprecationWarning: The `ipykernel.comm.Comm` class has been deprecated. Please use the `comm` module instead.For creating comms, use the function `from comm import create_comm`.\n",
      "  self.comm = Comm(**args)\n",
      "C:\\Users\\Matteo\\miniconda3\\envs\\Declare4Py\\lib\\site-packages\\ipywidgets\\widgets\\widget.py:528: DeprecationWarning: The `ipykernel.comm.Comm` class has been deprecated. Please use the `comm` module instead.For creating comms, use the function `from comm import create_comm`.\n",
      "  self.comm = Comm(**args)\n",
      "C:\\Users\\Matteo\\miniconda3\\envs\\Declare4Py\\lib\\site-packages\\ipywidgets\\widgets\\widget.py:528: DeprecationWarning: The `ipykernel.comm.Comm` class has been deprecated. Please use the `comm` module instead.For creating comms, use the function `from comm import create_comm`.\n",
      "  self.comm = Comm(**args)\n",
      "C:\\Users\\Matteo\\miniconda3\\envs\\Declare4Py\\lib\\site-packages\\ipywidgets\\widgets\\widget.py:528: DeprecationWarning: The `ipykernel.comm.Comm` class has been deprecated. Please use the `comm` module instead.For creating comms, use the function `from comm import create_comm`.\n",
      "  self.comm = Comm(**args)\n",
      "C:\\Users\\Matteo\\miniconda3\\envs\\Declare4Py\\lib\\site-packages\\ipywidgets\\widgets\\widget.py:528: DeprecationWarning: The `ipykernel.comm.Comm` class has been deprecated. Please use the `comm` module instead.For creating comms, use the function `from comm import create_comm`.\n",
      "  self.comm = Comm(**args)\n",
      "C:\\Users\\Matteo\\miniconda3\\envs\\Declare4Py\\lib\\site-packages\\ipywidgets\\widgets\\widget.py:528: DeprecationWarning: The `ipykernel.comm.Comm` class has been deprecated. Please use the `comm` module instead.For creating comms, use the function `from comm import create_comm`.\n",
      "  self.comm = Comm(**args)\n"
     ]
    },
    {
     "data": {
      "text/plain": [
       "exporting log, completed traces ::   0%|          | 0/40 [00:00<?, ?it/s]"
      ],
      "application/vnd.jupyter.widget-view+json": {
       "version_major": 2,
       "version_minor": 0,
       "model_id": "9c08cffee60f4279895a77d1a0940aaf"
      }
     },
     "metadata": {},
     "output_type": "display_data"
    }
   ],
   "execution_count": 34
  }
 ],
 "metadata": {
  "kernelspec": {
   "display_name": "Python 3 (ipykernel)",
   "language": "python",
   "name": "python3"
  },
  "language_info": {
   "codemirror_mode": {
    "name": "ipython",
    "version": 3
   },
   "file_extension": ".py",
   "mimetype": "text/x-python",
   "name": "python",
   "nbconvert_exporter": "python",
   "pygments_lexer": "ipython3",
   "version": "3.11.4"
  }
 },
 "nbformat": 4,
 "nbformat_minor": 5
}
