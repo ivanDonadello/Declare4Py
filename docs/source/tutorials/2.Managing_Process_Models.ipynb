{
 "cells": [
  {
   "cell_type": "markdown",
   "id": "5279e90c",
   "metadata": {},
   "source": [
    "# Managing Process Models\n",
    "\n",
    "This tutorial will go through the steps necessary to import and manage process models.\n",
    "\n",
    "## The `LTLModel` class\n",
    "\n",
    "An LTLModel can be created from a Linear Temporal Logic on finite traces (LTLf) formula in a string format provided by the user. We adopted the LTLf syntax [here](http://ltlf2dfa.diag.uniroma1.it/ltlf_syntax). Therefore, the `LTLModel` has to be imported from `src.Declare4Py.ProcessModels.LTLModel` and then instantiated."
   ]
  },
  {
   "cell_type": "code",
   "id": "8b6c9e04",
   "metadata": {
    "ExecuteTime": {
     "end_time": "2024-05-07T11:46:12.661761Z",
     "start_time": "2024-05-07T11:46:12.647761Z"
    }
   },
   "source": [
    "from Declare4Py.ProcessModels.LTLModel import LTLModel\n",
    "\n",
    "model = LTLModel()\n",
    "model.parse_from_string(\"G(ER Triage -> F(CRP))\")"
   ],
   "outputs": [],
   "execution_count": 22
  },
  {
   "cell_type": "code",
   "id": "c99e909c",
   "metadata": {
    "ExecuteTime": {
     "end_time": "2024-05-07T11:46:12.725761Z",
     "start_time": "2024-05-07T11:46:12.685761Z"
    }
   },
   "source": [
    "from ltlf2dfa.parser.ltlf import LTLfParser\n",
    "\n",
    "parser = LTLfParser()\n",
    "formula_str = \"G(a -> WX b)\"\n",
    "formula = parser(formula_str)       # returns an LTLfFormula\n",
    "\n",
    "print(formula)   "
   ],
   "outputs": [
    {
     "name": "stdout",
     "output_type": "stream",
     "text": [
      "G((a -> WX(b)))\n"
     ]
    }
   ],
   "execution_count": 23
  },
  {
   "cell_type": "markdown",
   "id": "94911ff3",
   "metadata": {},
   "source": [
    "Some basic logical operations on the formulas can be done according to the methods in the `LTLModel` class. We provide some examples."
   ]
  },
  {
   "cell_type": "code",
   "id": "2cb06709",
   "metadata": {
    "ExecuteTime": {
     "end_time": "2024-05-07T11:46:12.741761Z",
     "start_time": "2024-05-07T11:46:12.726760Z"
    }
   },
   "source": [
    "model.parse_from_string(\"CRP\")\n",
    "\n",
    "model.add_eventually()\n",
    "print(model.formula)\n",
    "model.add_negation()\n",
    "print(model.formula)\n",
    "model.add_implication(\"F(Release A)\")\n",
    "print(model.formula)\n",
    "print(\"--------------------------------\\n\")\n",
    "\n",
    "model.parse_from_string(\"Leucocytes\")\n",
    "print(model.formula)\n",
    "model.add_until(\"!(CRP)\")\n",
    "print(model.formula)\n",
    "model.add_always()\n",
    "print(model.formula)\n",
    "print(\"--------------------------------\\n\")\n",
    "\n",
    "model.parse_from_string(\"IV Liquid\")\n",
    "print(model.formula)\n",
    "model.add_disjunction(\"IV Antibiotics\")\n",
    "print(model.formula)\n",
    "model.add_conjunction(\"X[!](Admission NC)\")\n",
    "print(model.formula)\n",
    "print(\"--------------------------------\\n\")\n",
    "\n",
    "model.parse_from_string(\"Return ER\")\n",
    "print(model.formula)\n",
    "model.add_next()\n",
    "print(model.formula)\n",
    "model.add_equivalence(\"Bad condition\")\n",
    "print(model.formula)"
   ],
   "outputs": [
    {
     "name": "stdout",
     "output_type": "stream",
     "text": [
      "F(crp)\n",
      "!(F(crp))\n",
      "(!(F(crp))) -> (F(releasea))\n",
      "--------------------------------\n",
      "\n",
      "leucocytes\n",
      "(leucocytes) U (!(crp))\n",
      "G((leucocytes) U (!(crp)))\n",
      "--------------------------------\n",
      "\n",
      "ivliquid\n",
      "(ivliquid) || (ivantibiotics)\n",
      "((ivliquid) || (ivantibiotics)) && (X[!](admissionnc))\n",
      "--------------------------------\n",
      "\n",
      "returner\n",
      "X[!](returner)\n",
      "(X[!](returner)) <-> (badcondition)\n"
     ]
    }
   ],
   "execution_count": 24
  },
  {
   "cell_type": "code",
   "id": "cb3f5191",
   "metadata": {
    "ExecuteTime": {
     "end_time": "2024-05-07T11:46:12.849760Z",
     "start_time": "2024-05-07T11:46:12.742762Z"
    }
   },
   "source": [
    "from logaut import ltl2dfa\n",
    "model.parse_from_string(\"!(X[!](true))\") # si usa parse_ltl da pylogics.parsers\n",
    "print(model.formula)\n",
    "print(model.parsed_formula)\n",
    "model.check_satisfiability()\n",
    "dfa1 = ltl2dfa(model.parsed_formula, backend=\"lydia\")\n",
    "dfa1 = dfa1.minimize()\n",
    "print(dfa1.__dict__)\n",
    "print(dfa1.accepts([{'a': True}, {'a': True}]))\n",
    "print(\"-------\")\n",
    "\n",
    "#dfa = ltl2dfa(model.parsed_formula, backend=\"ltlf2dfa\")\n",
    "#dfa = dfa.minimize()\n",
    "#print(dfa.__dict__)\n",
    "#print(dfa.accepts([{'a': True}, {'a': True}]))"
   ],
   "outputs": [
    {
     "name": "stdout",
     "output_type": "stream",
     "text": [
      "!(X[!](true))\n",
      "(not (next PropositionalTrue(Logic.LTL)))\n"
     ]
    },
    {
     "ename": "Exception",
     "evalue": "an error occurred while running lydia: [WinError 2] Impossibile trovare il file specificato",
     "output_type": "error",
     "traceback": [
      "\u001B[1;31m---------------------------------------------------------------------------\u001B[0m",
      "\u001B[1;31mFileNotFoundError\u001B[0m                         Traceback (most recent call last)",
      "File \u001B[1;32m~\\miniconda3\\envs\\Declare4Py\\lib\\site-packages\\logaut\\backends\\lydia\\_lydia_utils.py:40\u001B[0m, in \u001B[0;36mcall_lydia\u001B[1;34m(cwd, *args)\u001B[0m\n\u001B[0;32m     39\u001B[0m \u001B[38;5;28;01mtry\u001B[39;00m:\n\u001B[1;32m---> 40\u001B[0m     result \u001B[38;5;241m=\u001B[39m \u001B[43msubprocess\u001B[49m\u001B[38;5;241;43m.\u001B[39;49m\u001B[43mrun\u001B[49m\u001B[43m(\u001B[49m\n\u001B[0;32m     41\u001B[0m \u001B[43m        \u001B[49m\u001B[43mcommand\u001B[49m\u001B[43m,\u001B[49m\u001B[43m \u001B[49m\u001B[43mstdout\u001B[49m\u001B[38;5;241;43m=\u001B[39;49m\u001B[43msubprocess\u001B[49m\u001B[38;5;241;43m.\u001B[39;49m\u001B[43mPIPE\u001B[49m\u001B[43m,\u001B[49m\u001B[43m \u001B[49m\u001B[43mstderr\u001B[49m\u001B[38;5;241;43m=\u001B[39;49m\u001B[43msubprocess\u001B[49m\u001B[38;5;241;43m.\u001B[39;49m\u001B[43mPIPE\u001B[49m\u001B[43m,\u001B[49m\u001B[43m \u001B[49m\u001B[43mcwd\u001B[49m\u001B[38;5;241;43m=\u001B[39;49m\u001B[43mcwd\u001B[49m\n\u001B[0;32m     42\u001B[0m \u001B[43m    \u001B[49m\u001B[43m)\u001B[49m\n\u001B[0;32m     43\u001B[0m     output \u001B[38;5;241m=\u001B[39m result\u001B[38;5;241m.\u001B[39mstdout\u001B[38;5;241m.\u001B[39mdecode()\n",
      "File \u001B[1;32m~\\miniconda3\\envs\\Declare4Py\\lib\\subprocess.py:493\u001B[0m, in \u001B[0;36mrun\u001B[1;34m(input, capture_output, timeout, check, *popenargs, **kwargs)\u001B[0m\n\u001B[0;32m    491\u001B[0m     kwargs[\u001B[38;5;124m'\u001B[39m\u001B[38;5;124mstderr\u001B[39m\u001B[38;5;124m'\u001B[39m] \u001B[38;5;241m=\u001B[39m PIPE\n\u001B[1;32m--> 493\u001B[0m \u001B[38;5;28;01mwith\u001B[39;00m \u001B[43mPopen\u001B[49m\u001B[43m(\u001B[49m\u001B[38;5;241;43m*\u001B[39;49m\u001B[43mpopenargs\u001B[49m\u001B[43m,\u001B[49m\u001B[43m \u001B[49m\u001B[38;5;241;43m*\u001B[39;49m\u001B[38;5;241;43m*\u001B[39;49m\u001B[43mkwargs\u001B[49m\u001B[43m)\u001B[49m \u001B[38;5;28;01mas\u001B[39;00m process:\n\u001B[0;32m    494\u001B[0m     \u001B[38;5;28;01mtry\u001B[39;00m:\n",
      "File \u001B[1;32m~\\miniconda3\\envs\\Declare4Py\\lib\\subprocess.py:858\u001B[0m, in \u001B[0;36mPopen.__init__\u001B[1;34m(self, args, bufsize, executable, stdin, stdout, stderr, preexec_fn, close_fds, shell, cwd, env, universal_newlines, startupinfo, creationflags, restore_signals, start_new_session, pass_fds, encoding, errors, text)\u001B[0m\n\u001B[0;32m    855\u001B[0m             \u001B[38;5;28mself\u001B[39m\u001B[38;5;241m.\u001B[39mstderr \u001B[38;5;241m=\u001B[39m io\u001B[38;5;241m.\u001B[39mTextIOWrapper(\u001B[38;5;28mself\u001B[39m\u001B[38;5;241m.\u001B[39mstderr,\n\u001B[0;32m    856\u001B[0m                     encoding\u001B[38;5;241m=\u001B[39mencoding, errors\u001B[38;5;241m=\u001B[39merrors)\n\u001B[1;32m--> 858\u001B[0m     \u001B[38;5;28;43mself\u001B[39;49m\u001B[38;5;241;43m.\u001B[39;49m\u001B[43m_execute_child\u001B[49m\u001B[43m(\u001B[49m\u001B[43margs\u001B[49m\u001B[43m,\u001B[49m\u001B[43m \u001B[49m\u001B[43mexecutable\u001B[49m\u001B[43m,\u001B[49m\u001B[43m \u001B[49m\u001B[43mpreexec_fn\u001B[49m\u001B[43m,\u001B[49m\u001B[43m \u001B[49m\u001B[43mclose_fds\u001B[49m\u001B[43m,\u001B[49m\n\u001B[0;32m    859\u001B[0m \u001B[43m                        \u001B[49m\u001B[43mpass_fds\u001B[49m\u001B[43m,\u001B[49m\u001B[43m \u001B[49m\u001B[43mcwd\u001B[49m\u001B[43m,\u001B[49m\u001B[43m \u001B[49m\u001B[43menv\u001B[49m\u001B[43m,\u001B[49m\n\u001B[0;32m    860\u001B[0m \u001B[43m                        \u001B[49m\u001B[43mstartupinfo\u001B[49m\u001B[43m,\u001B[49m\u001B[43m \u001B[49m\u001B[43mcreationflags\u001B[49m\u001B[43m,\u001B[49m\u001B[43m \u001B[49m\u001B[43mshell\u001B[49m\u001B[43m,\u001B[49m\n\u001B[0;32m    861\u001B[0m \u001B[43m                        \u001B[49m\u001B[43mp2cread\u001B[49m\u001B[43m,\u001B[49m\u001B[43m \u001B[49m\u001B[43mp2cwrite\u001B[49m\u001B[43m,\u001B[49m\n\u001B[0;32m    862\u001B[0m \u001B[43m                        \u001B[49m\u001B[43mc2pread\u001B[49m\u001B[43m,\u001B[49m\u001B[43m \u001B[49m\u001B[43mc2pwrite\u001B[49m\u001B[43m,\u001B[49m\n\u001B[0;32m    863\u001B[0m \u001B[43m                        \u001B[49m\u001B[43merrread\u001B[49m\u001B[43m,\u001B[49m\u001B[43m \u001B[49m\u001B[43merrwrite\u001B[49m\u001B[43m,\u001B[49m\n\u001B[0;32m    864\u001B[0m \u001B[43m                        \u001B[49m\u001B[43mrestore_signals\u001B[49m\u001B[43m,\u001B[49m\u001B[43m \u001B[49m\u001B[43mstart_new_session\u001B[49m\u001B[43m)\u001B[49m\n\u001B[0;32m    865\u001B[0m \u001B[38;5;28;01mexcept\u001B[39;00m:\n\u001B[0;32m    866\u001B[0m     \u001B[38;5;66;03m# Cleanup if the child failed starting.\u001B[39;00m\n",
      "File \u001B[1;32m~\\miniconda3\\envs\\Declare4Py\\lib\\subprocess.py:1327\u001B[0m, in \u001B[0;36mPopen._execute_child\u001B[1;34m(self, args, executable, preexec_fn, close_fds, pass_fds, cwd, env, startupinfo, creationflags, shell, p2cread, p2cwrite, c2pread, c2pwrite, errread, errwrite, unused_restore_signals, unused_start_new_session)\u001B[0m\n\u001B[0;32m   1326\u001B[0m \u001B[38;5;28;01mtry\u001B[39;00m:\n\u001B[1;32m-> 1327\u001B[0m     hp, ht, pid, tid \u001B[38;5;241m=\u001B[39m \u001B[43m_winapi\u001B[49m\u001B[38;5;241;43m.\u001B[39;49m\u001B[43mCreateProcess\u001B[49m\u001B[43m(\u001B[49m\u001B[43mexecutable\u001B[49m\u001B[43m,\u001B[49m\u001B[43m \u001B[49m\u001B[43margs\u001B[49m\u001B[43m,\u001B[49m\n\u001B[0;32m   1328\u001B[0m \u001B[43m                             \u001B[49m\u001B[38;5;66;43;03m# no special security\u001B[39;49;00m\n\u001B[0;32m   1329\u001B[0m \u001B[43m                             \u001B[49m\u001B[38;5;28;43;01mNone\u001B[39;49;00m\u001B[43m,\u001B[49m\u001B[43m \u001B[49m\u001B[38;5;28;43;01mNone\u001B[39;49;00m\u001B[43m,\u001B[49m\n\u001B[0;32m   1330\u001B[0m \u001B[43m                             \u001B[49m\u001B[38;5;28;43mint\u001B[39;49m\u001B[43m(\u001B[49m\u001B[38;5;129;43;01mnot\u001B[39;49;00m\u001B[43m \u001B[49m\u001B[43mclose_fds\u001B[49m\u001B[43m)\u001B[49m\u001B[43m,\u001B[49m\n\u001B[0;32m   1331\u001B[0m \u001B[43m                             \u001B[49m\u001B[43mcreationflags\u001B[49m\u001B[43m,\u001B[49m\n\u001B[0;32m   1332\u001B[0m \u001B[43m                             \u001B[49m\u001B[43menv\u001B[49m\u001B[43m,\u001B[49m\n\u001B[0;32m   1333\u001B[0m \u001B[43m                             \u001B[49m\u001B[43mcwd\u001B[49m\u001B[43m,\u001B[49m\n\u001B[0;32m   1334\u001B[0m \u001B[43m                             \u001B[49m\u001B[43mstartupinfo\u001B[49m\u001B[43m)\u001B[49m\n\u001B[0;32m   1335\u001B[0m \u001B[38;5;28;01mfinally\u001B[39;00m:\n\u001B[0;32m   1336\u001B[0m     \u001B[38;5;66;03m# Child is launched. Close the parent's copy of those pipe\u001B[39;00m\n\u001B[0;32m   1337\u001B[0m     \u001B[38;5;66;03m# handles that only the child should have open.  You need\u001B[39;00m\n\u001B[1;32m   (...)\u001B[0m\n\u001B[0;32m   1340\u001B[0m     \u001B[38;5;66;03m# pipe will not close when the child process exits and the\u001B[39;00m\n\u001B[0;32m   1341\u001B[0m     \u001B[38;5;66;03m# ReadFile will hang.\u001B[39;00m\n",
      "\u001B[1;31mFileNotFoundError\u001B[0m: [WinError 2] Impossibile trovare il file specificato",
      "\nThe above exception was the direct cause of the following exception:\n",
      "\u001B[1;31mException\u001B[0m                                 Traceback (most recent call last)",
      "Cell \u001B[1;32mIn[25], line 5\u001B[0m\n\u001B[0;32m      3\u001B[0m \u001B[38;5;28mprint\u001B[39m(model\u001B[38;5;241m.\u001B[39mformula)\n\u001B[0;32m      4\u001B[0m \u001B[38;5;28mprint\u001B[39m(model\u001B[38;5;241m.\u001B[39mparsed_formula)\n\u001B[1;32m----> 5\u001B[0m \u001B[43mmodel\u001B[49m\u001B[38;5;241;43m.\u001B[39;49m\u001B[43mcheck_satisfiability\u001B[49m\u001B[43m(\u001B[49m\u001B[43m)\u001B[49m\n\u001B[0;32m      6\u001B[0m dfa1 \u001B[38;5;241m=\u001B[39m ltl2dfa(model\u001B[38;5;241m.\u001B[39mparsed_formula, backend\u001B[38;5;241m=\u001B[39m\u001B[38;5;124m\"\u001B[39m\u001B[38;5;124mlydia\u001B[39m\u001B[38;5;124m\"\u001B[39m)\n\u001B[0;32m      7\u001B[0m dfa1 \u001B[38;5;241m=\u001B[39m dfa1\u001B[38;5;241m.\u001B[39mminimize()\n",
      "File \u001B[1;32m~\\Desktop\\Repository\\python\\Tesi\\Declare4Py\\Declare4Py\\ProcessModels\\LTLModel.py:149\u001B[0m, in \u001B[0;36mLTLModel.check_satisfiability\u001B[1;34m(self, minimize_automaton)\u001B[0m\n\u001B[0;32m    147\u001B[0m \u001B[38;5;28;01mif\u001B[39;00m \u001B[38;5;28mself\u001B[39m\u001B[38;5;241m.\u001B[39mbackend \u001B[38;5;129;01mnot\u001B[39;00m \u001B[38;5;129;01min\u001B[39;00m [\u001B[38;5;124m\"\u001B[39m\u001B[38;5;124mlydia\u001B[39m\u001B[38;5;124m\"\u001B[39m, \u001B[38;5;124m\"\u001B[39m\u001B[38;5;124mltlf2dfa\u001B[39m\u001B[38;5;124m\"\u001B[39m]:\n\u001B[0;32m    148\u001B[0m     \u001B[38;5;28;01mraise\u001B[39;00m \u001B[38;5;167;01mRuntimeError\u001B[39;00m(\u001B[38;5;124m\"\u001B[39m\u001B[38;5;124mOnly lydia and ltlf2dfa are supported backends.\u001B[39m\u001B[38;5;124m\"\u001B[39m)\n\u001B[1;32m--> 149\u001B[0m dfa \u001B[38;5;241m=\u001B[39m \u001B[43mltl2dfa\u001B[49m\u001B[43m(\u001B[49m\u001B[38;5;28;43mself\u001B[39;49m\u001B[38;5;241;43m.\u001B[39;49m\u001B[43mparsed_formula\u001B[49m\u001B[43m,\u001B[49m\u001B[43m \u001B[49m\u001B[43mbackend\u001B[49m\u001B[38;5;241;43m=\u001B[39;49m\u001B[38;5;28;43mself\u001B[39;49m\u001B[38;5;241;43m.\u001B[39;49m\u001B[43mbackend\u001B[49m\u001B[43m)\u001B[49m\n\u001B[0;32m    150\u001B[0m \u001B[38;5;28;01mif\u001B[39;00m minimize_automaton:\n\u001B[0;32m    151\u001B[0m     dfa \u001B[38;5;241m=\u001B[39m dfa\u001B[38;5;241m.\u001B[39mminimize()\n",
      "File \u001B[1;32m~\\miniconda3\\envs\\Declare4Py\\lib\\site-packages\\logaut\\core.py:52\u001B[0m, in \u001B[0;36mltl2dfa\u001B[1;34m(formula, backend, **backend_options)\u001B[0m\n\u001B[0;32m     41\u001B[0m \u001B[38;5;28;01mdef\u001B[39;00m \u001B[38;5;21mltl2dfa\u001B[39m(\n\u001B[0;32m     42\u001B[0m     formula: Formula, backend: \u001B[38;5;28mstr\u001B[39m \u001B[38;5;241m=\u001B[39m _DEFAULT_BACKEND, \u001B[38;5;241m*\u001B[39m\u001B[38;5;241m*\u001B[39mbackend_options\n\u001B[0;32m     43\u001B[0m ) \u001B[38;5;241m-\u001B[39m\u001B[38;5;241m>\u001B[39m DFA:\n\u001B[0;32m     44\u001B[0m \u001B[38;5;250m    \u001B[39m\u001B[38;5;124;03m\"\"\"\u001B[39;00m\n\u001B[0;32m     45\u001B[0m \u001B[38;5;124;03m    From LTL to DFA.\u001B[39;00m\n\u001B[0;32m     46\u001B[0m \n\u001B[1;32m   (...)\u001B[0m\n\u001B[0;32m     50\u001B[0m \u001B[38;5;124;03m    :return: the DFA.\u001B[39;00m\n\u001B[0;32m     51\u001B[0m \u001B[38;5;124;03m    \"\"\"\u001B[39;00m\n\u001B[1;32m---> 52\u001B[0m     \u001B[38;5;28;01mreturn\u001B[39;00m \u001B[43m_call_method\u001B[49m\u001B[43m(\u001B[49m\u001B[43mformula\u001B[49m\u001B[43m,\u001B[49m\u001B[43m \u001B[49m\u001B[43mbackend\u001B[49m\u001B[43m,\u001B[49m\u001B[43m \u001B[49m\u001B[43mltl2dfa\u001B[49m\u001B[38;5;241;43m.\u001B[39;49m\u001B[38;5;18;43m__name__\u001B[39;49m\u001B[43m,\u001B[49m\u001B[43m \u001B[49m\u001B[38;5;241;43m*\u001B[39;49m\u001B[38;5;241;43m*\u001B[39;49m\u001B[43mbackend_options\u001B[49m\u001B[43m)\u001B[49m\n",
      "File \u001B[1;32m~\\miniconda3\\envs\\Declare4Py\\lib\\site-packages\\logaut\\core.py:38\u001B[0m, in \u001B[0;36m_call_method\u001B[1;34m(formula, backend_id, method_name, **backend_options)\u001B[0m\n\u001B[0;32m     36\u001B[0m backend \u001B[38;5;241m=\u001B[39m logaut\u001B[38;5;241m.\u001B[39mbackends\u001B[38;5;241m.\u001B[39mmake(backend_id, \u001B[38;5;241m*\u001B[39m\u001B[38;5;241m*\u001B[39mbackend_options)\n\u001B[0;32m     37\u001B[0m method \u001B[38;5;241m=\u001B[39m \u001B[38;5;28mgetattr\u001B[39m(backend, method_name)\n\u001B[1;32m---> 38\u001B[0m \u001B[38;5;28;01mreturn\u001B[39;00m \u001B[43mmethod\u001B[49m\u001B[43m(\u001B[49m\u001B[43mformula\u001B[49m\u001B[43m)\u001B[49m\n",
      "File \u001B[1;32m~\\miniconda3\\envs\\Declare4Py\\lib\\site-packages\\logaut\\backends\\lydia\\core.py:73\u001B[0m, in \u001B[0;36mLydiaBackend.ltl2dfa\u001B[1;34m(self, formula)\u001B[0m\n\u001B[0;32m     71\u001B[0m \u001B[38;5;28;01mdef\u001B[39;00m \u001B[38;5;21mltl2dfa\u001B[39m(\u001B[38;5;28mself\u001B[39m, formula: Formula) \u001B[38;5;241m-\u001B[39m\u001B[38;5;241m>\u001B[39m DFA:\n\u001B[0;32m     72\u001B[0m \u001B[38;5;250m    \u001B[39m\u001B[38;5;124;03m\"\"\"From LTL to DFA.\"\"\"\u001B[39;00m\n\u001B[1;32m---> 73\u001B[0m     \u001B[38;5;28;01mreturn\u001B[39;00m \u001B[43m_process_formula\u001B[49m\u001B[43m(\u001B[49m\u001B[43mformula\u001B[49m\u001B[43m)\u001B[49m\n",
      "File \u001B[1;32m~\\miniconda3\\envs\\Declare4Py\\lib\\site-packages\\logaut\\backends\\lydia\\core.py:92\u001B[0m, in \u001B[0;36m_process_formula\u001B[1;34m(formula)\u001B[0m\n\u001B[0;32m     89\u001B[0m     tmpfile \u001B[38;5;241m=\u001B[39m tmpfile\u001B[38;5;241m.\u001B[39mresolve()\n\u001B[0;32m     90\u001B[0m     tmpfile\u001B[38;5;241m.\u001B[39mwrite_text(formula_str)\n\u001B[1;32m---> 92\u001B[0m     output \u001B[38;5;241m=\u001B[39m \u001B[43mcall_lydia\u001B[49m\u001B[43m(\u001B[49m\n\u001B[0;32m     93\u001B[0m \u001B[43m        \u001B[49m\u001B[38;5;124;43mf\u001B[39;49m\u001B[38;5;124;43m\"\u001B[39;49m\u001B[38;5;124;43m--logic=\u001B[39;49m\u001B[38;5;132;43;01m{\u001B[39;49;00m\u001B[43mformula\u001B[49m\u001B[38;5;241;43m.\u001B[39;49m\u001B[43mlogic\u001B[49m\u001B[38;5;241;43m.\u001B[39;49m\u001B[43mvalue\u001B[49m\u001B[38;5;132;43;01m}\u001B[39;49;00m\u001B[38;5;124;43mf\u001B[39;49m\u001B[38;5;124;43m\"\u001B[39;49m\u001B[43m,\u001B[49m\n\u001B[0;32m     94\u001B[0m \u001B[43m        \u001B[49m\u001B[38;5;124;43mf\u001B[39;49m\u001B[38;5;124;43m\"\u001B[39;49m\u001B[38;5;124;43m--file=\u001B[39;49m\u001B[38;5;132;43;01m{\u001B[39;49;00m\u001B[43mtmpfilename\u001B[49m\u001B[38;5;132;43;01m}\u001B[39;49;00m\u001B[38;5;124;43m\"\u001B[39;49m\u001B[43m,\u001B[49m\n\u001B[0;32m     95\u001B[0m \u001B[43m        \u001B[49m\u001B[38;5;124;43m\"\u001B[39;49m\u001B[38;5;124;43m-p\u001B[39;49m\u001B[38;5;124;43m\"\u001B[39;49m\u001B[43m,\u001B[49m\n\u001B[0;32m     96\u001B[0m \u001B[43m        \u001B[49m\u001B[43mcwd\u001B[49m\u001B[38;5;241;43m=\u001B[39;49m\u001B[38;5;28;43mstr\u001B[39;49m\u001B[43m(\u001B[49m\u001B[43mtmpdir\u001B[49m\u001B[43m)\u001B[49m\u001B[43m,\u001B[49m\n\u001B[0;32m     97\u001B[0m \u001B[43m    \u001B[49m\u001B[43m)\u001B[49m\n\u001B[0;32m     98\u001B[0m mona_output_string \u001B[38;5;241m=\u001B[39m postprocess_lydia_output(output)\n\u001B[0;32m     99\u001B[0m mona_output \u001B[38;5;241m=\u001B[39m parse_mona_output(mona_output_string)\n",
      "File \u001B[1;32m~\\miniconda3\\envs\\Declare4Py\\lib\\site-packages\\logaut\\backends\\lydia\\_lydia_utils.py:52\u001B[0m, in \u001B[0;36mcall_lydia\u001B[1;34m(cwd, *args)\u001B[0m\n\u001B[0;32m     48\u001B[0m     \u001B[38;5;28;01mraise\u001B[39;00m \u001B[38;5;167;01mException\u001B[39;00m(  \u001B[38;5;66;03m# type: ignore\u001B[39;00m\n\u001B[0;32m     49\u001B[0m         \u001B[38;5;124mf\u001B[39m\u001B[38;5;124m\"\u001B[39m\u001B[38;5;124mthe Lydia command \u001B[39m\u001B[38;5;132;01m{\u001B[39;00m\u001B[38;5;124m'\u001B[39m\u001B[38;5;124m \u001B[39m\u001B[38;5;124m'\u001B[39m\u001B[38;5;241m.\u001B[39mjoin(command)\u001B[38;5;132;01m}\u001B[39;00m\u001B[38;5;124m failed.\u001B[39m\u001B[38;5;130;01m\\n\u001B[39;00m\u001B[38;5;124mstdout=\u001B[39m\u001B[38;5;132;01m{\u001B[39;00moutput\u001B[38;5;132;01m}\u001B[39;00m\u001B[38;5;130;01m\\n\u001B[39;00m\u001B[38;5;124mstderr=\u001B[39m\u001B[38;5;132;01m{\u001B[39;00mstderr\u001B[38;5;132;01m}\u001B[39;00m\u001B[38;5;124m\"\u001B[39m\n\u001B[0;32m     50\u001B[0m     )\n\u001B[0;32m     51\u001B[0m \u001B[38;5;28;01mexcept\u001B[39;00m \u001B[38;5;167;01mException\u001B[39;00m \u001B[38;5;28;01mas\u001B[39;00m e:\n\u001B[1;32m---> 52\u001B[0m     \u001B[38;5;28;01mraise\u001B[39;00m \u001B[38;5;167;01mException\u001B[39;00m(\u001B[38;5;124mf\u001B[39m\u001B[38;5;124m\"\u001B[39m\u001B[38;5;124man error occurred while running lydia: \u001B[39m\u001B[38;5;132;01m{\u001B[39;00m\u001B[38;5;28mstr\u001B[39m(e)\u001B[38;5;132;01m}\u001B[39;00m\u001B[38;5;124m\"\u001B[39m) \u001B[38;5;28;01mfrom\u001B[39;00m \u001B[38;5;21;01me\u001B[39;00m\n",
      "\u001B[1;31mException\u001B[0m: an error occurred while running lydia: [WinError 2] Impossibile trovare il file specificato"
     ]
    }
   ],
   "execution_count": 25
  },
  {
   "cell_type": "markdown",
   "id": "7f8af065",
   "metadata": {},
   "source": [
    "### Checking an LTLf model satisfiability\n",
    "\n",
    "An LTLf model can be checked according to its satisfiability (i.e., whether it is satisfiable by a trace or not) with the `check_satisfiability` method. This is done by transforming the LTLf formula into a Deterministic Finite state Automaton (DFA) and checking its emptyness. This transformation is performed by using two backends:\n",
    "\n",
    " - Lydia, C++ backend that needs to be installed with Docker, more details [here](https://github.com/whitemech/logaut/tree/main);\n",
    " - LTLf2DFA, that needs to be installed with `pip install git+https://github.com/whitemech/LTLf2DFA.git@develop#egg=ltlf2dfa`. More details [here](https://github.com/whitemech/LTLf2DFA/).\n",
    " \n",
    "Declare4Py provides the `to_ltlf2dfa_backend` and `to_lydia_backend` methods to switch the backends of the LTLf model. The default backend is Lydia.\n",
    "\n",
    "The `check_satisfiability` method takes as input the `minimize_automaton` boolean parameter (with `True` as default) that performs the minimization of the resulting DFA before the satisfiability checking."
   ]
  },
  {
   "cell_type": "code",
   "id": "beece8db",
   "metadata": {
    "ExecuteTime": {
     "end_time": "2024-05-07T11:46:47.548919Z",
     "start_time": "2024-05-07T11:46:47.455918Z"
    }
   },
   "source": [
    "model.parse_from_string(\"CRP & X[!](F(ER Triage && X[!](F(Admission NC))))\")\n",
    "print(f\"{model.formula} is satisfiable? {model.check_satisfiability()}\")\n",
    "\n",
    "model.parse_from_string(\"G(CRP) && F(!(CRP))\")\n",
    "print(f\"{model.formula} is satisfiable? {model.check_satisfiability(minimize_automaton=False)}\" )\n",
    "\n",
    "#model.to_ltlf2dfa_backend()\n",
    "#model.parse_from_string(\"CRP & X(F(ER Triage && X(F(Admission NC))))\")\n",
    "#print(f\"{model.formula} is satisfiable? {model.check_satisfiability()}\")"
   ],
   "outputs": [
    {
     "ename": "Exception",
     "evalue": "an error occurred while running lydia: [WinError 2] Impossibile trovare il file specificato",
     "output_type": "error",
     "traceback": [
      "\u001B[1;31m---------------------------------------------------------------------------\u001B[0m",
      "\u001B[1;31mFileNotFoundError\u001B[0m                         Traceback (most recent call last)",
      "File \u001B[1;32m~\\miniconda3\\envs\\Declare4Py\\lib\\site-packages\\logaut\\backends\\lydia\\_lydia_utils.py:40\u001B[0m, in \u001B[0;36mcall_lydia\u001B[1;34m(cwd, *args)\u001B[0m\n\u001B[0;32m     39\u001B[0m \u001B[38;5;28;01mtry\u001B[39;00m:\n\u001B[1;32m---> 40\u001B[0m     result \u001B[38;5;241m=\u001B[39m \u001B[43msubprocess\u001B[49m\u001B[38;5;241;43m.\u001B[39;49m\u001B[43mrun\u001B[49m\u001B[43m(\u001B[49m\n\u001B[0;32m     41\u001B[0m \u001B[43m        \u001B[49m\u001B[43mcommand\u001B[49m\u001B[43m,\u001B[49m\u001B[43m \u001B[49m\u001B[43mstdout\u001B[49m\u001B[38;5;241;43m=\u001B[39;49m\u001B[43msubprocess\u001B[49m\u001B[38;5;241;43m.\u001B[39;49m\u001B[43mPIPE\u001B[49m\u001B[43m,\u001B[49m\u001B[43m \u001B[49m\u001B[43mstderr\u001B[49m\u001B[38;5;241;43m=\u001B[39;49m\u001B[43msubprocess\u001B[49m\u001B[38;5;241;43m.\u001B[39;49m\u001B[43mPIPE\u001B[49m\u001B[43m,\u001B[49m\u001B[43m \u001B[49m\u001B[43mcwd\u001B[49m\u001B[38;5;241;43m=\u001B[39;49m\u001B[43mcwd\u001B[49m\n\u001B[0;32m     42\u001B[0m \u001B[43m    \u001B[49m\u001B[43m)\u001B[49m\n\u001B[0;32m     43\u001B[0m     output \u001B[38;5;241m=\u001B[39m result\u001B[38;5;241m.\u001B[39mstdout\u001B[38;5;241m.\u001B[39mdecode()\n",
      "File \u001B[1;32m~\\miniconda3\\envs\\Declare4Py\\lib\\subprocess.py:493\u001B[0m, in \u001B[0;36mrun\u001B[1;34m(input, capture_output, timeout, check, *popenargs, **kwargs)\u001B[0m\n\u001B[0;32m    491\u001B[0m     kwargs[\u001B[38;5;124m'\u001B[39m\u001B[38;5;124mstderr\u001B[39m\u001B[38;5;124m'\u001B[39m] \u001B[38;5;241m=\u001B[39m PIPE\n\u001B[1;32m--> 493\u001B[0m \u001B[38;5;28;01mwith\u001B[39;00m \u001B[43mPopen\u001B[49m\u001B[43m(\u001B[49m\u001B[38;5;241;43m*\u001B[39;49m\u001B[43mpopenargs\u001B[49m\u001B[43m,\u001B[49m\u001B[43m \u001B[49m\u001B[38;5;241;43m*\u001B[39;49m\u001B[38;5;241;43m*\u001B[39;49m\u001B[43mkwargs\u001B[49m\u001B[43m)\u001B[49m \u001B[38;5;28;01mas\u001B[39;00m process:\n\u001B[0;32m    494\u001B[0m     \u001B[38;5;28;01mtry\u001B[39;00m:\n",
      "File \u001B[1;32m~\\miniconda3\\envs\\Declare4Py\\lib\\subprocess.py:858\u001B[0m, in \u001B[0;36mPopen.__init__\u001B[1;34m(self, args, bufsize, executable, stdin, stdout, stderr, preexec_fn, close_fds, shell, cwd, env, universal_newlines, startupinfo, creationflags, restore_signals, start_new_session, pass_fds, encoding, errors, text)\u001B[0m\n\u001B[0;32m    855\u001B[0m             \u001B[38;5;28mself\u001B[39m\u001B[38;5;241m.\u001B[39mstderr \u001B[38;5;241m=\u001B[39m io\u001B[38;5;241m.\u001B[39mTextIOWrapper(\u001B[38;5;28mself\u001B[39m\u001B[38;5;241m.\u001B[39mstderr,\n\u001B[0;32m    856\u001B[0m                     encoding\u001B[38;5;241m=\u001B[39mencoding, errors\u001B[38;5;241m=\u001B[39merrors)\n\u001B[1;32m--> 858\u001B[0m     \u001B[38;5;28;43mself\u001B[39;49m\u001B[38;5;241;43m.\u001B[39;49m\u001B[43m_execute_child\u001B[49m\u001B[43m(\u001B[49m\u001B[43margs\u001B[49m\u001B[43m,\u001B[49m\u001B[43m \u001B[49m\u001B[43mexecutable\u001B[49m\u001B[43m,\u001B[49m\u001B[43m \u001B[49m\u001B[43mpreexec_fn\u001B[49m\u001B[43m,\u001B[49m\u001B[43m \u001B[49m\u001B[43mclose_fds\u001B[49m\u001B[43m,\u001B[49m\n\u001B[0;32m    859\u001B[0m \u001B[43m                        \u001B[49m\u001B[43mpass_fds\u001B[49m\u001B[43m,\u001B[49m\u001B[43m \u001B[49m\u001B[43mcwd\u001B[49m\u001B[43m,\u001B[49m\u001B[43m \u001B[49m\u001B[43menv\u001B[49m\u001B[43m,\u001B[49m\n\u001B[0;32m    860\u001B[0m \u001B[43m                        \u001B[49m\u001B[43mstartupinfo\u001B[49m\u001B[43m,\u001B[49m\u001B[43m \u001B[49m\u001B[43mcreationflags\u001B[49m\u001B[43m,\u001B[49m\u001B[43m \u001B[49m\u001B[43mshell\u001B[49m\u001B[43m,\u001B[49m\n\u001B[0;32m    861\u001B[0m \u001B[43m                        \u001B[49m\u001B[43mp2cread\u001B[49m\u001B[43m,\u001B[49m\u001B[43m \u001B[49m\u001B[43mp2cwrite\u001B[49m\u001B[43m,\u001B[49m\n\u001B[0;32m    862\u001B[0m \u001B[43m                        \u001B[49m\u001B[43mc2pread\u001B[49m\u001B[43m,\u001B[49m\u001B[43m \u001B[49m\u001B[43mc2pwrite\u001B[49m\u001B[43m,\u001B[49m\n\u001B[0;32m    863\u001B[0m \u001B[43m                        \u001B[49m\u001B[43merrread\u001B[49m\u001B[43m,\u001B[49m\u001B[43m \u001B[49m\u001B[43merrwrite\u001B[49m\u001B[43m,\u001B[49m\n\u001B[0;32m    864\u001B[0m \u001B[43m                        \u001B[49m\u001B[43mrestore_signals\u001B[49m\u001B[43m,\u001B[49m\u001B[43m \u001B[49m\u001B[43mstart_new_session\u001B[49m\u001B[43m)\u001B[49m\n\u001B[0;32m    865\u001B[0m \u001B[38;5;28;01mexcept\u001B[39;00m:\n\u001B[0;32m    866\u001B[0m     \u001B[38;5;66;03m# Cleanup if the child failed starting.\u001B[39;00m\n",
      "File \u001B[1;32m~\\miniconda3\\envs\\Declare4Py\\lib\\subprocess.py:1327\u001B[0m, in \u001B[0;36mPopen._execute_child\u001B[1;34m(self, args, executable, preexec_fn, close_fds, pass_fds, cwd, env, startupinfo, creationflags, shell, p2cread, p2cwrite, c2pread, c2pwrite, errread, errwrite, unused_restore_signals, unused_start_new_session)\u001B[0m\n\u001B[0;32m   1326\u001B[0m \u001B[38;5;28;01mtry\u001B[39;00m:\n\u001B[1;32m-> 1327\u001B[0m     hp, ht, pid, tid \u001B[38;5;241m=\u001B[39m \u001B[43m_winapi\u001B[49m\u001B[38;5;241;43m.\u001B[39;49m\u001B[43mCreateProcess\u001B[49m\u001B[43m(\u001B[49m\u001B[43mexecutable\u001B[49m\u001B[43m,\u001B[49m\u001B[43m \u001B[49m\u001B[43margs\u001B[49m\u001B[43m,\u001B[49m\n\u001B[0;32m   1328\u001B[0m \u001B[43m                             \u001B[49m\u001B[38;5;66;43;03m# no special security\u001B[39;49;00m\n\u001B[0;32m   1329\u001B[0m \u001B[43m                             \u001B[49m\u001B[38;5;28;43;01mNone\u001B[39;49;00m\u001B[43m,\u001B[49m\u001B[43m \u001B[49m\u001B[38;5;28;43;01mNone\u001B[39;49;00m\u001B[43m,\u001B[49m\n\u001B[0;32m   1330\u001B[0m \u001B[43m                             \u001B[49m\u001B[38;5;28;43mint\u001B[39;49m\u001B[43m(\u001B[49m\u001B[38;5;129;43;01mnot\u001B[39;49;00m\u001B[43m \u001B[49m\u001B[43mclose_fds\u001B[49m\u001B[43m)\u001B[49m\u001B[43m,\u001B[49m\n\u001B[0;32m   1331\u001B[0m \u001B[43m                             \u001B[49m\u001B[43mcreationflags\u001B[49m\u001B[43m,\u001B[49m\n\u001B[0;32m   1332\u001B[0m \u001B[43m                             \u001B[49m\u001B[43menv\u001B[49m\u001B[43m,\u001B[49m\n\u001B[0;32m   1333\u001B[0m \u001B[43m                             \u001B[49m\u001B[43mcwd\u001B[49m\u001B[43m,\u001B[49m\n\u001B[0;32m   1334\u001B[0m \u001B[43m                             \u001B[49m\u001B[43mstartupinfo\u001B[49m\u001B[43m)\u001B[49m\n\u001B[0;32m   1335\u001B[0m \u001B[38;5;28;01mfinally\u001B[39;00m:\n\u001B[0;32m   1336\u001B[0m     \u001B[38;5;66;03m# Child is launched. Close the parent's copy of those pipe\u001B[39;00m\n\u001B[0;32m   1337\u001B[0m     \u001B[38;5;66;03m# handles that only the child should have open.  You need\u001B[39;00m\n\u001B[1;32m   (...)\u001B[0m\n\u001B[0;32m   1340\u001B[0m     \u001B[38;5;66;03m# pipe will not close when the child process exits and the\u001B[39;00m\n\u001B[0;32m   1341\u001B[0m     \u001B[38;5;66;03m# ReadFile will hang.\u001B[39;00m\n",
      "\u001B[1;31mFileNotFoundError\u001B[0m: [WinError 2] Impossibile trovare il file specificato",
      "\nThe above exception was the direct cause of the following exception:\n",
      "\u001B[1;31mException\u001B[0m                                 Traceback (most recent call last)",
      "Cell \u001B[1;32mIn[26], line 2\u001B[0m\n\u001B[0;32m      1\u001B[0m model\u001B[38;5;241m.\u001B[39mparse_from_string(\u001B[38;5;124m\"\u001B[39m\u001B[38;5;124mCRP & X[!](F(ER Triage && X[!](F(Admission NC))))\u001B[39m\u001B[38;5;124m\"\u001B[39m)\n\u001B[1;32m----> 2\u001B[0m \u001B[38;5;28mprint\u001B[39m(\u001B[38;5;124mf\u001B[39m\u001B[38;5;124m\"\u001B[39m\u001B[38;5;132;01m{\u001B[39;00mmodel\u001B[38;5;241m.\u001B[39mformula\u001B[38;5;132;01m}\u001B[39;00m\u001B[38;5;124m is satisfiable? \u001B[39m\u001B[38;5;132;01m{\u001B[39;00mmodel\u001B[38;5;241m.\u001B[39mcheck_satisfiability()\u001B[38;5;132;01m}\u001B[39;00m\u001B[38;5;124m\"\u001B[39m)\n\u001B[0;32m      4\u001B[0m model\u001B[38;5;241m.\u001B[39mparse_from_string(\u001B[38;5;124m\"\u001B[39m\u001B[38;5;124mG(CRP) && F(!(CRP))\u001B[39m\u001B[38;5;124m\"\u001B[39m)\n\u001B[0;32m      5\u001B[0m \u001B[38;5;28mprint\u001B[39m(\u001B[38;5;124mf\u001B[39m\u001B[38;5;124m\"\u001B[39m\u001B[38;5;132;01m{\u001B[39;00mmodel\u001B[38;5;241m.\u001B[39mformula\u001B[38;5;132;01m}\u001B[39;00m\u001B[38;5;124m is satisfiable? \u001B[39m\u001B[38;5;132;01m{\u001B[39;00mmodel\u001B[38;5;241m.\u001B[39mcheck_satisfiability(minimize_automaton\u001B[38;5;241m=\u001B[39m\u001B[38;5;28;01mFalse\u001B[39;00m)\u001B[38;5;132;01m}\u001B[39;00m\u001B[38;5;124m\"\u001B[39m )\n",
      "File \u001B[1;32m~\\Desktop\\Repository\\python\\Tesi\\Declare4Py\\Declare4Py\\ProcessModels\\LTLModel.py:149\u001B[0m, in \u001B[0;36mLTLModel.check_satisfiability\u001B[1;34m(self, minimize_automaton)\u001B[0m\n\u001B[0;32m    147\u001B[0m \u001B[38;5;28;01mif\u001B[39;00m \u001B[38;5;28mself\u001B[39m\u001B[38;5;241m.\u001B[39mbackend \u001B[38;5;129;01mnot\u001B[39;00m \u001B[38;5;129;01min\u001B[39;00m [\u001B[38;5;124m\"\u001B[39m\u001B[38;5;124mlydia\u001B[39m\u001B[38;5;124m\"\u001B[39m, \u001B[38;5;124m\"\u001B[39m\u001B[38;5;124mltlf2dfa\u001B[39m\u001B[38;5;124m\"\u001B[39m]:\n\u001B[0;32m    148\u001B[0m     \u001B[38;5;28;01mraise\u001B[39;00m \u001B[38;5;167;01mRuntimeError\u001B[39;00m(\u001B[38;5;124m\"\u001B[39m\u001B[38;5;124mOnly lydia and ltlf2dfa are supported backends.\u001B[39m\u001B[38;5;124m\"\u001B[39m)\n\u001B[1;32m--> 149\u001B[0m dfa \u001B[38;5;241m=\u001B[39m \u001B[43mltl2dfa\u001B[49m\u001B[43m(\u001B[49m\u001B[38;5;28;43mself\u001B[39;49m\u001B[38;5;241;43m.\u001B[39;49m\u001B[43mparsed_formula\u001B[49m\u001B[43m,\u001B[49m\u001B[43m \u001B[49m\u001B[43mbackend\u001B[49m\u001B[38;5;241;43m=\u001B[39;49m\u001B[38;5;28;43mself\u001B[39;49m\u001B[38;5;241;43m.\u001B[39;49m\u001B[43mbackend\u001B[49m\u001B[43m)\u001B[49m\n\u001B[0;32m    150\u001B[0m \u001B[38;5;28;01mif\u001B[39;00m minimize_automaton:\n\u001B[0;32m    151\u001B[0m     dfa \u001B[38;5;241m=\u001B[39m dfa\u001B[38;5;241m.\u001B[39mminimize()\n",
      "File \u001B[1;32m~\\miniconda3\\envs\\Declare4Py\\lib\\site-packages\\logaut\\core.py:52\u001B[0m, in \u001B[0;36mltl2dfa\u001B[1;34m(formula, backend, **backend_options)\u001B[0m\n\u001B[0;32m     41\u001B[0m \u001B[38;5;28;01mdef\u001B[39;00m \u001B[38;5;21mltl2dfa\u001B[39m(\n\u001B[0;32m     42\u001B[0m     formula: Formula, backend: \u001B[38;5;28mstr\u001B[39m \u001B[38;5;241m=\u001B[39m _DEFAULT_BACKEND, \u001B[38;5;241m*\u001B[39m\u001B[38;5;241m*\u001B[39mbackend_options\n\u001B[0;32m     43\u001B[0m ) \u001B[38;5;241m-\u001B[39m\u001B[38;5;241m>\u001B[39m DFA:\n\u001B[0;32m     44\u001B[0m \u001B[38;5;250m    \u001B[39m\u001B[38;5;124;03m\"\"\"\u001B[39;00m\n\u001B[0;32m     45\u001B[0m \u001B[38;5;124;03m    From LTL to DFA.\u001B[39;00m\n\u001B[0;32m     46\u001B[0m \n\u001B[1;32m   (...)\u001B[0m\n\u001B[0;32m     50\u001B[0m \u001B[38;5;124;03m    :return: the DFA.\u001B[39;00m\n\u001B[0;32m     51\u001B[0m \u001B[38;5;124;03m    \"\"\"\u001B[39;00m\n\u001B[1;32m---> 52\u001B[0m     \u001B[38;5;28;01mreturn\u001B[39;00m \u001B[43m_call_method\u001B[49m\u001B[43m(\u001B[49m\u001B[43mformula\u001B[49m\u001B[43m,\u001B[49m\u001B[43m \u001B[49m\u001B[43mbackend\u001B[49m\u001B[43m,\u001B[49m\u001B[43m \u001B[49m\u001B[43mltl2dfa\u001B[49m\u001B[38;5;241;43m.\u001B[39;49m\u001B[38;5;18;43m__name__\u001B[39;49m\u001B[43m,\u001B[49m\u001B[43m \u001B[49m\u001B[38;5;241;43m*\u001B[39;49m\u001B[38;5;241;43m*\u001B[39;49m\u001B[43mbackend_options\u001B[49m\u001B[43m)\u001B[49m\n",
      "File \u001B[1;32m~\\miniconda3\\envs\\Declare4Py\\lib\\site-packages\\logaut\\core.py:38\u001B[0m, in \u001B[0;36m_call_method\u001B[1;34m(formula, backend_id, method_name, **backend_options)\u001B[0m\n\u001B[0;32m     36\u001B[0m backend \u001B[38;5;241m=\u001B[39m logaut\u001B[38;5;241m.\u001B[39mbackends\u001B[38;5;241m.\u001B[39mmake(backend_id, \u001B[38;5;241m*\u001B[39m\u001B[38;5;241m*\u001B[39mbackend_options)\n\u001B[0;32m     37\u001B[0m method \u001B[38;5;241m=\u001B[39m \u001B[38;5;28mgetattr\u001B[39m(backend, method_name)\n\u001B[1;32m---> 38\u001B[0m \u001B[38;5;28;01mreturn\u001B[39;00m \u001B[43mmethod\u001B[49m\u001B[43m(\u001B[49m\u001B[43mformula\u001B[49m\u001B[43m)\u001B[49m\n",
      "File \u001B[1;32m~\\miniconda3\\envs\\Declare4Py\\lib\\site-packages\\logaut\\backends\\lydia\\core.py:73\u001B[0m, in \u001B[0;36mLydiaBackend.ltl2dfa\u001B[1;34m(self, formula)\u001B[0m\n\u001B[0;32m     71\u001B[0m \u001B[38;5;28;01mdef\u001B[39;00m \u001B[38;5;21mltl2dfa\u001B[39m(\u001B[38;5;28mself\u001B[39m, formula: Formula) \u001B[38;5;241m-\u001B[39m\u001B[38;5;241m>\u001B[39m DFA:\n\u001B[0;32m     72\u001B[0m \u001B[38;5;250m    \u001B[39m\u001B[38;5;124;03m\"\"\"From LTL to DFA.\"\"\"\u001B[39;00m\n\u001B[1;32m---> 73\u001B[0m     \u001B[38;5;28;01mreturn\u001B[39;00m \u001B[43m_process_formula\u001B[49m\u001B[43m(\u001B[49m\u001B[43mformula\u001B[49m\u001B[43m)\u001B[49m\n",
      "File \u001B[1;32m~\\miniconda3\\envs\\Declare4Py\\lib\\site-packages\\logaut\\backends\\lydia\\core.py:92\u001B[0m, in \u001B[0;36m_process_formula\u001B[1;34m(formula)\u001B[0m\n\u001B[0;32m     89\u001B[0m     tmpfile \u001B[38;5;241m=\u001B[39m tmpfile\u001B[38;5;241m.\u001B[39mresolve()\n\u001B[0;32m     90\u001B[0m     tmpfile\u001B[38;5;241m.\u001B[39mwrite_text(formula_str)\n\u001B[1;32m---> 92\u001B[0m     output \u001B[38;5;241m=\u001B[39m \u001B[43mcall_lydia\u001B[49m\u001B[43m(\u001B[49m\n\u001B[0;32m     93\u001B[0m \u001B[43m        \u001B[49m\u001B[38;5;124;43mf\u001B[39;49m\u001B[38;5;124;43m\"\u001B[39;49m\u001B[38;5;124;43m--logic=\u001B[39;49m\u001B[38;5;132;43;01m{\u001B[39;49;00m\u001B[43mformula\u001B[49m\u001B[38;5;241;43m.\u001B[39;49m\u001B[43mlogic\u001B[49m\u001B[38;5;241;43m.\u001B[39;49m\u001B[43mvalue\u001B[49m\u001B[38;5;132;43;01m}\u001B[39;49;00m\u001B[38;5;124;43mf\u001B[39;49m\u001B[38;5;124;43m\"\u001B[39;49m\u001B[43m,\u001B[49m\n\u001B[0;32m     94\u001B[0m \u001B[43m        \u001B[49m\u001B[38;5;124;43mf\u001B[39;49m\u001B[38;5;124;43m\"\u001B[39;49m\u001B[38;5;124;43m--file=\u001B[39;49m\u001B[38;5;132;43;01m{\u001B[39;49;00m\u001B[43mtmpfilename\u001B[49m\u001B[38;5;132;43;01m}\u001B[39;49;00m\u001B[38;5;124;43m\"\u001B[39;49m\u001B[43m,\u001B[49m\n\u001B[0;32m     95\u001B[0m \u001B[43m        \u001B[49m\u001B[38;5;124;43m\"\u001B[39;49m\u001B[38;5;124;43m-p\u001B[39;49m\u001B[38;5;124;43m\"\u001B[39;49m\u001B[43m,\u001B[49m\n\u001B[0;32m     96\u001B[0m \u001B[43m        \u001B[49m\u001B[43mcwd\u001B[49m\u001B[38;5;241;43m=\u001B[39;49m\u001B[38;5;28;43mstr\u001B[39;49m\u001B[43m(\u001B[49m\u001B[43mtmpdir\u001B[49m\u001B[43m)\u001B[49m\u001B[43m,\u001B[49m\n\u001B[0;32m     97\u001B[0m \u001B[43m    \u001B[49m\u001B[43m)\u001B[49m\n\u001B[0;32m     98\u001B[0m mona_output_string \u001B[38;5;241m=\u001B[39m postprocess_lydia_output(output)\n\u001B[0;32m     99\u001B[0m mona_output \u001B[38;5;241m=\u001B[39m parse_mona_output(mona_output_string)\n",
      "File \u001B[1;32m~\\miniconda3\\envs\\Declare4Py\\lib\\site-packages\\logaut\\backends\\lydia\\_lydia_utils.py:52\u001B[0m, in \u001B[0;36mcall_lydia\u001B[1;34m(cwd, *args)\u001B[0m\n\u001B[0;32m     48\u001B[0m     \u001B[38;5;28;01mraise\u001B[39;00m \u001B[38;5;167;01mException\u001B[39;00m(  \u001B[38;5;66;03m# type: ignore\u001B[39;00m\n\u001B[0;32m     49\u001B[0m         \u001B[38;5;124mf\u001B[39m\u001B[38;5;124m\"\u001B[39m\u001B[38;5;124mthe Lydia command \u001B[39m\u001B[38;5;132;01m{\u001B[39;00m\u001B[38;5;124m'\u001B[39m\u001B[38;5;124m \u001B[39m\u001B[38;5;124m'\u001B[39m\u001B[38;5;241m.\u001B[39mjoin(command)\u001B[38;5;132;01m}\u001B[39;00m\u001B[38;5;124m failed.\u001B[39m\u001B[38;5;130;01m\\n\u001B[39;00m\u001B[38;5;124mstdout=\u001B[39m\u001B[38;5;132;01m{\u001B[39;00moutput\u001B[38;5;132;01m}\u001B[39;00m\u001B[38;5;130;01m\\n\u001B[39;00m\u001B[38;5;124mstderr=\u001B[39m\u001B[38;5;132;01m{\u001B[39;00mstderr\u001B[38;5;132;01m}\u001B[39;00m\u001B[38;5;124m\"\u001B[39m\n\u001B[0;32m     50\u001B[0m     )\n\u001B[0;32m     51\u001B[0m \u001B[38;5;28;01mexcept\u001B[39;00m \u001B[38;5;167;01mException\u001B[39;00m \u001B[38;5;28;01mas\u001B[39;00m e:\n\u001B[1;32m---> 52\u001B[0m     \u001B[38;5;28;01mraise\u001B[39;00m \u001B[38;5;167;01mException\u001B[39;00m(\u001B[38;5;124mf\u001B[39m\u001B[38;5;124m\"\u001B[39m\u001B[38;5;124man error occurred while running lydia: \u001B[39m\u001B[38;5;132;01m{\u001B[39;00m\u001B[38;5;28mstr\u001B[39m(e)\u001B[38;5;132;01m}\u001B[39;00m\u001B[38;5;124m\"\u001B[39m) \u001B[38;5;28;01mfrom\u001B[39;00m \u001B[38;5;21;01me\u001B[39;00m\n",
      "\u001B[1;31mException\u001B[0m: an error occurred while running lydia: [WinError 2] Impossibile trovare il file specificato"
     ]
    }
   ],
   "execution_count": 26
  },
  {
   "cell_type": "markdown",
   "id": "ae747b9e",
   "metadata": {},
   "source": [
    "### The `LTLTemplate` class\n",
    "\n",
    "The `LTLTemplate` class in `src.Declare4Py.ProcessModels.LTLModel` provides a set of useful LTLf templates. This set contains simple LTLf templates and [Target-Branched DECLARE templates](https://www.sciencedirect.com/science/article/pii/S0306437915001271). Here, we just list them and their corresponding LTLf formulas. A more detailed use will be shown in the tutorial of the conformance checking with LTLf models.\n",
    "\n",
    "An LTLf template can be instantiated by providing the name of the template to the `LTLTemplate` class. Then, the template has to be filled with proper activity names with the `fill_template()` method:"
   ]
  },
  {
   "cell_type": "code",
   "id": "6dec85fe",
   "metadata": {
    "ExecuteTime": {
     "end_time": "2024-05-07T11:46:49.060898Z",
     "start_time": "2024-05-07T11:46:49.046898Z"
    }
   },
   "source": [
    "from Declare4Py.ProcessModels.LTLModel import LTLTemplate\n",
    "\n",
    "template = LTLTemplate('eventually_a_then_b')\n",
    "model = template.fill_template(['Leucocytes', 'CRP'])\n",
    "print(f\"Formula for {template.template_str}: {model.formula}\")"
   ],
   "outputs": [
    {
     "name": "stdout",
     "output_type": "stream",
     "text": [
      "Formula for eventually_a_then_b: F(con_leucocytes  && F(con_crp))\n"
     ]
    }
   ],
   "execution_count": 27
  },
  {
   "cell_type": "markdown",
   "id": "607ed54d",
   "metadata": {},
   "source": [
    "Declare4Py provides the following set of simple LTLf templates:\n",
    "\n",
    "1. `next_a`;\n",
    "2. `eventually_a`;\n",
    "3. `eventually_a_and_eventually_b`;\n",
    "4. `eventually_a_then_b`;\n",
    "5. `eventually_a_or_b`;\n",
    "6. `eventually_a_next_b`;\n",
    "7. `eventually_a_then_b_then_c`;\n",
    "8. `eventually_a_next_b_next_c`;\n",
    "\n",
    "the following set of LTLf templates called Is First (Last):\n",
    "\n",
    "1. `is_first_state_a`;\n",
    "2. `is_second_state_a`;\n",
    "3. `is_third_state_a`;\n",
    "4. `last`;\n",
    "5. `second_last`;\n",
    "6. `third_last`;\n",
    "7. `is_last_state_a`;\n",
    "8. `is_second_last_state_a`;\n",
    "9. `is_third_last_state_a`;\n",
    "\n",
    "the following set of LTLf templates with multiple attributes:\n",
    "\n",
    "1. `p_does_a`;\n",
    "2. `a_is_done_by_p_and_q`;\n",
    "3. `p_does_a_and_b`;\n",
    "4. `p_does_a_and_then_b`;\n",
    "5. `p_does_a_and_eventually_b`;\n",
    "6. `p_does_a_a_not_b`;\n",
    "7. `a_done_by_p_p_not_q`;\n",
    "\n",
    "and the following [Target-Branched DECLARE templates](https://www.sciencedirect.com/science/article/pii/S0306437915001271):\n",
    "\n",
    "1. `precedence`;\n",
    "2. `chain_precedence`;\n",
    "3. `responded_existence`;\n",
    "4. `chain_response`;\n",
    "5. `not_chain_precedence`;\n",
    "6. `not_chain_response`;\n",
    "7. `response`;\n",
    "8. `not_precedence`;\n",
    "9. `not_response`;\n",
    "10. `not_responded_existence`;\n",
    "11. `alternate_response`;\n",
    "12. `alternate_precedence`.\n",
    "\n",
    "We show the corresponding LTLf formulas of the templates."
   ]
  },
  {
   "cell_type": "code",
   "id": "bb466a45",
   "metadata": {
    "ExecuteTime": {
     "end_time": "2024-05-07T11:46:53.904148Z",
     "start_time": "2024-05-07T11:46:53.870151Z"
    }
   },
   "source": [
    "from Declare4Py.ProcessModels.LTLModel import LTLTemplate\n",
    "\n",
    "print(\"\\nSimple LTLf templates:\")\n",
    "print(\"---------------------\")\n",
    "template = LTLTemplate('next_a')\n",
    "model = template.fill_template(['ER Triage'])\n",
    "print(f\"Formula for {template.template_str}: {model.formula}\")\n",
    "\n",
    "template: LTLTemplate = LTLTemplate('eventually_a')\n",
    "model: LTLModel = template.fill_template(['CRP'])\n",
    "print(f\"Formula for {template.template_str}: {model.formula}\")\n",
    "\n",
    "template = LTLTemplate('eventually_a_then_b')\n",
    "model = template.fill_template(['Leucocytes', 'CRP'])\n",
    "print(f\"Formula for {template.template_str}: {model.formula}\")\n",
    "\n",
    "template = LTLTemplate('eventually_a_or_b')\n",
    "model = template.fill_template(['Leucocytes', 'CRP'])\n",
    "print(f\"Formula for {template.template_str}: {model.formula}\")\n",
    "\n",
    "template = LTLTemplate('eventually_a_next_b')\n",
    "model = template.fill_template(['Leucocytes', 'CRP'])\n",
    "print(f\"Formula for {template.template_str}: {model.formula}\")\n",
    "\n",
    "template = LTLTemplate('eventually_a_then_b_then_c')\n",
    "model = template.fill_template(['ER Registration', 'Leucocytes', 'CRP'])\n",
    "print(f\"Formula for {template.template_str}: {model.formula}\")\n",
    "\n",
    "template = LTLTemplate('eventually_a_next_b_next_c')\n",
    "model = template.fill_template(['ER Registration', 'CRP', 'Leucocytes'])\n",
    "print(f\"Formula for {template.template_str}: {model.formula}\")\n",
    "\n",
    "print(\"\\nIs First (Last) LTLf templates:\")\n",
    "print(\"---------------------\")\n",
    "\n",
    "template = LTLTemplate('is_first_state_a')\n",
    "model = template.fill_template(['ER Triage'])\n",
    "print(f\"Formula for {template.template_str}: {model.formula}\")\n",
    "\n",
    "template: LTLTemplate = LTLTemplate('is_second_state_a')\n",
    "model: LTLModel = template.fill_template(['CRP'])\n",
    "print(f\"Formula for {template.template_str}: {model.formula}\")\n",
    "\n",
    "template = LTLTemplate('is_third_state_a')\n",
    "model = template.fill_template(['Leucocytes'])\n",
    "print(f\"Formula for {template.template_str}: {model.formula}\")\n",
    "\n",
    "template = LTLTemplate('last')\n",
    "model = template.fill_template([])\n",
    "print(f\"Formula for {template.template_str}: {model.formula}\")\n",
    "\n",
    "template = LTLTemplate('second_last')\n",
    "model = template.fill_template([])\n",
    "print(f\"Formula for {template.template_str}: {model.formula}\")\n",
    "\n",
    "template = LTLTemplate('third_last')\n",
    "model = template.fill_template([])\n",
    "print(f\"Formula for {template.template_str}: {model.formula}\")\n",
    "\n",
    "template = LTLTemplate('is_last_state_a')\n",
    "model = template.fill_template(['ER Registration'])\n",
    "print(f\"Formula for {template.template_str}: {model.formula}\")\n",
    "\n",
    "template = LTLTemplate('is_second_last_state_a')\n",
    "model = template.fill_template(['Leucocytes'])\n",
    "print(f\"Formula for {template.template_str}: {model.formula}\")\n",
    "\n",
    "template = LTLTemplate('is_third_last_state_a')\n",
    "model = template.fill_template(['CRP'])\n",
    "print(f\"Formula for {template.template_str}: {model.formula}\")\n",
    "\n",
    "print(\"\\n Multiple attributes LTLf templates:\")\n",
    "print(\"---------------------\")\n",
    "template = LTLTemplate('p_does_a')\n",
    "model = template.fill_template(['A', 'ER Registration'], attr_type=['org:group', 'concept:name'])\n",
    "print(f\"Formula for {template.template_str}: {model.formula}\")\n",
    "\n",
    "template: LTLTemplate = LTLTemplate('a_is_done_by_p_and_q')\n",
    "model: LTLModel = template.fill_template(['A', 'B', 'ER Registration'], attr_type=['org:group', 'concept:name'])\n",
    "print(f\"Formula for {template.template_str}: {model.formula}\")\n",
    "\n",
    "template = LTLTemplate('p_does_a_and_b')\n",
    "model = template.fill_template(['A', 'ER Registration', 'Leucocytes'], attr_type=['org:group', 'concept:name'])\n",
    "print(f\"Formula for {template.template_str}: {model.formula}\")\n",
    "\n",
    "template = LTLTemplate('p_does_a_and_then_b')\n",
    "model = template.fill_template(['A', 'ER Registration', 'Leucocytes'], attr_type=['org:group', 'concept:name'])\n",
    "print(f\"Formula for {template.template_str}: {model.formula}\")\n",
    "\n",
    "template = LTLTemplate('p_does_a_and_eventually_b')\n",
    "model = template.fill_template(['A', 'ER Registration', 'Leucocytes'], attr_type=['org:group', 'concept:name'])\n",
    "print(f\"Formula for {template.template_str}: {model.formula}\")\n",
    "\n",
    "template = LTLTemplate('p_does_a_a_not_b')\n",
    "model = template.fill_template(['A', 'ER Registration', 'Leucocytes'], attr_type=['org:group', 'concept:name'])\n",
    "print(f\"Formula for {template.template_str}: {model.formula}\")\n",
    "\n",
    "template = LTLTemplate('a_done_by_p_p_not_q')\n",
    "model = template.fill_template(['A', 'B', 'ER Registration'], attr_type=['org:group', 'concept:name'])\n",
    "print(f\"Formula for {template.template_str}: {model.formula}\")\n",
    "\n",
    "\n",
    "print(\"\\nTB-DECLARE templates:\")\n",
    "print(\"---------------------\")\n",
    "tb_declare_templates = ['precedence', 'chain_precedence', 'responded_existence', 'chain_response',\n",
    "                        'not_chain_precedence', 'not_chain_response', 'response', 'not_precedence', 'not_response',\n",
    "                        'not_responded_existence', 'alternate_response', 'alternate_precedence']\n",
    "\n",
    "\n",
    "for template_str in tb_declare_templates:\n",
    "    template = LTLTemplate(template_str)\n",
    "    activation_list = [\"ER Triage\", \"CRP\"]\n",
    "    target_list = [\"Leucocytes\", \"Release A\"]\n",
    "    model = template.fill_template(activation_list, target_list)\n",
    "    print(f\"Formula for {template.template_str}: {model.formula}\")"
   ],
   "outputs": [
    {
     "name": "stdout",
     "output_type": "stream",
     "text": [
      "\n",
      "Simple LTLf templates:\n",
      "---------------------\n",
      "Formula for next_a: X[!](con_ertriage)\n",
      "Formula for eventually_a: F(con_crp)\n",
      "Formula for eventually_a_then_b: F(con_leucocytes  && F(con_crp))\n",
      "Formula for eventually_a_or_b: F(con_leucocytes) || F(con_crp)\n",
      "Formula for eventually_a_next_b: F(con_leucocytes  && X[!](con_crp))\n",
      "Formula for eventually_a_then_b_then_c: F(con_erregistration  && F(con_leucocytes  && F(con_crp)))\n",
      "Formula for eventually_a_next_b_next_c: F(con_erregistration  && X[!](con_crp  && X[!](con_leucocytes)))\n",
      "\n",
      "Is First (Last) LTLf templates:\n",
      "---------------------\n",
      "Formula for is_first_state_a: con_ertriage\n",
      "Formula for is_second_state_a: X[!](con_crp)\n",
      "Formula for is_third_state_a: X[!](X[!](con_leucocytes))\n",
      "Formula for last: !(X[!](true))\n",
      "Formula for second_last: X[!](!(X[!](true)))\n",
      "Formula for third_last: X[!](X[!](!(X[!](true))))\n",
      "Formula for is_last_state_a: F(con_erregistration  &&  !(X[!](true)))\n",
      "Formula for is_second_last_state_a: F(con_leucocytes  && X[!](!(X[!](true))))\n",
      "Formula for is_third_last_state_a: F(con_crp  && X[!](X[!](!(X[!](true)))))\n",
      "\n",
      " Multiple attributes LTLf templates:\n",
      "---------------------\n",
      "Formula for p_does_a: F(org_a  && con_erregistration)\n",
      "Formula for a_is_done_by_p_and_q: (F(F(org_a  && con_erregistration))  && F(F(org_b  && con_erregistration)))\n",
      "Formula for p_does_a_and_b: (F(F(org_a  &&  con_erregistration))  && F(F(org_a  &&  con_leucocytes)))\n",
      "Formula for p_does_a_and_then_b: F((F(org_a  && con_erregistration)  && X[!](F(org_a  && con_leucocytes))))\n",
      "Formula for p_does_a_and_eventually_b: F((F(org_a  && con_erregistration)  && F(F(org_a  && con_leucocytes))))\n",
      "Formula for p_does_a_a_not_b: F((con_erregistration  &&  (!con_leucocytes  && org_a)))\n",
      "Formula for a_done_by_p_p_not_q: F((org_a  &&   (!org_b  && con_erregistration)))\n",
      "\n",
      "TB-DECLARE templates:\n",
      "---------------------\n",
      "Formula for precedence: ((!(con_leucocytes || con_releasea))U(con_ertriage || con_crp)) || G(!(con_leucocytes || con_releasea))\n",
      "Formula for chain_precedence: G(X[!](con_leucocytes || con_releasea) ->  (con_ertriage || con_crp))\n",
      "Formula for responded_existence: F(con_ertriage || con_crp) -> F(con_leucocytes || con_releasea)\n",
      "Formula for chain_response: G((con_ertriage  || con_crp) -> X[!](con_leucocytes || con_releasea))\n",
      "Formula for not_chain_precedence: G(X[!](con_leucocytes || con_releasea) ->  !(con_ertriage || con_crp))\n",
      "Formula for not_chain_response: G((con_ertriage || con_crp) -> X[!](!(con_leucocytes || con_releasea)))\n",
      "Formula for response: G((con_ertriage || con_crp) -> F(con_leucocytes || con_releasea))\n",
      "Formula for not_precedence: G(F(con_leucocytes || con_releasea) -> !(con_ertriage || con_crp))\n",
      "Formula for not_response: G((con_ertriage || con_crp) ->  !(F(con_leucocytes || con_releasea)))\n",
      "Formula for not_responded_existence: F(con_ertriage || con_crp) ->  !(F(con_leucocytes || con_releasea))\n",
      "Formula for alternate_response: G((con_ertriage || con_crp) -> X[!]((!(con_ertriage || con_crp)U(con_leucocytes || con_releasea))))\n",
      "Formula for alternate_precedence: ((!(con_leucocytes || con_releasea))U(con_ertriage || con_crp))  && G((con_leucocytes || con_releasea) -> X[!]((!(con_leucocytes || con_releasea))U(con_ertriage || con_crp)) || G(!(con_leucocytes || con_releasea)))\n"
     ]
    }
   ],
   "execution_count": 28
  },
  {
   "cell_type": "markdown",
   "id": "1225a100",
   "metadata": {},
   "source": [
    "## The `DeclareModel` and `DeclareModelTemplate` classes\n",
    "\n",
    "The DECLARE language provides a set of LTLf templates that are well known and adopted in the Process Mininig community. We start by importing the classes `DeclareModel` and `DeclareModelTemplate`."
   ]
  },
  {
   "cell_type": "code",
   "id": "e5ae55fa",
   "metadata": {
    "ExecuteTime": {
     "end_time": "2024-05-07T11:46:54.471705Z",
     "start_time": "2024-05-07T11:46:54.456706Z"
    }
   },
   "source": [
    "import os\n",
    "\n",
    "from Declare4Py.ProcessModels.DeclareModel import DeclareModel\n",
    "from Declare4Py.ProcessModels.DeclareModel import DeclareModelTemplate"
   ],
   "outputs": [],
   "execution_count": 29
  },
  {
   "cell_type": "markdown",
   "id": "0eb4454a",
   "metadata": {},
   "source": [
    "The DECLARE constraints supported by Declare4Py can be retrieved with the `get_unary_templates()` and `get_binary_templates` methods of the `DeclareModelTemplate` class:"
   ]
  },
  {
   "cell_type": "code",
   "id": "def7e392",
   "metadata": {
    "ExecuteTime": {
     "end_time": "2024-05-07T11:46:54.851788Z",
     "start_time": "2024-05-07T11:46:54.845790Z"
    }
   },
   "source": [
    "unary_templates = DeclareModelTemplate.get_unary_templates()\n",
    "binary_templates = DeclareModelTemplate.get_binary_templates()\n",
    "\n",
    "print(\"Unary templates:\")\n",
    "print(\"-----------------\")\n",
    "for template in unary_templates:\n",
    "    print(template.templ_str)\n",
    "print(\"\\n\")\n",
    "\n",
    "print(\"Binary templates:\")\n",
    "print(\"-----------------\")\n",
    "for template in binary_templates:\n",
    "    print(template.templ_str)"
   ],
   "outputs": [
    {
     "name": "stdout",
     "output_type": "stream",
     "text": [
      "Unary templates:\n",
      "-----------------\n",
      "Existence\n",
      "Absence\n",
      "Exactly\n",
      "Init\n",
      "End\n",
      "\n",
      "\n",
      "Binary templates:\n",
      "-----------------\n",
      "Choice\n",
      "Exclusive Choice\n",
      "Responded Existence\n",
      "Response\n",
      "Alternate Response\n",
      "Chain Response\n",
      "Precedence\n",
      "Alternate Precedence\n",
      "Chain Precedence\n",
      "Succession\n",
      "Alternate Succession\n",
      "Co-Existence\n",
      "Chain Succession\n",
      "Not Chain Succession\n",
      "Not Co-Existence\n",
      "Not Succession\n",
      "Not Responded Existence\n",
      "Not Response\n",
      "Not Precedence\n",
      "Not Chain Response\n",
      "Not Chain Precedence\n"
     ]
    }
   ],
   "execution_count": 30
  },
  {
   "cell_type": "markdown",
   "id": "d91ab132",
   "metadata": {},
   "source": [
    "Notice that for the templates `Existence`, `Absence` and `Exactly` an additional parameter is necessary for the cardinality. This has to be encoded in the DECLARE `.decl` model with a numeric suffix, for example `Exactly2` or `Existence23`.\n",
    "\n",
    "The next step is the parsing a DECLARE model."
   ]
  },
  {
   "cell_type": "code",
   "id": "3c01ba4c",
   "metadata": {
    "ExecuteTime": {
     "end_time": "2024-05-07T11:46:55.272405Z",
     "start_time": "2024-05-07T11:46:55.254407Z"
    }
   },
   "source": [
    "model_path = os.path.join(\"../../../\", \"tests\", \"test_models\",\"data_model.decl\")\n",
    "declare_model = DeclareModel().parse_from_file(model_path)"
   ],
   "outputs": [],
   "execution_count": 31
  },
  {
   "cell_type": "markdown",
   "id": "78887621",
   "metadata": {},
   "source": [
    "The DECLARE model can be inspected by getting all the activity names or the constraints. This information is returned as a list of strings."
   ]
  },
  {
   "cell_type": "code",
   "id": "682d8841",
   "metadata": {
    "ExecuteTime": {
     "end_time": "2024-05-07T11:46:55.700916Z",
     "start_time": "2024-05-07T11:46:55.677917Z"
    }
   },
   "source": [
    "model_activities = declare_model.get_model_activities()\n",
    "model_constraints = declare_model.get_decl_model_constraints()\n",
    "\n",
    "print(\"Model activities:\")\n",
    "print(\"-----------------\")\n",
    "for idx, act in enumerate(model_activities):\n",
    "    print(idx, act)\n",
    "print(\"\\n\")\n",
    "\n",
    "print(\"Model constraints:\")\n",
    "print(\"-----------------\")\n",
    "for idx, constr in enumerate(model_constraints):\n",
    "    print(idx, constr)"
   ],
   "outputs": [
    {
     "ename": "AttributeError",
     "evalue": "'DeclareModel' object has no attribute 'get_model_activities'",
     "output_type": "error",
     "traceback": [
      "\u001B[1;31m---------------------------------------------------------------------------\u001B[0m",
      "\u001B[1;31mAttributeError\u001B[0m                            Traceback (most recent call last)",
      "Cell \u001B[1;32mIn[32], line 1\u001B[0m\n\u001B[1;32m----> 1\u001B[0m model_activities \u001B[38;5;241m=\u001B[39m \u001B[43mdeclare_model\u001B[49m\u001B[38;5;241;43m.\u001B[39;49m\u001B[43mget_model_activities\u001B[49m()\n\u001B[0;32m      2\u001B[0m model_constraints \u001B[38;5;241m=\u001B[39m declare_model\u001B[38;5;241m.\u001B[39mget_decl_model_constraints()\n\u001B[0;32m      4\u001B[0m \u001B[38;5;28mprint\u001B[39m(\u001B[38;5;124m\"\u001B[39m\u001B[38;5;124mModel activities:\u001B[39m\u001B[38;5;124m\"\u001B[39m)\n",
      "\u001B[1;31mAttributeError\u001B[0m: 'DeclareModel' object has no attribute 'get_model_activities'"
     ]
    }
   ],
   "execution_count": 32
  },
  {
   "cell_type": "code",
   "id": "48f6a360",
   "metadata": {
    "ExecuteTime": {
     "end_time": "2024-05-07T11:46:55.947915Z",
     "start_time": "2024-05-07T11:46:55.934916Z"
    }
   },
   "source": [],
   "outputs": [],
   "execution_count": 32
  },
  {
   "metadata": {},
   "cell_type": "code",
   "outputs": [],
   "execution_count": null,
   "source": "",
   "id": "2e8b4857dd58cdbf"
  }
 ],
 "metadata": {
  "kernelspec": {
   "display_name": "Python 3 (ipykernel)",
   "language": "python",
   "name": "python3"
  },
  "language_info": {
   "codemirror_mode": {
    "name": "ipython",
    "version": 3
   },
   "file_extension": ".py",
   "mimetype": "text/x-python",
   "name": "python",
   "nbconvert_exporter": "python",
   "pygments_lexer": "ipython3",
   "version": "3.11.4"
  },
  "vscode": {
   "interpreter": {
    "hash": "05d4b7c3cd0aad81aa9df4db91d3eeeb2841d831664bc3cb6ce2ef5b755f059a"
   }
  }
 },
 "nbformat": 4,
 "nbformat_minor": 5
}
