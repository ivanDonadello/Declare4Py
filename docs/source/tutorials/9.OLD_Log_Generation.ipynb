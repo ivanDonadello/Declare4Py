{
 "cells": [
  {
   "cell_type": "markdown",
   "id": "4f5a9a59",
   "metadata": {},
   "source": [
    "# Synthetic Log Generation from DECLARE Models\n",
    "\n",
    "DECLARE4Py implements the generation of synthetic logs from DECLARE models with a solution based on Answer Set Programming that uses a Clingo solver. More details can be found in the paper of Chiariello, F., Maggi, F. M., & Patrizi, F. (2022, June). ASP-Based Declarative Process Mining. In *Proceedings of the AAAI Conference on Artificial Intelligence* (Vol. 36, No. 5, pp. 5539-5547).\n",
    "\n",
    "As first step, it is necessary to import a `.decl` file containing the DECLARE constraints."
   ]
  },
  {
   "cell_type": "code",
   "source": [
    "import os\n",
    "from Declare4Py.ProcessModels.DeclareModel import DeclareModel\n",
    "from Declare4Py.ProcessMiningTasks.ASPLogGeneration.asp_generator import AspGenerator\n",
    "\n",
    "model_name = 'data-model1'\n",
    "model: DeclareModel = DeclareModel().parse_from_file(os.path.join(\"../../../\", \"tests\", \"test_models\", f\"{model_name}.decl\"))"
   ],
   "metadata": {
    "collapsed": false,
    "ExecuteTime": {
     "end_time": "2024-04-17T18:12:38.764740Z",
     "start_time": "2024-04-17T18:12:37.081173Z"
    }
   },
   "id": "bdf42d09",
   "outputs": [],
   "execution_count": 1
  },
  {
   "cell_type": "markdown",
   "source": [
    "Then, some general settings are needed to set the number of cases to generate and the minimum and maximum number of events for each case"
   ],
   "metadata": {
    "collapsed": false
   },
   "id": "7a9b8417"
  },
  {
   "cell_type": "code",
   "id": "785a61eb",
   "metadata": {
    "ExecuteTime": {
     "end_time": "2024-04-17T18:12:45.803469Z",
     "start_time": "2024-04-17T18:12:38.765748Z"
    }
   },
   "source": [
    "# Number of cases that have be generated\n",
    "num_of_cases = 10\n",
    "\n",
    "# Minimum and maximum number of events a case can contain\n",
    "(num_min_events, num_max_events) = (6,10)\n",
    "\n",
    "asp_gen: AspGenerator = AspGenerator(model, num_of_cases, num_min_events, num_max_events)\n",
    "asp_gen.run()"
   ],
   "outputs": [
    {
     "name": "stderr",
     "output_type": "stream",
     "text": [
      "DEBUG:ASP generator:Distribution for traces UNIFORM\n",
      "DEBUG:ASP generator:traces: 10, events can have a trace min(6) max(10)\n",
      "DEBUG:Distribution:Distribution() UNIFORM min_mu: 6 max_sigma: 10 num_traces: 10 custom_prob: None\n",
      "DEBUG:Distribution:Calculating Uniform Distribution\n",
      "DEBUG:Distribution:Generating Uniform Probabilities since either distribution is uniform or custom probabilities are None\n",
      "DEBUG:Distribution:Probabilities sum is 1\n",
      "DEBUG:Distribution:Distribution result: [ 7  6  9  9  9  6  7  8  9 10]\n",
      "DEBUG:ASP generator:Prepared distribution of 10 positive traces with distribution: Counter({9: 4, 7: 2, 6: 2, 8: 1, 10: 1})\n",
      "DEBUG:ASP generator:Prepared distribution of 0 negative traces with distribution: Counter()\n",
      "DEBUG:ASP generator:Generating positive Traces\n",
      "DEBUG:ASP generator:Translate declare model to ASP\n",
      "DEBUG:ASP generator:Declare model translated to ASP. Total Facts 13\n",
      "DEBUG:ASP generator:ASP encoding generated\n",
      "DEBUG:ASP generator:Total trace to generate and events: Traces:2, Events: 7, RandFrequency: 1.0, Seed:261273096\n",
      "DEBUG:ASP generator:Clingo Result :UNSAT\n",
      "C:\\Users\\Matteo\\Desktop\\Repository\\python\\Tesi\\Declare4Py\\Declare4Py\\ProcessMiningTasks\\LogGenerator\\ASP\\ASPLogGenerator.py:257: UserWarning: WARNING: Cannot generate 2 positive trace/s exactly with 7 events with this Declare model.\n",
      "  warnings.warn(f'WARNING: Cannot generate {num_traces} {trace_type} trace/s exactly with {num_events} events with this Declare model.')\n",
      "DEBUG:ASP generator:Total trace to generate and events: Traces:2, Events: 7, RandFrequency: 1.0, Seed:379555613\n",
      "DEBUG:ASP generator:Clingo Result :UNSAT\n",
      "DEBUG:ASP generator:Total trace to generate and events: Traces:2, Events: 7, RandFrequency: 1.0, Seed:22650788\n",
      "DEBUG:ASP generator:Clingo Result :UNSAT\n",
      "DEBUG:ASP generator:Total trace to generate and events: Traces:2, Events: 7, RandFrequency: 1.0, Seed:230255403\n",
      "DEBUG:ASP generator:Clingo Result :UNSAT\n",
      "DEBUG:ASP generator:Total trace to generate and events: Traces:2, Events: 6, RandFrequency: 1.0, Seed:491064154\n",
      "DEBUG:ASP generator:Clingo Result :UNSAT\n",
      "C:\\Users\\Matteo\\Desktop\\Repository\\python\\Tesi\\Declare4Py\\Declare4Py\\ProcessMiningTasks\\LogGenerator\\ASP\\ASPLogGenerator.py:257: UserWarning: WARNING: Cannot generate 2 positive trace/s exactly with 6 events with this Declare model.\n",
      "  warnings.warn(f'WARNING: Cannot generate {num_traces} {trace_type} trace/s exactly with {num_events} events with this Declare model.')\n",
      "DEBUG:ASP generator:Total trace to generate and events: Traces:2, Events: 6, RandFrequency: 1.0, Seed:298967764\n",
      "DEBUG:ASP generator:Clingo Result :UNSAT\n",
      "DEBUG:ASP generator:Total trace to generate and events: Traces:2, Events: 6, RandFrequency: 1.0, Seed:170136181\n",
      "DEBUG:ASP generator:Clingo Result :UNSAT\n",
      "DEBUG:ASP generator:Total trace to generate and events: Traces:2, Events: 6, RandFrequency: 1.0, Seed:673154267\n",
      "DEBUG:ASP generator:Clingo Result :UNSAT\n",
      "DEBUG:ASP generator:Total trace to generate and events: Traces:4, Events: 9, RandFrequency: 1.0, Seed:10844241\n",
      "DEBUG:ASP generator: Traces generated :[trace(evt_val_6,1), trace(evt_val_7,2), trace(evt_val_12,3), trace(evt_val_9,4), trace(evt_val_10,5), trace(evt_val_9,6), trace(evt_val_10,7), trace(evt_val_6,8), trace(evt_val_7,9), assigned_value(attr_name_0,attr_value_25,1), assigned_value(attr_name_0,attr_value_25,2), assigned_value(attr_name_0,attr_value_25,3), assigned_value(attr_name_0,attr_value_25,4), assigned_value(attr_name_0,attr_value_25,5), assigned_value(attr_name_0,attr_value_25,6), assigned_value(attr_name_0,attr_value_25,7), assigned_value(attr_name_0,attr_value_25,8), assigned_value(attr_name_0,attr_value_25,9)]\n",
      "DEBUG:ASP generator: Traces generated :[trace(evt_val_6,1), trace(evt_val_7,2), trace(evt_val_6,3), trace(evt_val_7,4), trace(evt_val_12,5), trace(evt_val_9,6), trace(evt_val_10,7), trace(evt_val_9,8), trace(evt_val_10,9), assigned_value(attr_name_0,attr_value_25,1), assigned_value(attr_name_0,attr_value_25,2), assigned_value(attr_name_0,attr_value_25,3), assigned_value(attr_name_0,attr_value_25,4), assigned_value(attr_name_0,attr_value_25,5), assigned_value(attr_name_0,attr_value_25,6), assigned_value(attr_name_0,attr_value_25,7), assigned_value(attr_name_0,attr_value_25,8), assigned_value(attr_name_0,attr_value_25,9)]\n",
      "DEBUG:ASP generator: Traces generated :[trace(evt_val_6,1), trace(evt_val_7,2), trace(evt_val_6,3), trace(evt_val_7,4), trace(evt_val_6,5), trace(evt_val_9,6), trace(evt_val_10,7), trace(evt_val_9,8), trace(evt_val_10,9), assigned_value(attr_name_0,attr_value_25,1), assigned_value(attr_name_0,attr_value_25,2), assigned_value(attr_name_0,attr_value_25,3), assigned_value(attr_name_0,attr_value_25,4), assigned_value(attr_name_0,attr_value_25,5), assigned_value(attr_name_0,attr_value_25,6), assigned_value(attr_name_0,attr_value_25,7), assigned_value(attr_name_0,attr_value_25,8), assigned_value(attr_name_0,attr_value_25,9)]\n",
      "DEBUG:ASP generator: Traces generated :[trace(evt_val_6,1), trace(evt_val_7,2), trace(evt_val_12,3), trace(evt_val_9,4), trace(evt_val_10,5), trace(evt_val_9,6), trace(evt_val_10,7), trace(evt_val_6,8), trace(evt_val_7,9), assigned_value(attr_name_0,attr_value_25,1), assigned_value(attr_name_0,attr_value_25,2), assigned_value(attr_name_0,attr_value_25,3), assigned_value(attr_name_0,attr_value_25,4), assigned_value(attr_name_0,attr_value_25,5), assigned_value(attr_name_0,attr_value_25,6), assigned_value(attr_name_0,attr_value_25,7), assigned_value(attr_name_0,attr_value_24,8), assigned_value(attr_name_0,attr_value_25,9)]\n",
      "DEBUG:ASP generator:Clingo Result :SAT\n",
      "DEBUG:ASP generator:Total trace to generate and events: Traces:1, Events: 8, RandFrequency: 1.0, Seed:451688547\n",
      "DEBUG:ASP generator: Traces generated :[trace(evt_val_6,1), trace(evt_val_7,2), trace(evt_val_9,3), trace(evt_val_10,4), trace(evt_val_6,5), trace(evt_val_7,6), trace(evt_val_9,7), trace(evt_val_10,8), assigned_value(attr_name_0,attr_value_25,1), assigned_value(attr_name_0,attr_value_25,2), assigned_value(attr_name_0,attr_value_25,3), assigned_value(attr_name_0,attr_value_25,4), assigned_value(attr_name_0,attr_value_25,5), assigned_value(attr_name_0,attr_value_25,6), assigned_value(attr_name_0,attr_value_25,7), assigned_value(attr_name_0,attr_value_25,8)]\n",
      "DEBUG:ASP generator:Clingo Result :SAT\n",
      "DEBUG:ASP generator:Total trace to generate and events: Traces:1, Events: 10, RandFrequency: 1.0, Seed:909251679\n",
      "DEBUG:ASP generator: Traces generated :[trace(evt_val_6,1), trace(evt_val_7,2), trace(evt_val_9,3), trace(evt_val_10,4), trace(evt_val_9,5), trace(evt_val_10,6), trace(evt_val_8,7), trace(evt_val_8,8), trace(evt_val_6,9), trace(evt_val_7,10), assigned_value(attr_name_0,attr_value_25,1), assigned_value(attr_name_0,attr_value_25,2), assigned_value(attr_name_0,attr_value_25,3), assigned_value(attr_name_0,attr_value_25,4), assigned_value(attr_name_0,attr_value_25,5), assigned_value(attr_name_0,attr_value_25,6), assigned_value(attr_name_0,attr_value_25,7), assigned_value(attr_name_0,attr_value_25,8), assigned_value(attr_name_0,attr_value_25,9), assigned_value(attr_name_0,attr_value_25,10), assigned_value(attr_name_1,attr_value_146,7), assigned_value(attr_name_1,attr_value_146,8), assigned_value(attr_name_2,90,7), assigned_value(attr_name_2,90,8)]\n",
      "DEBUG:ASP generator:Clingo Result :SAT\n",
      "DEBUG:ASP generator:Traces generated. Positive: 6 Neg: 0. Parsing Trace results.\n",
      "DEBUG:ASP generator:Parsing result traces\n",
      "DEBUG:ASP generator:Generating Pm4py log\n",
      "WARNING:ASP generator:PM4PY log generated: 6/10 only.\n",
      "DEBUG:ASP generator:Pm4py generated but not saved yet\n"
     ]
    }
   ],
   "execution_count": 2
  },
  {
   "cell_type": "markdown",
   "id": "6a06484d",
   "metadata": {},
   "source": [
    "The class `AspGenerator` has to be instantiated with the DECLARE model and the settings of above. Then, the `run` method will generate the cases and the `to_xes` method will save them in a `.xes` event log or the `to_csv` method will save them in a `.csv` file."
   ]
  },
  {
   "cell_type": "code",
   "source": [
    "asp_gen.to_xes(f\"{model_name}.xes\")\n",
    "asp_gen.to_csv(f\"{model_name}.csv\")"
   ],
   "metadata": {
    "collapsed": false,
    "ExecuteTime": {
     "end_time": "2024-04-17T18:12:45.880110Z",
     "start_time": "2024-04-17T18:12:45.804468Z"
    }
   },
   "id": "7467c274549de47f",
   "outputs": [
    {
     "name": "stderr",
     "output_type": "stream",
     "text": [
      "C:\\Users\\Matteo\\miniconda3\\envs\\Declare4Py\\lib\\site-packages\\ipywidgets\\widgets\\widget.py:528: DeprecationWarning: The `ipykernel.comm.Comm` class has been deprecated. Please use the `comm` module instead.For creating comms, use the function `from comm import create_comm`.\n",
      "  self.comm = Comm(**args)\n",
      "C:\\Users\\Matteo\\miniconda3\\envs\\Declare4Py\\lib\\site-packages\\ipywidgets\\widgets\\widget.py:528: DeprecationWarning: The `ipykernel.comm.Comm` class has been deprecated. Please use the `comm` module instead.For creating comms, use the function `from comm import create_comm`.\n",
      "  self.comm = Comm(**args)\n",
      "C:\\Users\\Matteo\\miniconda3\\envs\\Declare4Py\\lib\\site-packages\\ipywidgets\\widgets\\widget.py:528: DeprecationWarning: The `ipykernel.comm.Comm` class has been deprecated. Please use the `comm` module instead.For creating comms, use the function `from comm import create_comm`.\n",
      "  self.comm = Comm(**args)\n",
      "C:\\Users\\Matteo\\miniconda3\\envs\\Declare4Py\\lib\\site-packages\\ipywidgets\\widgets\\widget.py:528: DeprecationWarning: The `ipykernel.comm.Comm` class has been deprecated. Please use the `comm` module instead.For creating comms, use the function `from comm import create_comm`.\n",
      "  self.comm = Comm(**args)\n",
      "C:\\Users\\Matteo\\miniconda3\\envs\\Declare4Py\\lib\\site-packages\\ipywidgets\\widgets\\widget.py:528: DeprecationWarning: The `ipykernel.comm.Comm` class has been deprecated. Please use the `comm` module instead.For creating comms, use the function `from comm import create_comm`.\n",
      "  self.comm = Comm(**args)\n",
      "C:\\Users\\Matteo\\miniconda3\\envs\\Declare4Py\\lib\\site-packages\\ipywidgets\\widgets\\widget.py:528: DeprecationWarning: The `ipykernel.comm.Comm` class has been deprecated. Please use the `comm` module instead.For creating comms, use the function `from comm import create_comm`.\n",
      "  self.comm = Comm(**args)\n",
      "C:\\Users\\Matteo\\miniconda3\\envs\\Declare4Py\\lib\\site-packages\\ipywidgets\\widgets\\widget.py:528: DeprecationWarning: The `ipykernel.comm.Comm` class has been deprecated. Please use the `comm` module instead.For creating comms, use the function `from comm import create_comm`.\n",
      "  self.comm = Comm(**args)\n",
      "C:\\Users\\Matteo\\miniconda3\\envs\\Declare4Py\\lib\\site-packages\\ipywidgets\\widgets\\widget.py:528: DeprecationWarning: The `ipykernel.comm.Comm` class has been deprecated. Please use the `comm` module instead.For creating comms, use the function `from comm import create_comm`.\n",
      "  self.comm = Comm(**args)\n",
      "C:\\Users\\Matteo\\miniconda3\\envs\\Declare4Py\\lib\\site-packages\\ipywidgets\\widgets\\widget.py:528: DeprecationWarning: The `ipykernel.comm.Comm` class has been deprecated. Please use the `comm` module instead.For creating comms, use the function `from comm import create_comm`.\n",
      "  self.comm = Comm(**args)\n",
      "C:\\Users\\Matteo\\miniconda3\\envs\\Declare4Py\\lib\\site-packages\\ipywidgets\\widgets\\widget.py:528: DeprecationWarning: The `ipykernel.comm.Comm` class has been deprecated. Please use the `comm` module instead.For creating comms, use the function `from comm import create_comm`.\n",
      "  self.comm = Comm(**args)\n",
      "C:\\Users\\Matteo\\miniconda3\\envs\\Declare4Py\\lib\\site-packages\\ipywidgets\\widgets\\widget.py:528: DeprecationWarning: The `ipykernel.comm.Comm` class has been deprecated. Please use the `comm` module instead.For creating comms, use the function `from comm import create_comm`.\n",
      "  self.comm = Comm(**args)\n"
     ]
    },
    {
     "data": {
      "text/plain": [
       "exporting log, completed traces ::   0%|          | 0/6 [00:00<?, ?it/s]"
      ],
      "application/vnd.jupyter.widget-view+json": {
       "version_major": 2,
       "version_minor": 0,
       "model_id": "4f7e2b99e8b84a5db8fc6ca792c139a9"
      }
     },
     "metadata": {},
     "output_type": "display_data"
    }
   ],
   "execution_count": 3
  },
  {
   "cell_type": "markdown",
   "id": "d1a80293",
   "metadata": {},
   "source": [
    "Logs can be generated with some **purposes** according to the needs of Process Mining algorithms. DECLARE4Py implements four useful purposes that can be set with the following methods of the `AspGenerator` class.\n",
    "\n",
    "\n",
    "## 1. Setting up the Length Distribution of the Cases\n",
    "\n",
    "Users can specify a probability distribution over the lengths of the generated traces. The method `set_distribution` takes as parameter the `distributor_type`. By setting this parameter with the `uniform` value, a uniform distribution in `[num_min_events, num_max_events]` is chosen."
   ]
  },
  {
   "cell_type": "code",
   "id": "7b624f2d",
   "metadata": {},
   "source": [
    "asp_gen.set_distribution(distributor_type=\"uniform\")\n",
    "\n",
    "asp_gen.run()\n",
    "asp_gen.to_xes(f'{model_name}.xes')"
   ],
   "outputs": [],
   "execution_count": null
  },
  {
   "cell_type": "markdown",
   "id": "8fc1cfec",
   "metadata": {},
   "source": [
    "A `gaussian` distribution requires a location (the mean) and a scale (the variance)"
   ]
  },
  {
   "cell_type": "code",
   "id": "b094a88f",
   "metadata": {},
   "source": [
    "asp_gen.set_distribution(distributor_type=\"gaussian\", loc=5, scale= 2)\n",
    "asp_gen.run()\n",
    "asp_gen.to_xes(f'{model_name}.xes')"
   ],
   "outputs": [],
   "execution_count": null
  },
  {
   "cell_type": "markdown",
   "id": "d17bb2bf",
   "metadata": {},
   "source": [
    "A `custom` distribution requires the user to set the probability for each length in `[num_min_events, num_max_events]`"
   ]
  },
  {
   "cell_type": "code",
   "id": "b5e657eb",
   "metadata": {},
   "source": [
    "asp_gen.set_distribution(distributor_type=\"custom\",\n",
    "                         custom_probabilities=[0.1, 0.1, 0.1, 0.1, 0.1, 0.1, 0.1, 0.3])\n",
    "\n",
    "asp_gen.run()\n",
    "asp_gen.to_xes(f'{model_name}.xes')"
   ],
   "outputs": [],
   "execution_count": null
  },
  {
   "cell_type": "markdown",
   "id": "0a4122d0",
   "metadata": {},
   "source": [
    "## 2. Setting up the Variants\n",
    "\n",
    "Users can generate variants by setting the number of repetitions of the workflow of each case. This is done with the `set_number_of_repetition_per_trace` method"
   ]
  },
  {
   "cell_type": "code",
   "id": "bbdedc87",
   "metadata": {},
   "source": [
    "asp_gen.set_number_of_repetition_per_trace(3)\n",
    "\n",
    "asp_gen.run()\n",
    "asp_gen.to_xes(f'{model_name}.xes')"
   ],
   "outputs": [],
   "execution_count": null
  },
  {
   "cell_type": "markdown",
   "id": "5d94874a",
   "metadata": {},
   "source": [
    "## Setting up Positive and Negative Traces\n",
    "\n",
    "Users can specify some constraints to be violated in the synthetic cases to obtain labelled logs for binary classification, e.g., for deviance mining algorithms. The method `set_constraints_to_violate` takes as input:\n",
    "\n",
    "1. `tot_negative_trace`: the number of negative cases to be violated;\n",
    "2. `violate_all`: whether to violate *all* the specified constraints or let Clingo decide which constraints to be violated;\n",
    "3. `constraints_list`: the list containing the subset of DECLARE constraints (specified as strings of text) to be violated."
   ]
  },
  {
   "cell_type": "code",
   "id": "982111f4",
   "metadata": {},
   "source": [
    "asp_gen: AspGenerator = AspGenerator(model, num_of_cases, num_min_events, num_max_events)\n",
    "\n",
    "asp_gen.set_constraints_to_violate(tot_negative_trace=10, violate_all=True, constraints_list=[\n",
    "    \"Init[ER Registration] | |\",\n",
    "    \"Chain Response[ER Registration, ER Triage] |A.org:group is J |T.org:group is A |\"])\n",
    "asp_gen.run()\n",
    "asp_gen.to_xes(f'{model_name}.xes')"
   ],
   "outputs": [],
   "execution_count": null
  },
  {
   "cell_type": "markdown",
   "id": "14eda967",
   "metadata": {},
   "source": [
    "In addition, instead of giving the explicit text of the DECLARE constraint, an index can be used in the `set_constraints_to_violate_by_template_index` method"
   ]
  },
  {
   "cell_type": "code",
   "id": "31e4b953",
   "metadata": {},
   "source": [
    "asp_gen: AspGenerator = AspGenerator(model, num_of_cases, num_min_events, num_max_events)\n",
    "\n",
    "for id, constr_text in enumerate(model.serialized_constraints):\n",
    "    print(f\"{id} - {constr_text}\")\n",
    "\n",
    "asp_gen.set_constraints_to_violate_by_template_index(tot_negative_trace=10, violate_all=True, \n",
    "                                                 constraints_idx_list=[0, 3])\n",
    "asp_gen.run()\n",
    "asp_gen.to_xes(f'{model_name}.xes')"
   ],
   "outputs": [],
   "execution_count": null
  },
  {
   "cell_type": "markdown",
   "id": "9d948642",
   "metadata": {},
   "source": [
    "## Setting up Rules for the Activation Conditions\n",
    "\n",
    "Users can specify the number of activations of a DECLARE constraint in the synthetic cases. This can be done with the `set_activation_conditions` method by specifying an interval of activations for specific DECLARE constraints in the loaded model"
   ]
  },
  {
   "cell_type": "code",
   "id": "9a2f7727",
   "metadata": {},
   "source": [
    "asp_gen: AspGenerator = AspGenerator(model, num_of_cases, num_min_events, num_max_events)\n",
    "\n",
    "asp_gen.set_activation_conditions({\n",
    "'Response[CRP, Release B] |A.org:group is J |T.org:group is A |':\n",
    "[2, 3]}) # activation should occur between 2 to 3 times\n",
    "\n",
    "asp_gen.run()\n",
    "asp_gen.to_xes(f'{model_name}.xes')"
   ],
   "outputs": [],
   "execution_count": null
  },
  {
   "cell_type": "markdown",
   "id": "d28a4daf",
   "metadata": {},
   "source": [
    "In addition, instead of giving the explicit text of the DECLARE constraints, an index can be used in the `set_activation_conditions_by_template_index` method"
   ]
  },
  {
   "cell_type": "code",
   "id": "81518fa8",
   "metadata": {},
   "source": [
    "asp_gen: AspGenerator = AspGenerator(model, num_of_cases, num_min_events, num_max_events)\n",
    "\n",
    "for id, constr_text in enumerate(model.serialized_constraints):\n",
    "    print(f\"{id} - {constr_text}\")\n",
    "\n",
    "asp_gen.set_activation_conditions_by_template_index({3: [2, 3]})\n",
    "asp_gen.run()\n",
    "asp_gen.to_xes(f'{model_name}.xes')"
   ],
   "outputs": [],
   "execution_count": null
  },
  {
   "cell_type": "code",
   "id": "fa7da6b0-4451-452c-a6b4-98573d3772ba",
   "metadata": {},
   "source": [],
   "outputs": [],
   "execution_count": null
  }
 ],
 "metadata": {
  "kernelspec": {
   "display_name": "Python 3 (ipykernel)",
   "language": "python",
   "name": "python3"
  },
  "language_info": {
   "codemirror_mode": {
    "name": "ipython",
    "version": 3
   },
   "file_extension": ".py",
   "mimetype": "text/x-python",
   "name": "python",
   "nbconvert_exporter": "python",
   "pygments_lexer": "ipython3",
   "version": "3.11.4"
  }
 },
 "nbformat": 4,
 "nbformat_minor": 5
}
