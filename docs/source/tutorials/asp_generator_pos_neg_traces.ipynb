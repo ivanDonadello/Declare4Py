{
 "cells": [
  {
   "cell_type": "markdown",
   "id": "0009d44f-be72-4bb2-9ca6-487a2be24ce1",
   "metadata": {
    "tags": []
   },
   "source": [
    "# Generate pm4py log using ASP Generator\n",
    "\n",
    "ASP log generator uses the decl model which converts the model into abduction logic programming and pass to the clingo.\n",
    "Clingo generates the output which is turned into the pm4py log or can be created a .xes file.\n"
   ]
  },
  {
   "cell_type": "code",
   "id": "1eb21bf2-bf41-46b2-96e3-806047cc8cb1",
   "metadata": {
    "ExecuteTime": {
     "end_time": "2024-05-07T11:57:20.351037Z",
     "start_time": "2024-05-07T11:57:20.304038Z"
    }
   },
   "source": [
    "!python --version"
   ],
   "outputs": [
    {
     "name": "stdout",
     "output_type": "stream",
     "text": [
      "Python 3.8.18\n"
     ]
    }
   ],
   "execution_count": 1
  },
  {
   "cell_type": "code",
   "id": "2938753f-7b7c-4095-b918-1a667621e50d",
   "metadata": {
    "tags": [],
    "ExecuteTime": {
     "end_time": "2024-05-07T11:57:22.569696Z",
     "start_time": "2024-05-07T11:57:20.353038Z"
    }
   },
   "source": [
    "import pathlib\n",
    "\n",
    "from Declare4Py.ProcessMiningTasks.LogGenerator.ASP.ASPLogGenerator import AspGenerator\n",
    "from Declare4Py.ProcessModels.DeclareModel import DeclareModel"
   ],
   "outputs": [],
   "execution_count": 2
  },
  {
   "cell_type": "code",
   "id": "0b9d5123-dc4f-4a75-bdd1-d4235d636772",
   "metadata": {
    "tags": [],
    "ExecuteTime": {
     "end_time": "2024-05-07T11:57:22.585692Z",
     "start_time": "2024-05-07T11:57:22.570692Z"
    }
   },
   "source": [
    "decl_model_1 = \"decl_files/Response.decl\"\n",
    "decl_model_2 = \"decl_files/MikeModel.decl\"\n",
    "decl_model_3 = \"decl_files/reference10.decl\"\n",
    "decl_model_4 = \"diagnosis.decl\"\n",
    "decl_folder = \"decl_files\"\n",
    "\n",
    "decl_filename = decl_model_4.split(\".\")[0]\n",
    "output_file = pathlib.Path(\".\", f\"{decl_filename}.xes\")\n",
    "decl_file = pathlib.Path(\".\", decl_folder, decl_model_4)"
   ],
   "outputs": [],
   "execution_count": 3
  },
  {
   "cell_type": "code",
   "id": "4b2d84b6-6a5a-4b3c-a0bb-335981eb6374",
   "metadata": {
    "ExecuteTime": {
     "end_time": "2024-05-07T11:57:22.600692Z",
     "start_time": "2024-05-07T11:57:22.586693Z"
    }
   },
   "source": [
    "# Create Declare model by reading declare model from a file.\n",
    "\n",
    "model: DeclareModel = DeclareModel().parse_from_file(decl_file)"
   ],
   "outputs": [],
   "execution_count": 4
  },
  {
   "cell_type": "code",
   "id": "f4b87ba4-2740-4006-b40f-b0ae95bab202",
   "metadata": {
    "ExecuteTime": {
     "end_time": "2024-05-07T11:57:22.615732Z",
     "start_time": "2024-05-07T11:57:22.602733Z"
    }
   },
   "source": [
    "#general Setting\n",
    "\n",
    "# Number of traces that should be generated\n",
    "num_of_traces = 50\n",
    "\n",
    "# Minimum and maximum number of events a trace can contain\n",
    "(num_min_events, num_max_events) = (2, 5)\n"
   ],
   "outputs": [],
   "execution_count": 5
  },
  {
   "cell_type": "code",
   "id": "b9dc4474-319b-40e0-95a7-c8ac36a18f2b",
   "metadata": {
    "ExecuteTime": {
     "end_time": "2024-05-07T11:57:22.631244Z",
     "start_time": "2024-05-07T11:57:22.616733Z"
    }
   },
   "source": [
    "# Initializing ASP generator with default distributor which is uniform.\n",
    "\n",
    "#logging.basicConfig(level=logging.DEBUG)\n",
    "asp = AspGenerator(\n",
    "    model,\n",
    "    num_of_traces,\n",
    "    num_min_events,\n",
    "    num_max_events,\n",
    "    encode_decl_model=True  #\n",
    ")"
   ],
   "outputs": [],
   "execution_count": 6
  },
  {
   "cell_type": "code",
   "id": "1a35131f-9c1c-44d3-9660-a6c657fed23a",
   "metadata": {
    "ExecuteTime": {
     "end_time": "2024-05-07T11:57:22.647244Z",
     "start_time": "2024-05-07T11:57:22.632245Z"
    }
   },
   "source": [
    "# Violates some constraints for declare model\n",
    "\n",
    "# NOTE: these examples or cell is only configured according to the `decl_model_4` file\n",
    "\n",
    "# You can add constraint templates as a string array to be violated from the declared model lines.\n",
    "# You can use the flag `violate_all_constraints_in_subset` in order to tell clingo, to violate all\n",
    "# templates or some of them( will be decided by clingo). The second param = True means\n",
    "# all the constraint should be violated which are available in the subset (which you add in the array string/int).\n",
    "\n",
    "\n",
    "\n",
    "asp.set_constraints_to_violate(1, True, [\n",
    "    # \"Existence[act2] | |\",\n",
    "    # \"Existence[act4] | |\"\n",
    "    \"Response[Driving_Test, Resit] |A.Grade<=2 | |\"\n",
    "    # \"Chain Response[Admission IC, Admission NC] |A.org:group is J |T.org:group is J |61534,61534,s\",\n",
    "    # \"Chain Response[LacticAcid, Leucocytes] |A.LacticAcid <= 0.8 |T.Leucocytes >= 13.8 |0,2778,m\",\n",
    "])\n",
    "\n",
    "\n",
    "# the deference between these two methods is that you can decide if you want to pass the constraint\n",
    "# template list of strings or the indexes of constraint templates generated by model itself in order\n",
    "\n",
    "# asp.set_constraints_to_violate_by_template_index(1, True, [2]) \n"
   ],
   "outputs": [],
   "execution_count": 7
  },
  {
   "cell_type": "code",
   "id": "974a92ad-6497-433f-99e4-2f0d79a6e150",
   "metadata": {
    "scrolled": true,
    "tags": [],
    "ExecuteTime": {
     "end_time": "2024-05-07T11:57:24.987969Z",
     "start_time": "2024-05-07T11:57:22.648244Z"
    }
   },
   "source": [
    "# Generate the traces and parse the result produced by clingo\n",
    "asp.run()  # Run accepts 1 optional value whether to create file for the ASP generated from given declare model\n"
   ],
   "outputs": [],
   "execution_count": 8
  },
  {
   "cell_type": "code",
   "id": "a03b7b40-e718-4783-a8e4-36528bd4d01d",
   "metadata": {
    "scrolled": true,
    "ExecuteTime": {
     "end_time": "2024-05-07T11:57:25.066853Z",
     "start_time": "2024-05-07T11:57:24.988970Z"
    }
   },
   "source": [
    "# Save file to xes\n",
    "asp.to_xes(output_file.as_posix())"
   ],
   "outputs": [
    {
     "name": "stderr",
     "output_type": "stream",
     "text": [
      "C:\\Users\\Matteo\\miniconda3\\envs\\Declare4Py\\lib\\site-packages\\pm4py\\utils.py:486: UserWarning: the EventLog class has been deprecated and will be removed in a future release.\n",
      "  warnings.warn(\"the EventLog class has been deprecated and will be removed in a future release.\")\n",
      "C:\\Users\\Matteo\\miniconda3\\envs\\Declare4Py\\lib\\site-packages\\ipywidgets\\widgets\\widget.py:528: DeprecationWarning: The `ipykernel.comm.Comm` class has been deprecated. Please use the `comm` module instead.For creating comms, use the function `from comm import create_comm`.\n",
      "  self.comm = Comm(**args)\n",
      "C:\\Users\\Matteo\\miniconda3\\envs\\Declare4Py\\lib\\site-packages\\ipywidgets\\widgets\\widget.py:528: DeprecationWarning: The `ipykernel.comm.Comm` class has been deprecated. Please use the `comm` module instead.For creating comms, use the function `from comm import create_comm`.\n",
      "  self.comm = Comm(**args)\n",
      "C:\\Users\\Matteo\\miniconda3\\envs\\Declare4Py\\lib\\site-packages\\ipywidgets\\widgets\\widget.py:528: DeprecationWarning: The `ipykernel.comm.Comm` class has been deprecated. Please use the `comm` module instead.For creating comms, use the function `from comm import create_comm`.\n",
      "  self.comm = Comm(**args)\n",
      "C:\\Users\\Matteo\\miniconda3\\envs\\Declare4Py\\lib\\site-packages\\ipywidgets\\widgets\\widget.py:528: DeprecationWarning: The `ipykernel.comm.Comm` class has been deprecated. Please use the `comm` module instead.For creating comms, use the function `from comm import create_comm`.\n",
      "  self.comm = Comm(**args)\n",
      "C:\\Users\\Matteo\\miniconda3\\envs\\Declare4Py\\lib\\site-packages\\ipywidgets\\widgets\\widget.py:528: DeprecationWarning: The `ipykernel.comm.Comm` class has been deprecated. Please use the `comm` module instead.For creating comms, use the function `from comm import create_comm`.\n",
      "  self.comm = Comm(**args)\n",
      "C:\\Users\\Matteo\\miniconda3\\envs\\Declare4Py\\lib\\site-packages\\ipywidgets\\widgets\\widget.py:528: DeprecationWarning: The `ipykernel.comm.Comm` class has been deprecated. Please use the `comm` module instead.For creating comms, use the function `from comm import create_comm`.\n",
      "  self.comm = Comm(**args)\n",
      "C:\\Users\\Matteo\\miniconda3\\envs\\Declare4Py\\lib\\site-packages\\ipywidgets\\widgets\\widget.py:528: DeprecationWarning: The `ipykernel.comm.Comm` class has been deprecated. Please use the `comm` module instead.For creating comms, use the function `from comm import create_comm`.\n",
      "  self.comm = Comm(**args)\n",
      "C:\\Users\\Matteo\\miniconda3\\envs\\Declare4Py\\lib\\site-packages\\ipywidgets\\widgets\\widget.py:528: DeprecationWarning: The `ipykernel.comm.Comm` class has been deprecated. Please use the `comm` module instead.For creating comms, use the function `from comm import create_comm`.\n",
      "  self.comm = Comm(**args)\n",
      "C:\\Users\\Matteo\\miniconda3\\envs\\Declare4Py\\lib\\site-packages\\ipywidgets\\widgets\\widget.py:528: DeprecationWarning: The `ipykernel.comm.Comm` class has been deprecated. Please use the `comm` module instead.For creating comms, use the function `from comm import create_comm`.\n",
      "  self.comm = Comm(**args)\n",
      "C:\\Users\\Matteo\\miniconda3\\envs\\Declare4Py\\lib\\site-packages\\ipywidgets\\widgets\\widget.py:528: DeprecationWarning: The `ipykernel.comm.Comm` class has been deprecated. Please use the `comm` module instead.For creating comms, use the function `from comm import create_comm`.\n",
      "  self.comm = Comm(**args)\n",
      "C:\\Users\\Matteo\\miniconda3\\envs\\Declare4Py\\lib\\site-packages\\ipywidgets\\widgets\\widget.py:528: DeprecationWarning: The `ipykernel.comm.Comm` class has been deprecated. Please use the `comm` module instead.For creating comms, use the function `from comm import create_comm`.\n",
      "  self.comm = Comm(**args)\n"
     ]
    },
    {
     "data": {
      "text/plain": [
       "exporting log, completed traces ::   0%|          | 0/51 [00:00<?, ?it/s]"
      ],
      "application/vnd.jupyter.widget-view+json": {
       "version_major": 2,
       "version_minor": 0,
       "model_id": "b19fa1d65f8d4e83a9b4a136956cd3e8"
      }
     },
     "metadata": {},
     "output_type": "display_data"
    }
   ],
   "execution_count": 9
  }
 ],
 "metadata": {
  "kernelspec": {
   "display_name": "Python 3 (ipykernel)",
   "language": "python",
   "name": "python3"
  },
  "language_info": {
   "codemirror_mode": {
    "name": "ipython",
    "version": 3
   },
   "file_extension": ".py",
   "mimetype": "text/x-python",
   "name": "python",
   "nbconvert_exporter": "python",
   "pygments_lexer": "ipython3",
   "version": "3.11.4"
  }
 },
 "nbformat": 4,
 "nbformat_minor": 5
}
