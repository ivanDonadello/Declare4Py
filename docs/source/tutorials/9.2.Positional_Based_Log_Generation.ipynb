{
 "cells": [
  {
   "metadata": {},
   "cell_type": "markdown",
   "source": [
    "# Synthetic Log Generation from Declare Positional Models\n",
    "\n",
    "## What is a Declare Positional Based Model\n",
    "\n",
    "A Declare positional based model is essentially a Declare model with different type of constraints. \n",
    "\n",
    "<br>\n",
    "\n",
    "### Defining an activity\n",
    "\n",
    "Activities can be defined through the keyword `activity`. More activities can be defined in the same line using the comma as a separator. \n",
    "\n",
    "During the definition of an activity remember that **the colons character `:` followed by a space cannot be used** since is used by the parser to distinguish the difference between activities and attributes or attributes and values\n",
    "\n",
    "Example : `activity activity_name_1, ..., activity_name_n` or simply `activity activity_name_1`\n",
    "\n",
    "<br>\n",
    "\n",
    "### Assigning attributes to activities\n",
    "\n",
    "Activities has attributes and in order to assign attributes the keyword `bind`. \n",
    "\n",
    "Example : `bind activity_name_1, ..., activity_name_n: attribute_name_1, ... , attribute_name_n`\n",
    "\n",
    "By Using this type definition line to more activities can be assigned more attributes. This way every activity will have the same attributes as the other defined in the same line.\n",
    "\n",
    "Otherwise, the binding can also be done singularly: `bind activity_name_1: attribute_name_1, ... , attribute_name_n`\n",
    "\n",
    "**Note**: If a previous bind assigned some attributes to an activity, another bind will add the new attributes on top resulting in the activity having the attributes of the first and second bind\n",
    "**Note**: If the activity is not defined the parser of the PositionalBased Model will define an activity for you, hence the definition of an activity can actually be omitted by using directly the line:\n",
    "\n",
    "Example : `bind activity_name_1, ..., activity_name_n: attribute_name_1, ... , attribute_name_n` In order to define both activities and attributes in one line.\n",
    "\n",
    "<br>\n",
    "\n",
    "### Assigning values to attributes\n",
    "\n",
    "Remember to assign values to the attributes created before, otherwise the PositionalBasedModel will launch an error!\n",
    "\n",
    "In order to assign some values to attributes it is not necessary to use a keyword. The following line can be used as an example in order to assign more values to more attributes:\n",
    "\n",
    "Example: `attribute_name_1, ..., attribute_name_n: attribute_value_1, ... , attribute_value_n`\n",
    "\n",
    "This type of definition line creates attributes of type `Enumeration`\n",
    "\n",
    "In order to define a range of integers or float, instead use the following definition:\n",
    "\n",
    "Integer Example: `attribute_name_1, ..., attribute_name_n: integer between x and y`\n",
    "\n",
    "Float Example: `attribute_name_1, ..., attribute_name_n: float between x and y`\n",
    "\n",
    "This type of definition line creates attributes of type `integer between` or `float between`.\n",
    "\n",
    "**Note**: In the definition of `float between` the number must be written with the point as a separator for floating point numbers. The precision of the floating point number is defined by how many values exists after the point:\n",
    "\n",
    "Float Example: `attribute_name_1: float between 10.0 and 15.0`: 1 floating point digit\n",
    "\n",
    "Float Example: `attribute_name_1: float between 10.00 and 15.00`: 2 floating point digit\n",
    "\n",
    "Float Example: `attribute_name_1: float between 10.0 and 15.000`: 3 floating point digit. (The number with bigger precision is selected for the calculation of the digit precision)\n",
    "\n",
    "**Note**: Redefining an attribute with its values will overwrite the current definition!\n",
    "\n",
    "<br>\n",
    "\n",
    "### Creating constraints \n",
    "\n",
    "In the following 2 tables is presente the definition of the constraints and their arguments, together with the possible actions that can be performed with each parameter.\n",
    "\n",
    "<br>\n",
    "\n",
    "| Declare Function                                                     | Argument 1  |  Type  | Supports Variables | Supports Conditional Operators | Arg can be empty |  Argument 2   |    Type     | Supports Variables | Supports Conditional Operators | Arg can be empty |\n",
    "|:---------------------------------------------------------------------|:-----------:|:------:|:------------------:|:------------------------------:|:----------------:|:-------------:|:-----------:|:------------------:|:------------------------------:|:----------------:|\n",
    "| pos(activity a, position p, time t)                                  | activity a  | encode |        yes         |         yes (only !=)          |        no        |  position p   |     int     |        yes         |              yes               |       yes        |\n",
    "| payload(attribute a, value v, position p)                            | attribute a | encode |        yes         |         yes (only !=)          |        no        |    value v    |     any     |        yes         |              yes               |        no        |\n",
    "| payload_range(attribute a, min_value min, max_value max, position p) | attribute a | encode |        yes         |               no               |        no        | min_value min | int / float |         no         |               no               |       yes        |\n",
    "| absolute_pos(activity a, position p, time t)                         | activity a  | encode |        yes         |               no               |        no        |  position p   |     int     |        yes         |               no               |        no        |\n",
    "| pos_not_greater_than(activity a, position p, time t)                 | activity a  | encode |        yes         |               no               |        no        |  position p   |     int     |        yes         |               no               |        no        |\n",
    "| pos_not_lower_than(activity a, position p, time t)                   | activity a  | encode |        yes         |               no               |        no        |  position p   |     int     |        yes         |               no               |        no        |\n",
    "| absolute_payload(attribute a, value v)                               | attribute a | encode |        yes         |               no               |        no        |    value v    |     any     |        yes         |               no               |        no        |\n",
    "\n",
    "<br>\n",
    "\n",
    "| Declare Function                                                     |  Argument 3   |    Type     | Supports Variables | Supports Conditional Operators | Arg can be empty | Argument 4 | Type | Supports Variables | Supports Conditional Operators | Arg can be empty | \n",
    "|:---------------------------------------------------------------------|:-------------:|:-----------:|:------------------:|:------------------------------:|:----------------:|:----------:|:----:|:------------------:|:------------------------------:|:----------------:|\n",
    "| pos(activity a, position p, time t)                                  |    time t     |     int     |        yes         |              yes               |       yes        |            |      |                    |                                |                  |\n",
    "| payload(attribute a, value v, position p)                            |  position p   |     int     |        yes         |              yes               |       yes        |            |      |                    |                                |                  |\n",
    "| payload_range(attribute a, min_value min, max_value max, position p) | max_value max | int / float |         no         |               no               |       yes        | position p | int  |        yes         |              yes               |       yes        |\n",
    "| absolute_pos(activity a, position p, time t)                         |    time t     |     int     |        yes         |               no               |       yes        |            |      |                    |                                |                  |\n",
    "| pos_not_greater_than(activity a, position p, time t)                 |    time t     |     int     |        yes         |               no               |       yes        |            |      |                    |                                |                  |\n",
    "| pos_not_lower_than(activity a, position p, time t)                   |    time t     |     int     |        yes         |               no               |       yes        |            |      |                    |                                |                  |\n",
    "\n",
    "<br>\n",
    "\n",
    "#### Typing\n",
    "\n",
    "Arguments can have 4 different types:\n",
    "- `int` : The argument supports integers numbers .\n",
    "- `float` : The argument supports floating point numbers .\n",
    "- `encode` : This type of argument defines a name of an `Activity`, a name of an `Attribute` or an `Enumeration` value.\n",
    "- `any` : An argument defined as `any` can be either `int`, `float` or `encode`.\n",
    "\n",
    "<br>\n",
    "\n",
    "#### Variables\n",
    "\n",
    "The arguments that supports this feature can have their value replaced with the character sequence that defines a variables.\n",
    "\n",
    "In order to define a variable use `:` followed by upper case characters or numbers. (No spaces). Example: `:VAR1`\n",
    "\n",
    "Example: `pos(activity a, :P1, :T1)` or `payload(attribute a, :V2, :P2)` \n",
    "\n",
    "<br>\n",
    "\n",
    "#### Conditional constraints\n",
    "\n",
    "**Conditional constraints** can be implemented with the use of variables. This type of constraint creates the possibility to enhance the Declare Functions in order to create different results.\n",
    "\n",
    "Structure of a conditional constraint: **value or variable (+,-) value or variable (==,!=,<=,<,>,>=) value or variable (+,-) value or variable**\n",
    "\n",
    "Example of Conditional constraints: `:Var1 != 7`, `:Var1 == :Var2`, `:Var1 == :Var2 + 10`, `:Var1 >= :Var2 - 10`\n",
    "\n",
    "<br>\n",
    "\n",
    "#### Variables and Conditional constraints\n",
    "\n",
    "Altogether with the use of variables and conditional constraints, the definition of constraints can be changed to:\n",
    "\n",
    "Example: `pos(activity a, :P1, :T1), pos(activity b, :P2, :T2), :P1 == :P2 + 2, :T1 + 10 <= :T2`\n",
    "\n",
    "Example: `pos(:ACT1, position p, time t), :ACT1 != a`\n",
    "\n",
    "<br>\n",
    "\n",
    "#### Conditional Operators\n",
    "\n",
    "Arguments that support conditional operators can be written in the following way:\n",
    "\n",
    "Example: `pos(a, :P1, >=5), pos(a, >=:P1, 10!=)` which corresponds to `pos(a, :P1, :T1), :T1 >= 5, pos(a, :P2, :T2), :P2 >= :P1, 10 != :T2`\n",
    "\n",
    "This gives the possibility to bound variable or values in different ways. \n",
    "\n",
    "**Note**: Conditional operators can be placed in front or at the end of a value or variable. The parsing is done completely by the Positional Based model.\n",
    "\n",
    "<br>\n",
    "\n",
    "#### Empty Arguments\n",
    "\n",
    "Arguments can be left empty using `_`. This means that it doesn't matter what value is there. The generator will then choose any value for that argument that fits.\n",
    "\n",
    "<br>\n",
    "\n",
    "#### Some more examples:\n",
    "\n",
    "| Declare Function Example                                 | Function                                                                                                                                                                                     |\n",
    "|----------------------------------------------------------|----------------------------------------------------------------------------------------------------------------------------------------------------------------------------------------------|\n",
    "| pos(activity a, position p, time t)                      | The activity \"a\" will be placed in position \"p\" at time \"t\"                                                                                                                                  |\n",
    "| pos(activity a, position p, _)                           | The activity \"a\" will be placed in position \"p\" at any time \"t\"                                                                                                                              |\n",
    "| pos(activity a, _, _)                                    | The activity \"a\" will be present at least 1 time in the events at any position \"p\" and at any time \"t\"                                                                                       |\n",
    "| payload(attribute a, value v, position p)                | The attribute \"a\" in position \"p\" will have a value \"v\"                                                                                                                                      |\n",
    "| payload(attribute a, value v, _)                         | One attribute \"a\" in any position \"p\" will have a value \"v\"                                                                                                                                  |\n",
    "| payload_range(attribute a, int min, int max, position p) | The attribute \"a\" in position \"p\" will have a value in between \"min\" and \"max\"                                                                                                               |\n",
    "| payload_range(attribute a, int min, _, position p)       | The attribute \"a\" in position \"p\" will have a value in between \"min\" and the maximum value that the attribute can have                                                                       |\n",
    "| payload_range(attribute a, _, int max, position p)       | The attribute \"a\" in position \"p\" will have a value in between the minimum value that the attribute can have and \"max\"                                                                       |\n",
    "| payload_range(attribute a, _, _, position p)             | The attribute \"a\" in position \"p\" will have a value in between the minimum value that the attribute can have and the maximum value that the attribute can have                               |\n",
    "| payload_range(attribute a, int min, int max, _)          | One attribute \"a\" in any position \"p\" will have a value in between \"min\" and \"max\"                                                                                                           |\n",
    "| absolute_pos(activity a, position p, time t)             | The activity \"a\" will be placed in position \"p\" at time \"t\" and there will not be any more occurrences of that activity in the trace events                                                  |\n",
    "| pos_not_greater_than(activity a, position p, time t)     | The activity \"a\" will be placed in a position not greater than \"p\" at a time not greater than \"t\" and there will not be any more occurrences of that activity after position \"p\" at time \"t\" |\n",
    "| pos_not_greater_than(activity a, position p, _)          | The activity \"a\" will be placed in a position not greater than  \"p\" at any time \"t\" and there will not be any more occurrences of that activity after position \"p\"                           |\n",
    "| pos_not_lower_than(activity a, position p, time t)       | The activity \"a\" will be placed in a position not lower than  \"p\" at a time not lower than \"t\" and there will not be any more occurrences of that activity before position \"p\" at time \"t\"   |\n",
    "| pos_not_lower_than(activity a, position p, _)            | The activity \"a\" will be placed in a position not lower than  \"p\" at any time \"t\" and there will not be any more occurrences of that activity before position \"p\"                            |\n",
    "| absolute_payload(attribute a, value v)                   | The attribute \"a\" will have value \"v\" in any activity that contains the attribute \"a\" in the trace                                                                                           |\n"
   ],
   "id": "ec7011e9522ee22b"
  },
  {
   "metadata": {},
   "cell_type": "markdown",
   "source": [
    "## Functioning of the positional model\n",
    "\n",
    "Let's see how the model works in practice. First import the model."
   ],
   "id": "3c1b0e5c312ed7e4"
  },
  {
   "metadata": {
    "ExecuteTime": {
     "end_time": "2024-06-05T14:21:55.749519Z",
     "start_time": "2024-06-05T14:21:53.985935Z"
    }
   },
   "cell_type": "code",
   "source": "from Declare4Py.ProcessMiningTasks.LogGenerator.PositionalBased.PositionalBasedModel import PositionalBasedModel",
   "id": "206f91e6a7d66fc9",
   "outputs": [],
   "execution_count": 1
  },
  {
   "metadata": {},
   "cell_type": "markdown",
   "source": [
    "In order to instantiate a PositionalBasedModel the functions: `parse_from_file` or `parse_from_string` can be used. Both functions read PositionalBasedDeclare and create a model accordingly.\n",
    "\n",
    "For our model, the file `experimental_model.decl` will be used. \n",
    "\n",
    "With the creation of the `PositionalBasedModel` these parameters can be inserted in the constructor:\n",
    "- `positional_time_start: int` = Indicates the starting time unit for the positional based model. Standard value: 1\n",
    "- `positional_time_end: int` = Indicates the ending time unit for the positional based model. Standard value: 100\n",
    "- `time_unit_in_seconds_min: int` = Indicates the minimum value in seconds that 1 positional_time_unit can have. Standard value: 240 \n",
    "- `time_unit_in_seconds_max: int` = Indicates the maximum value in seconds that 1 positional_time_unit can have. Standard value: 300 \n",
    "- `verbose: bool` = Indicates if the user wants to see debug messages.\n",
    "\n",
    "Each trace generated has a positional time unit value. 1 positional time unit corresponds to a number of seconds in range time_unit_in_seconds_min and time_unit_in_seconds_max.\n",
    "When the sequence of events are generated the timestamp is calculated based on the time unit assigned\n",
    "\n",
    "**NOTE**: `positional_time_end` **cannot** be lower than the maximum number of event, otherwise the problem becomes UNSAT\n",
    "\n",
    "**NOTE**: The lesser is the difference of time between `positional_time_start` and `positional_time_end` the lesser the time of generating traces will be. \n",
    "\n",
    "**NOTE**: The bigger is the difference of time between `positional_time_start` and `positional_time_end` the bigger the time of generating traces will be. "
   ],
   "id": "a12bcf56fb506c14"
  },
  {
   "metadata": {
    "ExecuteTime": {
     "end_time": "2024-06-05T14:21:57.792176Z",
     "start_time": "2024-06-05T14:21:57.783176Z"
    }
   },
   "cell_type": "code",
   "source": [
    "model_name = \"experimental_model\"\n",
    "model_path: str = f\"../../../Declare4Py/ProcessMiningTasks/LogGenerator/PositionalBased/DeclareFiles/{model_name}.decl\"\n",
    "model: PositionalBasedModel = PositionalBasedModel().parse_from_file(model_path)"
   ],
   "id": "4f73437977b6e7ac",
   "outputs": [
    {
     "name": "stderr",
     "output_type": "stream",
     "text": [
      "C:\\Users\\Matteo\\Desktop\\Repository\\python\\Tesi\\Declare4Py\\Declare4Py\\ProcessMiningTasks\\LogGenerator\\PositionalBased\\PositionalBasedModel.py:817: UserWarning: Activity terapia_A was not defined before using an activity definition line. The activity will be defined automatically. Check if this is intentional\n",
      "  warnings.warn(f\"Activity {activity_name} was not defined before using an activity definition line. The activity will be defined automatically. Check if this is intentional\")\n",
      "C:\\Users\\Matteo\\Desktop\\Repository\\python\\Tesi\\Declare4Py\\Declare4Py\\ProcessMiningTasks\\LogGenerator\\PositionalBased\\PositionalBasedModel.py:817: UserWarning: Activity terapia_B was not defined before using an activity definition line. The activity will be defined automatically. Check if this is intentional\n",
      "  warnings.warn(f\"Activity {activity_name} was not defined before using an activity definition line. The activity will be defined automatically. Check if this is intentional\")\n",
      "C:\\Users\\Matteo\\Desktop\\Repository\\python\\Tesi\\Declare4Py\\Declare4Py\\ProcessMiningTasks\\LogGenerator\\PositionalBased\\PositionalBasedModel.py:817: UserWarning: Activity controllo was not defined before using an activity definition line. The activity will be defined automatically. Check if this is intentional\n",
      "  warnings.warn(f\"Activity {activity_name} was not defined before using an activity definition line. The activity will be defined automatically. Check if this is intentional\")\n",
      "C:\\Users\\Matteo\\Desktop\\Repository\\python\\Tesi\\Declare4Py\\Declare4Py\\ProcessMiningTasks\\LogGenerator\\PositionalBased\\PositionalBasedModel.py:817: UserWarning: Activity analisi_sangue was not defined before using an activity definition line. The activity will be defined automatically. Check if this is intentional\n",
      "  warnings.warn(f\"Activity {activity_name} was not defined before using an activity definition line. The activity will be defined automatically. Check if this is intentional\")\n"
     ]
    }
   ],
   "execution_count": 2
  },
  {
   "metadata": {},
   "cell_type": "markdown",
   "source": "Positional Time and Time Unit in seconds can be changed anytime from the model using the functions `set_positional_based_time_range` and `set_time_unit_in_seconds_range`. Calling the function with empty parameters will reset the values.",
   "id": "6e3baec56b6a21e0"
  },
  {
   "metadata": {
    "ExecuteTime": {
     "end_time": "2024-05-26T14:27:13.226615Z",
     "start_time": "2024-05-26T14:27:13.211616Z"
    }
   },
   "cell_type": "code",
   "source": [
    "model.set_positional_based_time_range()\n",
    "model.set_time_unit_in_seconds_range()"
   ],
   "id": "87afb982fc440791",
   "execution_count": 3,
   "outputs": []
  },
  {
   "metadata": {},
   "cell_type": "markdown",
   "source": "The Positional Based Model can be exported to ASP or Declare strings using:\n",
   "id": "a3a4d5d05c821c60"
  },
  {
   "metadata": {
    "ExecuteTime": {
     "end_time": "2024-05-26T14:27:13.242615Z",
     "start_time": "2024-05-26T14:27:13.228615Z"
    }
   },
   "cell_type": "code",
   "source": [
    "# Returns the ASP string of the model form positive traces\n",
    "print(model.to_asp())"
   ],
   "id": "b664583b5e789652",
   "execution_count": 4,
   "outputs": []
  },
  {
   "metadata": {
    "ExecuteTime": {
     "end_time": "2024-05-26T14:27:13.258615Z",
     "start_time": "2024-05-26T14:27:13.243615Z"
    }
   },
   "cell_type": "code",
   "source": [
    "# Returns the ASP string of the model for negative traces\n",
    "print(model.to_asp(generate_negatives=True))"
   ],
   "id": "b102fab2d3599627",
   "execution_count": 5,
   "outputs": []
  },
  {
   "metadata": {
    "ExecuteTime": {
     "end_time": "2024-05-26T14:27:13.274615Z",
     "start_time": "2024-05-26T14:27:13.259615Z"
    }
   },
   "cell_type": "code",
   "source": [
    "# Returns the Declare string of the model\n",
    "print(model.to_declare())"
   ],
   "id": "eadc28de5613af48",
   "execution_count": 6,
   "outputs": []
  },
  {
   "metadata": {
    "ExecuteTime": {
     "end_time": "2024-05-26T14:27:13.290615Z",
     "start_time": "2024-05-26T14:27:13.275615Z"
    }
   },
   "cell_type": "code",
   "source": [
    "# Returns the String of the parsed Declare model\n",
    "print(model.get_parsed_model())"
   ],
   "id": "543eae5e04813623",
   "execution_count": 7,
   "outputs": []
  },
  {
   "metadata": {},
   "cell_type": "markdown",
   "source": "The Positional Based Model can be exported to ASP or Declare files using:",
   "id": "7eb1f5340483dd5"
  },
  {
   "metadata": {
    "ExecuteTime": {
     "end_time": "2024-06-05T14:22:03.264652Z",
     "start_time": "2024-06-05T14:22:03.253652Z"
    }
   },
   "cell_type": "code",
   "source": [
    "# if you want to export both Declare and ASP file\n",
    "\n",
    "export_path = \"../../../output/\" + model_name\n",
    "\n",
    "# The parameters are self-explanatory based on values the result will be one of the previous cell method as file\n",
    "# The function exports both asp and decl file. It can also export only one file at the time based on the attributes asp_file and Decl_file\n",
    "model.to_file(export_path) \n",
    "\n",
    "# Otherwise files can be exported singularly using\n",
    "# The parameters are the same\n",
    "model.to_asp_file(export_path)\n",
    "model.to_decl_file(export_path)"
   ],
   "id": "6510425e847995f7",
   "outputs": [],
   "execution_count": 3
  },
  {
   "metadata": {},
   "cell_type": "markdown",
   "source": "The Asp String can also be exported differently using:",
   "id": "216a432c627709df"
  },
  {
   "metadata": {
    "ExecuteTime": {
     "end_time": "2024-05-26T14:35:33.653303Z",
     "start_time": "2024-05-26T14:35:33.638303Z"
    }
   },
   "cell_type": "code",
   "source": [
    "# Exports the model without constraints\n",
    "model.to_asp_file_without_constraints(export_path + \"_no_constraints\")\n",
    "\n",
    "# Creates one asp file per constraint rule\n",
    "# generate_also_negatives is true export also the negatives of the rules\n",
    "model.to_one_asp_file_per_constraints(export_path, generate_also_negatives=True)"
   ],
   "id": "dc2e0cee255b5420",
   "execution_count": 21,
   "outputs": []
  },
  {
   "metadata": {},
   "cell_type": "markdown",
   "source": "**NOTE**: Remember to add manually the constant p in ASP if you want to use the exported file. Use the line `#const p = insert_value.`",
   "id": "89c9c972ce1009fd"
  },
  {
   "metadata": {},
   "cell_type": "markdown",
   "source": [
    "# Synthetic Positional Based Log Generation from DECLARE Models\n",
    "\n",
    "DECLARE4Py implements the generation of synthetic logs from DECLARE positional models with a positional solution based on Answer Set Programming that uses a Clingo solver."
   ],
   "id": "93830215c3fb181c"
  },
  {
   "metadata": {
    "ExecuteTime": {
     "end_time": "2024-05-26T14:27:13.337615Z",
     "start_time": "2024-05-26T14:27:13.323616Z"
    }
   },
   "cell_type": "code",
   "source": "from Declare4Py.ProcessMiningTasks.LogGenerator.PositionalBased.PositionalBasedLogGenerator import PositionalBasedLogGenerator",
   "id": "dc945391c4a651cc",
   "execution_count": 10,
   "outputs": []
  },
  {
   "metadata": {},
   "cell_type": "markdown",
   "source": "By using the already initialized model with some general settings we can instantiate the generator",
   "id": "1f9b8b2fbf9029f3"
  },
  {
   "metadata": {
    "ExecuteTime": {
     "end_time": "2024-05-26T14:27:13.353616Z",
     "start_time": "2024-05-26T14:27:13.338616Z"
    }
   },
   "cell_type": "code",
   "source": [
    "# Number of cases that have be generated\n",
    "num_of_cases = 40\n",
    "\n",
    "# Minimum and maximum number of events a case can contain\n",
    "(num_min_events, num_max_events) = (20, 20)\n",
    "\n",
    "# Shows some feedback from the Generator (Set it too false to ignore all debug messages)\n",
    "verbose = True\n",
    "\n",
    "generator: PositionalBasedLogGenerator = PositionalBasedLogGenerator(num_of_cases, num_min_events, num_max_events, model, verbose=verbose)\n",
    "\n",
    "# If the number of traces wants to be changed use:\n",
    "# generator.set_total_traces()\n",
    "# If the number of min and max events wants to be changed use:\n",
    "# generator.set_min_max_events()\n",
    "# If the model wants to be changed use:\n",
    "# generator.set_positional_based_model()\n"
   ],
   "id": "6589e31138ef7d1b",
   "execution_count": 11,
   "outputs": []
  },
  {
   "metadata": {},
   "cell_type": "markdown",
   "source": [
    "In order to run the generator call the method `run`. The method also supports some parameters, which are and function as follows:\n",
    "\n",
    "- `equal_rule_split: bool` = Indicates if the user wants to generate an equal number of traces for each rule. If not, the traces will be generated randomly.\n",
    "- `high_variability: bool` = If True Generates the traces singularly otherwise generates the traces together with low variability.\n",
    "- `generate_negatives: bool` = Indicates if the user wants to generate the negative traces as well. If true, the number of traces will be doubled and half will be positives and the other half will be negatives.\n",
    "- `positive_noise_percentage: int` = Indicates the percentage of noise in the trace generation for positive traces. To x percentage of positive traces will be falsely assigned to negative label.\n",
    "- `negative_noise_percentage: int` = Indicates the percentage of noise in the trace generation for negative traces. To x percentage of negative traces will be falsely assigned to positive label.\n",
    "- `append_results: bool` = Appends the current run result to the old results, Otherwise it deletes the old results and stores the new ones."
   ],
   "id": "39ef262398357f2b"
  },
  {
   "metadata": {
    "ExecuteTime": {
     "end_time": "2024-05-26T14:27:48.995764Z",
     "start_time": "2024-05-26T14:27:13.354615Z"
    }
   },
   "cell_type": "code",
   "source": [
    "%%time\n",
    "generator.run(generate_negatives_traces=True)"
   ],
   "id": "9756b40437b946da",
   "execution_count": 12,
   "outputs": []
  },
  {
   "metadata": {},
   "cell_type": "markdown",
   "source": "The results of the `PositionalBasedLogGenerator` can then be later exported with the  `to_xes` method will save them in a `.xes` event log or the `to_csv` method will save them in a `.csv` file.",
   "id": "bfd31c4f7114865c"
  },
  {
   "metadata": {
    "ExecuteTime": {
     "end_time": "2024-05-26T14:27:49.183174Z",
     "start_time": "2024-05-26T14:27:48.996764Z"
    }
   },
   "cell_type": "code",
   "source": [
    "generator.to_csv(export_path)\n",
    "generator.to_xes(export_path)"
   ],
   "id": "26c08cef4bcf40a3",
   "execution_count": 13,
   "outputs": []
  },
  {
   "metadata": {},
   "cell_type": "markdown",
   "source": [
    "## Generating traces with noise, equal split rule or high variability\n",
    "\n",
    "Noise can be applied to the traces in order to generate falsely labelled traces. By inserting a value between 0 and 100 the generator will generate \"n\" traces and apply the noise percentage"
   ],
   "id": "9a12ab1d3a22f368"
  },
  {
   "metadata": {
    "ExecuteTime": {
     "end_time": "2024-05-26T14:28:22.657192Z",
     "start_time": "2024-05-26T14:27:49.184175Z"
    }
   },
   "cell_type": "code",
   "source": [
    "%%time\n",
    "generator.run(generate_negatives_traces=True, negative_noise_percentage=5, positive_noise_percentage=7)\n",
    "generator.to_csv(f'{export_path}_Noise_Test.csv')"
   ],
   "id": "1b8a082cfeb747bb",
   "execution_count": 14,
   "outputs": []
  },
  {
   "metadata": {},
   "cell_type": "markdown",
   "source": "The generator with the `equal_rule_split` set as False in this case will generate the traces without knowing which rule the trace is correlated to.",
   "id": "dcdbaeb1de280921"
  },
  {
   "metadata": {
    "ExecuteTime": {
     "end_time": "2024-05-26T14:29:06.066810Z",
     "start_time": "2024-05-26T14:28:22.658705Z"
    }
   },
   "cell_type": "code",
   "source": [
    "%%time\n",
    "generator.run(equal_rule_split=False, generate_negatives_traces=True, negative_noise_percentage=6, positive_noise_percentage=3)\n",
    "generator.to_csv(f'{export_path}_No_Equal_Split_Rule_Test.csv')"
   ],
   "id": "e1d0e095f83c843c",
   "execution_count": 15,
   "outputs": []
  },
  {
   "metadata": {},
   "cell_type": "markdown",
   "source": "The generator with the `high_variability` set as False will generate quickly traces all together but the variability of the generate traces will be low.",
   "id": "66640fc82a816bbb"
  },
  {
   "metadata": {},
   "cell_type": "code",
   "outputs": [],
   "execution_count": null,
   "source": [
    "%%time\n",
    "generator.run(high_variability=True, equal_rule_split=True, generate_negatives_traces=True, negative_noise_percentage=6, positive_noise_percentage=3)\n",
    "generator.to_csv(f'{export_path}_No_Equal_Split_Rule_Test.csv')"
   ],
   "id": "1cd215436dd913db"
  },
  {
   "metadata": {},
   "cell_type": "markdown",
   "source": [
    "## Setting up the Length Distribution of the Cases\n",
    "\n",
    "Users can specify a probability distribution over the lengths of the generated traces. The method `set_distribution_type` takes as parameter the `distribution_type`. By setting this parameter with the `uniform` value, a uniform distribution in `[num_min_events, num_max_events]` is chosen. \n",
    "\n",
    "Also, the length of the positive traces can be changed with the method `set_total_traces`"
   ],
   "id": "5c80986944f1d31f"
  },
  {
   "metadata": {
    "ExecuteTime": {
     "end_time": "2024-05-26T14:29:41.133867Z",
     "start_time": "2024-05-26T14:29:06.068809Z"
    }
   },
   "cell_type": "code",
   "source": [
    "%%time\n",
    "# Default is uniform\n",
    "generator.set_distribution_type(\"uniform\")\n",
    "\n",
    "generator.run(high_variability=True, generate_negatives_traces=True)\n",
    "generator.to_csv(f'{export_path}_Distribution_Test_1.csv')"
   ],
   "id": "ffa18b0efcedddd9",
   "execution_count": 16,
   "outputs": []
  },
  {
   "metadata": {},
   "cell_type": "markdown",
   "source": "A `gaussian` distribution requires a location (the mean) and a scale (the variance)",
   "id": "d2c231423737f685"
  },
  {
   "metadata": {
    "ExecuteTime": {
     "end_time": "2024-05-26T14:30:35.737373Z",
     "start_time": "2024-05-26T14:29:41.134870Z"
    }
   },
   "cell_type": "code",
   "source": [
    "%%time\n",
    "generator.change_distribution_settings(min_num_events_or_mu=25.5, max_num_events_or_sigma=2.0, dist_type=\"gaussian\")\n",
    "generator.run(high_variability=True, generate_negatives_traces=True)\n",
    "generator.to_csv(f'{export_path}_Distribution_Test_2.csv')"
   ],
   "id": "e91aacb63e3123aa",
   "execution_count": 17,
   "outputs": []
  },
  {
   "metadata": {},
   "cell_type": "markdown",
   "source": "A `custom` distribution requires the user to set the probability for each length in `[num_min_events, num_max_events]`",
   "id": "52eb426d966f530b"
  },
  {
   "metadata": {
    "ExecuteTime": {
     "end_time": "2024-05-26T14:31:22.960013Z",
     "start_time": "2024-05-26T14:30:35.738371Z"
    }
   },
   "cell_type": "code",
   "source": [
    "%%time\n",
    "generator.set_distribution_type(\"custom\")\n",
    "\n",
    "# Let's change the minimum and maximum number of events\n",
    "generator.set_min_max_events(19,26)\n",
    "generator.set_custom_probabilities([0.1, 0.1, 0.1, 0.1, 0.1, 0.1, 0.1, 0.3])\n",
    "\n",
    "generator.run(high_variability=True, generate_negatives_traces=True)\n",
    "generator.to_csv(f'{export_path}_Distribution_Test_3.csv')"
   ],
   "id": "eca8339634488810",
   "execution_count": 18,
   "outputs": []
  },
  {
   "metadata": {},
   "cell_type": "markdown",
   "source": [
    "## Setting up the Personalized Clingo configuration\n",
    "\n",
    "### More information\n",
    "\n",
    "For more information on clingo and its functionalities consult:  https://potassco.org/\n",
    "\n",
    "For more information on the option commands consult the documentation of Clingo (Potassco) at: https://github.com/potassco/guide/releases/ or https://github.com/potassco/asprin/blob/master/asprin/src/main/clingo_help.py\n",
    "\n",
    "Or download directly the documentation from here: https://github.com/potassco/guide/releases/download/v2.2.0/guide.pdf\n",
    "\n",
    "### Setting up the configuration\n",
    "\n",
    "Clingo offers various option to personalize the solver range of action, probabilistic reasoning and decision-making\n",
    "\n",
    "At the moment the solver can be personalized using the following method `use_custom_clingo_configuration` with the following options:\n",
    "    \n",
    "- The **Configuration** of clingo can be: \"frumpy\", \"tweety\", \"crafty\", \"jumpy\", \"trendy\" or \"handy\". (Default is trendy)\n",
    "\n",
    "\n",
    "- The amount of **Threads** used by clingo to speed up the process. (Default uses al possible cores)\n",
    "- \n",
    "\n",
    "- The **Time limit** is the maximum time that the solver can use in order to search for a satisfiable answer\n",
    "\n",
    "\n",
    "- The **Random Frequency** used by clingo in the decision-making is a float number between 0 and 1 included. Where 0 means: No random decisions and 1 means: Every decision is random. (Default is 0.3)\n",
    "\n",
    "\n",
    "- The **Mode** configures the optimization of the algorithm and can be either \"optN\" or \"ignore\". (Default is optN)\n",
    "\n",
    "\n",
    "- The **Sign** of the operation which can be \"asp\", \"pos\" \"neg\", \"rnd\". (Default is asp)\n",
    "\n",
    "\n",
    "- The **Strategy** configures the optimization of the strategy and can be \"bb\" or \"usc\". (This functionality is not used in the default configuration)\n",
    "\n",
    "\n",
    "- The **Heuristic** used by clingo configures the decision heuristic and can be \"Berkmin\", \"Vmtf\", \"Vsids\", \"Domain\", \"Unit\" or \"None\". (This functionality is not used in the default configuration)\n"
   ],
   "id": "ef6b5cb9093cdd17"
  },
  {
   "metadata": {
    "ExecuteTime": {
     "end_time": "2024-05-26T14:33:42.008248Z",
     "start_time": "2024-05-26T14:32:45.923123Z"
    }
   },
   "cell_type": "code",
   "source": [
    "%%time\n",
    "\n",
    "generator.use_default_clingo_configuration()\n",
    "# The default configuration can be obtained using the following command\n",
    "print(generator.get_current_clingo_configuration())\n",
    "\n",
    "# To enable the custom configuration: \n",
    "generator.use_custom_clingo_configuration(config=\"frumpy\", threads=None, frequency=0.9, sign_def=\"asp\", strategy=\"bb\", heuristic=\"Domain\")\n",
    "\n",
    "# The current configuration then becomes the custom one\n",
    "print(generator.get_current_clingo_configuration())\n",
    "\n",
    "# this command tells the generator to use the default configuration again\n",
    "# generator.use_default_clingo_configuration()\n",
    "# It does not delete the old custom configuration, in fact the custom configuration can be re-enabled by calling\n",
    "# generator.use_custom_clingo_configuration()\n",
    "\n",
    "generator.run(high_variability=True, generate_negatives_traces=True)\n",
    "generator.to_csv(f'{export_path}_Custom_Configuration_Test.csv')"
   ],
   "id": "39436415110c6c99",
   "execution_count": 20,
   "outputs": []
  },
  {
   "metadata": {},
   "cell_type": "code",
   "execution_count": null,
   "source": "",
   "id": "e8a8b47afb889ac8",
   "outputs": []
  }
 ],
 "metadata": {
  "kernelspec": {
   "display_name": "Python 3",
   "language": "python",
   "name": "python3"
  },
  "language_info": {
   "codemirror_mode": {
    "name": "ipython",
    "version": 2
   },
   "file_extension": ".py",
   "mimetype": "text/x-python",
   "name": "python",
   "nbconvert_exporter": "python",
   "pygments_lexer": "ipython2",
   "version": "2.7.6"
  }
 },
 "nbformat": 4,
 "nbformat_minor": 5
}
