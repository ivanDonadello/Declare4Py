{
 "cells": [
  {
   "metadata": {},
   "cell_type": "markdown",
   "source": [
    "# Synthetic Log Generation from Declare Positional Models\n",
    "\n",
    "Todo insert text :)\n",
    "\n",
    "\n",
    "## What is a Declare Positional Based Model\n",
    "\n",
    "A Declare positional based model is essentially a Declare model with different type of constraints. \n",
    "\n",
    "### Defining an activity\n",
    "\n",
    "Activities can be defined through the keyword `activity`. More activities can be defined in the same line using the comma as a separator. \n",
    "\n",
    "During the definition of an activity remember that **the colons character `:` followed by a space cannot be used** since is used by the parser to distinguish the difference between activities and attributes or attributes and values\n",
    "\n",
    "Example : `activity activity_name_1, ..., activity_name_n` or simply `activity activity_name_1`\n",
    "\n",
    "### Assigning attributes to activities\n",
    "\n",
    "Activities has attributes and in order to assign attributes the keyword `bind`. \n",
    "\n",
    "Example : `bind activity_name_1, ..., activity_name_n: attribute_name_1, ... , attribute_name_n`\n",
    "\n",
    "By Using this type definition line to more activities can be assigned more attributes. This way every activity will have the same attributes as the other defined in the same line.\n",
    "\n",
    "Otherwise, the binding can also be done singularly: `bind activity_name_1: attribute_name_1, ... , attribute_name_n`\n",
    "\n",
    "**Note**: If a previous bind assigned some attributes to an activity, another bind will add the new attributes on top resulting in the activity having the attributes of the first and second bind\n",
    "**Note**: If the activity is not defined the parser of the PositionalBased Model will define an activity for you, hence the definition of an activity can actually be omitted by using directly the line:\n",
    "\n",
    "Example : `bind activity_name_1, ..., activity_name_n: attribute_name_1, ... , attribute_name_n` In order to define both activities and attributes in one line.\n",
    "\n",
    "### Assigning values to attributes\n",
    "\n",
    "Remember to assign values to the attributes created before, otherwise the PositionalBasedModel will launch an error!\n",
    "\n",
    "In order to assign some values to attributes it is not necessary to use a keyword. The following line can be used as an example in order to assign more values to more attributes\n",
    "\n",
    "Example: `attribute_name_1, ..., attribute_name_n: attribute_value_1, ... , attribute_value_n`\n",
    "\n",
    "**Note**: Redefining an attribute with its values will overwrite the current definition\n",
    "\n",
    "### Creating constraints\n",
    "\n",
    "Essentially there are 3 type of constraints, Constrains about activities regarding a position, Constraints about assigned values to attributes regarding a position or variable constraints.\n",
    "\n",
    "Variables can be defined using the colons `:` followed by **UPPER CASE** letters or numbers. \n",
    "\n",
    "Constraints about activities can be defined using the following formula: `pos(activity_name, position)`"
   ],
   "id": "ec7011e9522ee22b"
  },
  {
   "metadata": {},
   "cell_type": "code",
   "execution_count": null,
   "source": "from Declare4Py.ProcessMiningTasks.LogGenerator.PositionalBased.PositionalBasedModel import PositionalBasedModel",
   "id": "206f91e6a7d66fc9",
   "outputs": []
  },
  {
   "metadata": {},
   "cell_type": "markdown",
   "source": "In order to instantiate a PositionalBasedModel the functions: `parse_from_file` or `parse_from_string` can be used. Both functions read PositionalBasedDeclare and create a model accordingly.",
   "id": "a12bcf56fb506c14"
  },
  {
   "metadata": {},
   "cell_type": "code",
   "execution_count": null,
   "source": "Model: PositionalBasedModel = PositionalBasedModel().parse_from_file()\n",
   "id": "4f73437977b6e7ac",
   "outputs": []
  }
 ],
 "metadata": {
  "kernelspec": {
   "display_name": "Python 3",
   "language": "python",
   "name": "python3"
  },
  "language_info": {
   "codemirror_mode": {
    "name": "ipython",
    "version": 2
   },
   "file_extension": ".py",
   "mimetype": "text/x-python",
   "name": "python",
   "nbconvert_exporter": "python",
   "pygments_lexer": "ipython2",
   "version": "2.7.6"
  }
 },
 "nbformat": 4,
 "nbformat_minor": 5
}
