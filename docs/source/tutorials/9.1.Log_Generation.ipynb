{
 "cells": [
  {
   "cell_type": "code",
   "outputs": [],
   "source": [
    "import os\n",
    "import time\n",
    "import pandas as pd\n",
    "from Declare4Py.ProcessMiningTasks.ASPLogGeneration.ASPUtils.damerauLevenshtein import DamerauLevenshteinDistance\n",
    "from Declare4Py.ProcessModels.DeclareModel import DeclareModel\n",
    "from Declare4Py.ProcessMiningTasks.ASPLogGeneration.asp_generator import AspGenerator"
   ],
   "metadata": {
    "collapsed": false
   },
   "id": "4e3f5b8869651c07",
   "execution_count": null
  },
  {
   "cell_type": "markdown",
   "source": [
    "Test incrociato per cercare la migliore combinazione tra configurazione, frequenza e threads per migliorare la velocita' del solver"
   ],
   "metadata": {
    "collapsed": false
   },
   "id": "a0c3d603ebb55dd5"
  },
  {
   "cell_type": "code",
   "outputs": [],
   "source": [
    "model_name = 'sepsis'\n",
    "model: DeclareModel = DeclareModel().parse_from_file(os.path.join(\"../../../\", \"tests\", \"test_models\", f\"{model_name}.decl\"))\n",
    "\n",
    "# Number of cases that have be generated\n",
    "num_of_cases = 100\n",
    "\n",
    "# Minimum and maximum number of events a case can contain\n",
    "(num_min_events, num_max_events) = (6,10)\n",
    "\n",
    "asp_gen: AspGenerator = AspGenerator(model, num_of_cases, num_min_events, num_max_events)"
   ],
   "metadata": {
    "collapsed": false
   },
   "id": "e7cebd3efde0aecf"
  },
  {
   "cell_type": "code",
   "outputs": [],
   "source": [
    "%%time\n",
    "\n",
    "configuration = [\"frumpy\", \"jumpy\", \"tweety\", \"handy\", \"crafty\", \"trendy\"]\n",
    "frequency = [1, 0.9, 0.8]\n",
    "threads = [4,6,8,10,12]\n",
    "\n",
    "for config in configuration:\n",
    "    for freq in frequency:\n",
    "        for t in threads:\n",
    "        \n",
    "            clingo_config = {\"config\": config, \"freq\": str(freq), \"threads\": str(t)}\n",
    "            start = time.time()\n",
    "            \n",
    "            asp_gen.run(clingo_config)\n",
    "\n",
    "            \n",
    "            end = time.time()\n",
    "            asp_gen.to_csv(f'Log_Results/time_{round(end - start, 4)}_config_{config}_threads_{t}_freq_{freq}.csv') \n",
    "\n"
   ],
   "metadata": {
    "collapsed": false
   },
   "id": "4e960d46f24a7c8f"
  },
  {
   "cell_type": "markdown",
   "source": [
    "Filtraggio dei risultati per thread creando dei report file per thread"
   ],
   "metadata": {
    "collapsed": false
   },
   "id": "4c835a3d4df8de81"
  },
  {
   "cell_type": "code",
   "outputs": [],
   "source": [
    "%%time\n",
    "\n",
    "Cols_Name = [\"Configuration\", \"Distance\", \"Time\", \"Frequency\"]\n",
    "threads_dict = {\"4\": [], \"6\": [], \"8\": [],\"10\": [],\"12\": []}\n",
    "\n",
    "for file in os.listdir(\"Log_results\"):\n",
    "    \n",
    "    stripped_file = file.split(\"_\")\n",
    "    \n",
    "    time = stripped_file[1]\n",
    "    config = stripped_file[3]\n",
    "    thread = stripped_file[5]\n",
    "    freq = stripped_file[7].split(\".c\")[0]\n",
    "    distance = DamerauLevenshteinDistance.analize_csv(f\"Log_results/{file}\")\n",
    "    \n",
    "    threads_dict[thread].append([config, distance, time, freq])\n",
    "    \n",
    "    try:\n",
    "        os.rename(\"Log_results/\" + file, f\"Log_results/similarity_{distance}_\" + file)\n",
    "    except FileNotFoundError:\n",
    "        print(\"file not found\")\n",
    "    \n",
    "for key, value in threads_dict.items():\n",
    "    df = pd.DataFrame(value, columns=Cols_Name)\n",
    "    df.to_csv(f\"Log_results/similarity_report_threads_{key}.csv\")"
   ],
   "metadata": {
    "collapsed": false
   },
   "id": "b6cdc583a8d12954",
   "execution_count": null
  },
  {
   "cell_type": "markdown",
   "source": [
    "Analisi di due altri modelli declare che dovrebbero causare problemi al solver. Si cerca correttezza nei modelli"
   ],
   "metadata": {
    "collapsed": false
   },
   "id": "17a05f152a6c3dab"
  },
  {
   "cell_type": "code",
   "outputs": [],
   "source": [
    "import os\n",
    "import time\n",
    "import pandas as pd\n",
    "from Declare4Py.ProcessMiningTasks.ASPLogGeneration.ASPUtils.damerauLevenshtein import DamerauLevenshteinDistance\n",
    "from Declare4Py.ProcessModels.DeclareModel import DeclareModel\n",
    "from Declare4Py.ProcessMiningTasks.ASPLogGeneration.asp_generator import AspGenerator"
   ],
   "metadata": {
    "collapsed": false,
    "ExecuteTime": {
     "end_time": "2024-03-28T16:56:36.805465Z",
     "start_time": "2024-03-28T16:56:35.154691Z"
    }
   },
   "id": "4ac22151c4e663f2",
   "execution_count": 1
  },
  {
   "cell_type": "code",
   "outputs": [
    {
     "name": "stderr",
     "output_type": "stream",
     "text": [
      "DEBUG:ASP generator:Distribution for traces uniform\n",
      "DEBUG:ASP generator:traces: 10, events can have a trace min(6) max(10)\n",
      "INFO:ASP generator:Computing distribution\n",
      "DEBUG:Distributor:Distribution() uniform min_mu: 6 max_sigma: 10 num_traces: 10 custom_prob: None\n",
      "DEBUG:Distributor:Uniform() probabilities: [Fraction(1, 5), Fraction(1, 5), Fraction(1, 5), Fraction(1, 5), Fraction(1, 5)]\n",
      "DEBUG:Distributor:Custom_dist() min_mu:6 max_sigma:10 num_traces:10\n",
      "DEBUG:Distributor:Probabilities sum 1\n",
      "DEBUG:Distributor:Distribution result: [7 9 7 9 7 8 8 7 7 7]\n",
      "INFO:ASP generator:Distribution result Counter({7: 6, 9: 2, 8: 2})\n",
      "DEBUG:ASP generator:Distribution for traces uniform\n",
      "DEBUG:ASP generator:traces: 10, events can have a trace min(6) max(10)\n",
      "INFO:ASP generator:Computing distribution\n",
      "DEBUG:Distributor:Distribution() uniform min_mu: 6 max_sigma: 10 num_traces: 10 custom_prob: None\n",
      "DEBUG:Distributor:Uniform() probabilities: [Fraction(1, 5), Fraction(1, 5), Fraction(1, 5), Fraction(1, 5), Fraction(1, 5)]\n",
      "DEBUG:Distributor:Custom_dist() min_mu:6 max_sigma:10 num_traces:10\n",
      "DEBUG:Distributor:Probabilities sum 1\n",
      "DEBUG:Distributor:Distribution result: [10  7 10  8  8  8  9  7  9 10]\n",
      "INFO:ASP generator:Distribution result Counter({10: 3, 8: 3, 7: 2, 9: 2})\n"
     ]
    }
   ],
   "source": [
    "model1_name = \"data-model1\"\n",
    "model2_name = \"data-model2\"\n",
    "\n",
    "model1: DeclareModel = DeclareModel().parse_from_file(os.path.join(\"../../../\", \"tests\", \"test_models\", f\"{model1_name}.decl\"))\n",
    "model2: DeclareModel = DeclareModel().parse_from_file(os.path.join(\"../../../\", \"tests\", \"test_models\", f\"{model2_name}.decl\"))\n",
    "\n",
    "# Number of cases that have be generated\n",
    "num_of_cases = 10\n",
    "\n",
    "# Minimum and maximum number of events a case can contain\n",
    "(num_min_events, num_max_events) = (6,10)\n",
    "\n",
    "model1_gen: AspGenerator = AspGenerator(model1, num_of_cases, num_min_events, num_max_events)\n",
    "model2_gen: AspGenerator = AspGenerator(model2, num_of_cases, num_min_events, num_max_events)"
   ],
   "metadata": {
    "collapsed": false,
    "ExecuteTime": {
     "end_time": "2024-03-28T16:56:36.820893Z",
     "start_time": "2024-03-28T16:56:36.806493Z"
    }
   },
   "id": "d1dbafc55667d283",
   "execution_count": 2
  },
  {
   "cell_type": "code",
   "outputs": [
    {
     "name": "stderr",
     "output_type": "stream",
     "text": [
      "DEBUG:ASP generator:Using custom traces length\n",
      "INFO:ASP generator:Computing distribution\n",
      "DEBUG:Distributor:Distribution() uniform min_mu: 6 max_sigma: 10 num_traces: 10 custom_prob: None\n",
      "DEBUG:Distributor:Uniform() probabilities: [Fraction(1, 5), Fraction(1, 5), Fraction(1, 5), Fraction(1, 5), Fraction(1, 5)]\n",
      "DEBUG:Distributor:Custom_dist() min_mu:6 max_sigma:10 num_traces:10\n",
      "DEBUG:Distributor:Probabilities sum 1\n",
      "DEBUG:Distributor:Distribution result: [ 6  8  6 10 10  6  9  7  6  6]\n",
      "INFO:ASP generator:Distribution result Counter({6: 5, 10: 2, 8: 1, 9: 1, 7: 1})\n",
      "INFO:ASP generator:Computing distribution\n",
      "DEBUG:ASP generator:Generating traces\n",
      "DEBUG:ASP generator:Translate declare model to ASP\n",
      "DEBUG:ASP generator:Declare model translated to ASP. Total Facts 12\n",
      "DEBUG:ASP generator:ASP encoding generated\n",
      "DEBUG:ASP generator:Start generating traces: Counter({6: 5, 10: 2, 8: 1, 9: 1, 7: 1})\n",
      "DEBUG:ASP generator: Total trace to generate and events: Traces:5, Events: 6, RandFrequency: 1.0\n",
      "DEBUG:ASP generator: Traces generated :[assigned_value(attr_name_0,attr_value_0,1), assigned_value(attr_name_0,attr_value_8,2), assigned_value(attr_name_0,attr_value_4,3), assigned_value(attr_name_0,attr_value_25,4), assigned_value(attr_name_0,attr_value_24,5), assigned_value(attr_name_0,attr_value_24,6), assigned_value(attr_name_1,attr_value_146,1), assigned_value(attr_name_1,attr_value_146,5), assigned_value(attr_name_2,90,1), assigned_value(attr_name_2,90,5), assigned_value(evt_val_3,137,5), trace(evt_val_8,1), trace(evt_val_7,2), trace(evt_val_9,3), trace(evt_val_10,4), trace(evt_val_3,5), trace(evt_val_7,6)]\n",
      "DEBUG:ASP generator: Traces generated :[assigned_value(attr_name_0,attr_value_24,1), assigned_value(attr_name_0,attr_value_0,2), assigned_value(attr_name_0,attr_value_24,3), assigned_value(attr_name_0,attr_value_4,4), assigned_value(attr_name_0,attr_value_24,5), assigned_value(attr_name_0,attr_value_24,6), assigned_value(attr_name_1,attr_value_146,1), assigned_value(attr_name_2,90,1), assigned_value(attr_name_3,attr_value_147,1), assigned_value(attr_name_4,attr_value_147,1), assigned_value(attr_name_5,attr_value_147,1), assigned_value(attr_name_6,attr_value_148,1), assigned_value(attr_name_7,attr_value_147,1), assigned_value(attr_name_8,attr_value_148,1), assigned_value(attr_name_9,attr_value_148,1), assigned_value(attr_name_10,attr_value_147,1), assigned_value(attr_name_11,attr_value_147,1), assigned_value(attr_name_12,attr_value_148,1), assigned_value(attr_name_13,attr_value_147,1), assigned_value(attr_name_14,attr_value_147,1), assigned_value(attr_name_15,attr_value_147,1), assigned_value(attr_name_16,attr_value_148,1), assigned_value(attr_name_17,attr_value_147,1), assigned_value(attr_name_18,attr_value_148,1), assigned_value(attr_name_19,attr_value_147,1), assigned_value(attr_name_20,attr_value_147,1), assigned_value(attr_name_21,attr_value_147,1), assigned_value(attr_name_22,attr_value_147,1), assigned_value(attr_name_23,attr_value_148,1), assigned_value(attr_name_24,attr_value_147,1), trace(evt_val_1,1), trace(evt_val_6,2), trace(evt_val_6,3), trace(evt_val_9,4), trace(evt_val_7,5), trace(evt_val_7,6)]\n",
      "DEBUG:ASP generator: Traces generated :[assigned_value(attr_name_0,attr_value_0,1), assigned_value(attr_name_0,attr_value_8,2), assigned_value(attr_name_0,attr_value_4,3), assigned_value(attr_name_0,attr_value_25,4), assigned_value(attr_name_0,attr_value_24,5), assigned_value(attr_name_0,attr_value_24,6), assigned_value(attr_name_1,attr_value_146,1), assigned_value(attr_name_1,attr_value_146,5), assigned_value(attr_name_2,90,1), assigned_value(attr_name_2,89,5), assigned_value(evt_val_3,137,5), trace(evt_val_8,1), trace(evt_val_7,2), trace(evt_val_9,3), trace(evt_val_10,4), trace(evt_val_3,5), trace(evt_val_7,6)]\n",
      "DEBUG:ASP generator: Traces generated :[assigned_value(attr_name_0,attr_value_24,1), assigned_value(attr_name_0,attr_value_0,2), assigned_value(attr_name_0,attr_value_24,3), assigned_value(attr_name_0,attr_value_4,4), assigned_value(attr_name_0,attr_value_24,5), assigned_value(attr_name_0,attr_value_24,6), assigned_value(attr_name_1,attr_value_146,1), assigned_value(attr_name_2,90,1), assigned_value(attr_name_3,attr_value_147,1), assigned_value(attr_name_4,attr_value_147,1), assigned_value(attr_name_5,attr_value_147,1), assigned_value(attr_name_6,attr_value_148,1), assigned_value(attr_name_7,attr_value_147,1), assigned_value(attr_name_8,attr_value_148,1), assigned_value(attr_name_9,attr_value_148,1), assigned_value(attr_name_10,attr_value_147,1), assigned_value(attr_name_11,attr_value_147,1), assigned_value(attr_name_12,attr_value_148,1), assigned_value(attr_name_13,attr_value_147,1), assigned_value(attr_name_14,attr_value_147,1), assigned_value(attr_name_15,attr_value_147,1), assigned_value(attr_name_16,attr_value_148,1), assigned_value(attr_name_17,attr_value_147,1), assigned_value(attr_name_18,attr_value_148,1), assigned_value(attr_name_19,attr_value_147,1), assigned_value(attr_name_20,attr_value_147,1), assigned_value(attr_name_21,attr_value_147,1), assigned_value(attr_name_22,attr_value_147,1), assigned_value(attr_name_23,attr_value_147,1), assigned_value(attr_name_24,attr_value_147,1), trace(evt_val_1,1), trace(evt_val_6,2), trace(evt_val_6,3), trace(evt_val_9,4), trace(evt_val_7,5), trace(evt_val_7,6)]\n",
      "DEBUG:ASP generator: Traces generated :[assigned_value(attr_name_0,attr_value_0,1), assigned_value(attr_name_0,attr_value_8,2), assigned_value(attr_name_0,attr_value_4,3), assigned_value(attr_name_0,attr_value_25,4), assigned_value(attr_name_0,attr_value_24,5), assigned_value(attr_name_0,attr_value_23,6), assigned_value(attr_name_1,attr_value_146,1), assigned_value(attr_name_1,attr_value_146,5), assigned_value(attr_name_2,90,1), assigned_value(attr_name_2,89,5), assigned_value(evt_val_3,137,5), trace(evt_val_8,1), trace(evt_val_7,2), trace(evt_val_9,3), trace(evt_val_10,4), trace(evt_val_3,5), trace(evt_val_7,6)]\n",
      "DEBUG:ASP generator: Clingo Result: SAT\n",
      "DEBUG:ASP generator: Total trace to generate and events: Traces:1, Events: 8, RandFrequency: 1.0\n",
      "DEBUG:ASP generator: Traces generated :[assigned_value(attr_name_0,attr_value_24,1), assigned_value(attr_name_0,attr_value_0,2), assigned_value(attr_name_0,attr_value_24,3), assigned_value(attr_name_0,attr_value_24,4), assigned_value(attr_name_0,attr_value_24,5), assigned_value(attr_name_0,attr_value_24,6), assigned_value(attr_name_0,attr_value_24,7), assigned_value(attr_name_0,attr_value_24,8), assigned_value(attr_name_1,attr_value_146,1), assigned_value(attr_name_2,90,1), assigned_value(attr_name_3,attr_value_147,1), assigned_value(attr_name_4,attr_value_147,1), assigned_value(attr_name_5,attr_value_147,1), assigned_value(attr_name_6,attr_value_148,1), assigned_value(attr_name_7,attr_value_147,1), assigned_value(attr_name_8,attr_value_148,1), assigned_value(attr_name_9,attr_value_148,1), assigned_value(attr_name_10,attr_value_147,1), assigned_value(attr_name_11,attr_value_147,1), assigned_value(attr_name_12,attr_value_148,1), assigned_value(attr_name_13,attr_value_147,1), assigned_value(attr_name_14,attr_value_147,1), assigned_value(attr_name_15,attr_value_147,1), assigned_value(attr_name_16,attr_value_147,1), assigned_value(attr_name_17,attr_value_147,1), assigned_value(attr_name_18,attr_value_148,1), assigned_value(attr_name_19,attr_value_147,1), assigned_value(attr_name_20,attr_value_147,1), assigned_value(attr_name_21,attr_value_147,1), assigned_value(attr_name_22,attr_value_147,1), assigned_value(attr_name_23,attr_value_148,1), assigned_value(attr_name_24,attr_value_147,1), assigned_value(evt_val_5,149,5), trace(evt_val_1,1), trace(evt_val_6,2), trace(evt_val_10,3), trace(evt_val_9,4), trace(evt_val_5,5), trace(evt_val_9,6), trace(evt_val_7,7), trace(evt_val_7,8)]\n",
      "DEBUG:ASP generator: Clingo Result: SAT\n",
      "DEBUG:ASP generator: Total trace to generate and events: Traces:2, Events: 10, RandFrequency: 1.0\n",
      "DEBUG:ASP generator: Traces generated :[assigned_value(attr_name_0,attr_value_0,1), assigned_value(attr_name_0,attr_value_24,2), assigned_value(attr_name_0,attr_value_24,3), assigned_value(attr_name_0,attr_value_11,4), assigned_value(attr_name_0,attr_value_22,5), assigned_value(attr_name_0,attr_value_11,6), assigned_value(attr_name_0,attr_value_11,7), assigned_value(attr_name_0,attr_value_24,8), assigned_value(attr_name_0,attr_value_24,9), assigned_value(attr_name_0,attr_value_24,10), assigned_value(attr_name_1,attr_value_146,2), assigned_value(attr_name_1,attr_value_145,4), assigned_value(attr_name_1,attr_value_146,6), assigned_value(attr_name_2,90,2), assigned_value(attr_name_2,90,4), assigned_value(attr_name_2,90,6), assigned_value(attr_name_3,attr_value_148,2), assigned_value(attr_name_4,attr_value_148,2), assigned_value(attr_name_5,attr_value_147,2), assigned_value(attr_name_6,attr_value_148,2), assigned_value(attr_name_7,attr_value_147,2), assigned_value(attr_name_8,attr_value_148,2), assigned_value(attr_name_9,attr_value_148,2), assigned_value(attr_name_10,attr_value_148,2), assigned_value(attr_name_11,attr_value_148,2), assigned_value(attr_name_12,attr_value_148,2), assigned_value(attr_name_13,attr_value_147,2), assigned_value(attr_name_14,attr_value_147,2), assigned_value(attr_name_15,attr_value_148,2), assigned_value(attr_name_16,attr_value_148,2), assigned_value(attr_name_17,attr_value_148,2), assigned_value(attr_name_18,attr_value_148,2), assigned_value(attr_name_19,attr_value_147,2), assigned_value(attr_name_20,attr_value_148,2), assigned_value(attr_name_21,attr_value_148,2), assigned_value(attr_name_22,attr_value_147,2), assigned_value(attr_name_23,attr_value_148,2), assigned_value(attr_name_24,attr_value_148,2), assigned_value(evt_val_5,149,9), trace(evt_val_6,1), trace(evt_val_1,2), trace(evt_val_7,3), trace(evt_val_0,4), trace(evt_val_6,5), trace(evt_val_2,6), trace(evt_val_6,7), trace(evt_val_7,8), trace(evt_val_5,9), trace(evt_val_7,10)]\n",
      "DEBUG:ASP generator: Traces generated :[assigned_value(attr_name_0,attr_value_24,1), assigned_value(attr_name_0,attr_value_24,2), assigned_value(attr_name_0,attr_value_0,3), assigned_value(attr_name_0,attr_value_9,4), assigned_value(attr_name_0,attr_value_9,5), assigned_value(attr_name_0,attr_value_11,6), assigned_value(attr_name_0,attr_value_11,7), assigned_value(attr_name_0,attr_value_24,8), assigned_value(attr_name_0,attr_value_24,9), assigned_value(attr_name_0,attr_value_24,10), assigned_value(attr_name_1,attr_value_146,3), assigned_value(attr_name_1,attr_value_146,6), assigned_value(attr_name_1,attr_value_146,8), assigned_value(attr_name_2,90,3), assigned_value(attr_name_2,90,6), assigned_value(attr_name_2,90,8), assigned_value(evt_val_3,137,8), assigned_value(evt_val_5,149,10), trace(evt_val_7,1), trace(evt_val_9,2), trace(evt_val_0,3), trace(evt_val_11,4), trace(evt_val_7,5), trace(evt_val_8,6), trace(evt_val_7,7), trace(evt_val_3,8), trace(evt_val_10,9), trace(evt_val_5,10)]\n",
      "DEBUG:ASP generator: Clingo Result: SAT\n",
      "DEBUG:ASP generator: Total trace to generate and events: Traces:1, Events: 9, RandFrequency: 1.0\n",
      "DEBUG:ASP generator: Traces generated :[assigned_value(attr_name_0,attr_value_24,1), assigned_value(attr_name_0,attr_value_24,2), assigned_value(attr_name_0,attr_value_0,3), assigned_value(attr_name_0,attr_value_24,4), assigned_value(attr_name_0,attr_value_24,5), assigned_value(attr_name_0,attr_value_24,6), assigned_value(attr_name_0,attr_value_24,7), assigned_value(attr_name_0,attr_value_24,8), assigned_value(attr_name_0,attr_value_24,9), assigned_value(attr_name_1,attr_value_146,4), assigned_value(attr_name_1,attr_value_146,8), assigned_value(attr_name_1,attr_value_146,9), assigned_value(attr_name_2,90,4), assigned_value(attr_name_2,90,8), assigned_value(attr_name_2,90,9), assigned_value(evt_val_3,137,4), trace(evt_val_7,1), trace(evt_val_10,2), trace(evt_val_6,3), trace(evt_val_3,4), trace(evt_val_7,5), trace(evt_val_11,6), trace(evt_val_7,7), trace(evt_val_0,8), trace(evt_val_2,9)]\n",
      "DEBUG:ASP generator: Clingo Result: SAT\n",
      "DEBUG:ASP generator: Total trace to generate and events: Traces:1, Events: 7, RandFrequency: 1.0\n",
      "DEBUG:ASP generator: Traces generated :[assigned_value(attr_name_0,attr_value_0,1), assigned_value(attr_name_0,attr_value_4,2), assigned_value(attr_name_0,attr_value_4,3), assigned_value(attr_name_0,attr_value_4,4), assigned_value(attr_name_0,attr_value_0,5), assigned_value(attr_name_0,attr_value_24,6), assigned_value(attr_name_0,attr_value_4,7), trace(evt_val_10,1), trace(evt_val_9,2), trace(evt_val_9,3), trace(evt_val_10,4), trace(evt_val_7,5), trace(evt_val_7,6), trace(evt_val_9,7)]\n",
      "DEBUG:ASP generator: Clingo Result: SAT\n",
      "DEBUG:ASP generator:Traces generated. Positive: 10 Neg: 0. Parsing Trace results.\n",
      "DEBUG:ASP generator:Trace results parsed\n",
      "DEBUG:ASP generator:Generating Pm4py log\n",
      "DEBUG:ASP generator:Pm4py generated but not saved yet\n"
     ]
    },
    {
     "name": "stdout",
     "output_type": "stream",
     "text": [
      "CPU times: total: 27.7 s\n",
      "Wall time: 4.44 s\n"
     ]
    }
   ],
   "source": [
    "%%time\n",
    "\n",
    "model1_gen.run()\n",
    "model1_gen.to_csv(f\"Log_results/{model1_name}.csv\")"
   ],
   "metadata": {
    "collapsed": false,
    "ExecuteTime": {
     "end_time": "2024-03-28T16:56:41.261383Z",
     "start_time": "2024-03-28T16:56:36.820909Z"
    }
   },
   "id": "3e4ac1c1e62f71c2",
   "execution_count": 3
  },
  {
   "cell_type": "code",
   "outputs": [],
   "source": [
    "%%time\n",
    "\n",
    "model2_gen.run()\n",
    "model2_gen.to_csv(f\"Log_results/{model2_name}.csv\")"
   ],
   "metadata": {
    "collapsed": false
   },
   "id": "e8ef32f3ecee7e95",
   "execution_count": null
  },
  {
   "cell_type": "code",
   "outputs": [],
   "source": [],
   "metadata": {
    "collapsed": false
   },
   "id": "6070dcef7e0e2c9d"
  },
  {
   "cell_type": "code",
   "outputs": [],
   "source": [],
   "metadata": {
    "collapsed": false
   },
   "id": "2480dcde64c0e4cd"
  },
  {
   "cell_type": "code",
   "outputs": [],
   "source": [],
   "metadata": {
    "collapsed": false
   },
   "id": "b0c21904ae18b55"
  },
  {
   "cell_type": "code",
   "outputs": [],
   "source": [],
   "metadata": {
    "collapsed": false
   },
   "id": "88fa903a637798b"
  },
  {
   "cell_type": "code",
   "outputs": [],
   "source": [
    "sorted_list = sorted(similarity_dict.items())\n",
    "filtered_list = []\n",
    "\n",
    "threshold = 45\n",
    "\n",
    "for csv_file in sorted_list:\n",
    "    if csv_file[1] > threshold:\n",
    "        filtered_list.append(csv_file)\n",
    "        \n",
    "filtered_list.sort(key = lambda x: x[1], reverse = True)\n",
    "\n",
    "files = [file[0] for file in filtered_list]\n",
    "\n",
    "def get_similarity(csv_file: str):\n",
    "    for name, similarity in filtered_list:\n",
    "        if name == csv_file:\n",
    "            return similarity\n",
    "    return 0\n",
    "\n",
    "for file in os.listdir(\"Log_results\"):\n",
    "    if file not in files:\n",
    "        try:\n",
    "            os.remove(f\"Log_results/{file}\")\n",
    "        except FileNotFoundError:\n",
    "            pass\n",
    "    else:\n",
    "        try:\n",
    "            os.rename(\"Log_results/\" + file, f\"Log_results/similarity_{get_similarity(file)}_\" + file)\n",
    "        except FileNotFoundError:\n",
    "            print(\"file not found\")\n",
    "            pass\n",
    "            "
   ],
   "metadata": {
    "collapsed": false
   },
   "id": "9f9cfb0996db3360",
   "execution_count": null
  },
  {
   "cell_type": "code",
   "outputs": [],
   "source": [
    "sorted_list = sorted(similarity_dict.items())\n",
    "\n",
    "def get_similarity(csv_file: str):\n",
    "    for name, similarity in filtered_list:\n",
    "        if name == csv_file:\n",
    "            return similarity\n",
    "    return 0\n",
    "\n",
    "for file in os.listdir(\"Log_results\"):\n",
    "    try:\n",
    "        os.rename(\"Log_results/\" + file, f\"Log_results/similarity_{get_similarity(file)}_\" + file)\n",
    "    except FileNotFoundError:\n",
    "        print(\"file not found\")\n",
    "        pass\n"
   ],
   "metadata": {
    "collapsed": false
   },
   "id": "d5c08959ca8cda5b",
   "execution_count": null
  },
  {
   "cell_type": "code",
   "outputs": [],
   "source": [],
   "metadata": {
    "collapsed": false
   },
   "id": "2280abf3464db6c4"
  }
 ],
 "metadata": {
  "kernelspec": {
   "display_name": "Python 3",
   "language": "python",
   "name": "python3"
  },
  "language_info": {
   "codemirror_mode": {
    "name": "ipython",
    "version": 2
   },
   "file_extension": ".py",
   "mimetype": "text/x-python",
   "name": "python",
   "nbconvert_exporter": "python",
   "pygments_lexer": "ipython2",
   "version": "2.7.6"
  }
 },
 "nbformat": 4,
 "nbformat_minor": 5
}
