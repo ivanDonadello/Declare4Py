{
 "cells": [
  {
   "cell_type": "code",
   "outputs": [],
   "source": [
    "import pandas as pd\n",
    "from Declare4Py.ProcessMiningTasks.ASPLogGeneration.ASPUtils.damerauLevenshtein import DamerauLevenshteinDistance\n",
    "import os\n",
    "from pprint import pprint"
   ],
   "metadata": {
    "collapsed": false,
    "ExecuteTime": {
     "end_time": "2024-03-20T13:18:06.187695Z",
     "start_time": "2024-03-20T13:18:06.184631Z"
    }
   },
   "id": "d365805ed1f02f88",
   "execution_count": 15
  },
  {
   "cell_type": "code",
   "outputs": [
    {
     "name": "stdout",
     "output_type": "stream",
     "text": [
      "CPU times: total: 11.4 s\n",
      "Wall time: 11.5 s\n"
     ]
    }
   ],
   "source": [
    "%%time\n",
    "\n",
    "Cols_Name = [\"Configuration\", \"Distance\", \"Time\", \"Frequency\"]\n",
    "threads_dict = {\"4\": [], \"6\": [], \"8\": [],\"10\": [],\"12\": []}\n",
    "\n",
    "for file in os.listdir(\"Log_results\"):\n",
    "    \n",
    "    stripped_file = file.split(\"_\")\n",
    "    \n",
    "    time = stripped_file[1]\n",
    "    config = stripped_file[3]\n",
    "    thread = stripped_file[5]\n",
    "    freq = stripped_file[7].split(\".c\")[0]\n",
    "    distance = DamerauLevenshteinDistance.analize_csv(f\"Log_results/{file}\")\n",
    "    \n",
    "    threads_dict[thread].append([config, distance, time, freq])\n",
    "    \n",
    "    try:\n",
    "        os.rename(\"Log_results/\" + file, f\"Log_results/similarity_{distance}_\" + file)\n",
    "    except FileNotFoundError:\n",
    "        print(\"file not found\")\n",
    "    \n"
   ],
   "metadata": {
    "collapsed": false,
    "ExecuteTime": {
     "end_time": "2024-03-20T13:18:20.236161Z",
     "start_time": "2024-03-20T13:18:08.765331Z"
    }
   },
   "id": "b6cdc583a8d12954",
   "execution_count": 16
  },
  {
   "cell_type": "code",
   "outputs": [],
   "source": [
    "for key, value in threads_dict.items():\n",
    "    df = pd.DataFrame(value, columns=Cols_Name)\n",
    "    df.to_csv(f\"Log_results/similarity_report_threads_{key}.csv\")"
   ],
   "metadata": {
    "collapsed": false,
    "ExecuteTime": {
     "end_time": "2024-03-20T13:18:23.009946Z",
     "start_time": "2024-03-20T13:18:22.990503Z"
    }
   },
   "id": "478dd18ed3b9559e",
   "execution_count": 17
  },
  {
   "cell_type": "code",
   "outputs": [],
   "source": [],
   "metadata": {
    "collapsed": false
   },
   "id": "d1dbafc55667d283"
  },
  {
   "cell_type": "code",
   "outputs": [],
   "source": [],
   "metadata": {
    "collapsed": false
   },
   "id": "3e4ac1c1e62f71c2"
  },
  {
   "cell_type": "code",
   "outputs": [],
   "source": [],
   "metadata": {
    "collapsed": false
   },
   "id": "e8ef32f3ecee7e95"
  },
  {
   "cell_type": "code",
   "outputs": [],
   "source": [],
   "metadata": {
    "collapsed": false
   },
   "id": "6070dcef7e0e2c9d"
  },
  {
   "cell_type": "code",
   "outputs": [],
   "source": [],
   "metadata": {
    "collapsed": false
   },
   "id": "2480dcde64c0e4cd"
  },
  {
   "cell_type": "code",
   "outputs": [],
   "source": [],
   "metadata": {
    "collapsed": false
   },
   "id": "b0c21904ae18b55"
  },
  {
   "cell_type": "code",
   "outputs": [],
   "source": [],
   "metadata": {
    "collapsed": false
   },
   "id": "88fa903a637798b"
  },
  {
   "cell_type": "code",
   "outputs": [],
   "source": [
    "sorted_list = sorted(similarity_dict.items())\n",
    "filtered_list = []\n",
    "\n",
    "threshold = 45\n",
    "\n",
    "for csv_file in sorted_list:\n",
    "    if csv_file[1] > threshold:\n",
    "        filtered_list.append(csv_file)\n",
    "        \n",
    "filtered_list.sort(key = lambda x: x[1], reverse = True)\n",
    "\n",
    "files = [file[0] for file in filtered_list]\n",
    "\n",
    "def get_similarity(csv_file: str):\n",
    "    for name, similarity in filtered_list:\n",
    "        if name == csv_file:\n",
    "            return similarity\n",
    "    return 0\n",
    "\n",
    "for file in os.listdir(\"Log_results\"):\n",
    "    if file not in files:\n",
    "        try:\n",
    "            os.remove(f\"Log_results/{file}\")\n",
    "        except FileNotFoundError:\n",
    "            pass\n",
    "    else:\n",
    "        try:\n",
    "            os.rename(\"Log_results/\" + file, f\"Log_results/similarity_{get_similarity(file)}_\" + file)\n",
    "        except FileNotFoundError:\n",
    "            print(\"file not found\")\n",
    "            pass\n",
    "            "
   ],
   "metadata": {
    "collapsed": false,
    "ExecuteTime": {
     "end_time": "2024-03-20T09:50:10.032591Z",
     "start_time": "2024-03-20T09:50:10.017594Z"
    }
   },
   "id": "9f9cfb0996db3360",
   "execution_count": 17
  },
  {
   "cell_type": "code",
   "outputs": [
    {
     "ename": "NameError",
     "evalue": "name 'similarity_dict' is not defined",
     "output_type": "error",
     "traceback": [
      "\u001B[1;31m---------------------------------------------------------------------------\u001B[0m",
      "\u001B[1;31mNameError\u001B[0m                                 Traceback (most recent call last)",
      "Cell \u001B[1;32mIn[1], line 1\u001B[0m\n\u001B[1;32m----> 1\u001B[0m sorted_list \u001B[38;5;241m=\u001B[39m \u001B[38;5;28msorted\u001B[39m(\u001B[43msimilarity_dict\u001B[49m\u001B[38;5;241m.\u001B[39mitems())\n\u001B[0;32m      3\u001B[0m \u001B[38;5;28;01mdef\u001B[39;00m \u001B[38;5;21mget_similarity\u001B[39m(csv_file: \u001B[38;5;28mstr\u001B[39m):\n\u001B[0;32m      4\u001B[0m     \u001B[38;5;28;01mfor\u001B[39;00m name, similarity \u001B[38;5;129;01min\u001B[39;00m filtered_list:\n",
      "\u001B[1;31mNameError\u001B[0m: name 'similarity_dict' is not defined"
     ]
    }
   ],
   "source": [
    "sorted_list = sorted(similarity_dict.items())\n",
    "\n",
    "def get_similarity(csv_file: str):\n",
    "    for name, similarity in filtered_list:\n",
    "        if name == csv_file:\n",
    "            return similarity\n",
    "    return 0\n",
    "\n",
    "for file in os.listdir(\"Log_results\"):\n",
    "    try:\n",
    "        os.rename(\"Log_results/\" + file, f\"Log_results/similarity_{get_similarity(file)}_\" + file)\n",
    "    except FileNotFoundError:\n",
    "        print(\"file not found\")\n",
    "        pass\n"
   ],
   "metadata": {
    "collapsed": false,
    "ExecuteTime": {
     "end_time": "2024-03-20T11:08:58.659608Z",
     "start_time": "2024-03-20T11:08:58.297018Z"
    }
   },
   "id": "d5c08959ca8cda5b",
   "execution_count": 1
  },
  {
   "cell_type": "code",
   "outputs": [],
   "source": [],
   "metadata": {
    "collapsed": false
   },
   "id": "2280abf3464db6c4"
  }
 ],
 "metadata": {
  "kernelspec": {
   "display_name": "Python 3",
   "language": "python",
   "name": "python3"
  },
  "language_info": {
   "codemirror_mode": {
    "name": "ipython",
    "version": 2
   },
   "file_extension": ".py",
   "mimetype": "text/x-python",
   "name": "python",
   "nbconvert_exporter": "python",
   "pygments_lexer": "ipython2",
   "version": "2.7.6"
  }
 },
 "nbformat": 4,
 "nbformat_minor": 5
}
