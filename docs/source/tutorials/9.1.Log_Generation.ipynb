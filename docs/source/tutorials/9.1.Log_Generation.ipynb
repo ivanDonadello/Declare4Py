{
 "cells": [
  {
   "cell_type": "markdown",
   "source": [
    "# Synthetic Log Generation from DECLARE Models\n",
    "\n",
    "DECLARE4Py implements the generation of synthetic logs from DECLARE models with a solution based on Answer Set Programming that uses a Clingo solver. More details can be found in the paper of Chiariello, F., Maggi, F. M., & Patrizi, F. (2022, June). ASP-Based Declarative Process Mining. In *Proceedings of the AAAI Conference on Artificial Intelligence* (Vol. 36, No. 5, pp. 5539-5547).\n",
    "\n",
    "As first step, it is necessary to import a `.decl` file containing the DECLARE constraints."
   ],
   "metadata": {
    "collapsed": false
   },
   "id": "1fbff07862be6901"
  },
  {
   "cell_type": "code",
   "execution_count": 4,
   "id": "initial_id",
   "metadata": {
    "collapsed": true,
    "ExecuteTime": {
     "end_time": "2023-12-09T16:43:41.449862900Z",
     "start_time": "2023-12-09T16:43:41.427863500Z"
    }
   },
   "outputs": [],
   "source": [
    "import os\n",
    "from Declare4Py.ProcessModels.Declare4PyModel import DeclareModel\n",
    "\n",
    "model_name = 'sepsis'\n",
    "model: DeclareModel = DeclareModel().parse_from_file(os.path.join(\"../../../\", \"tests\", \"test_models\", f\"{model_name}.decl\"))"
   ]
  },
  {
   "cell_type": "markdown",
   "source": [
    "Then, some general settings are needed to set the number of cases to generate and the minimum and maximum number of events for each case\n"
   ],
   "metadata": {
    "collapsed": false
   },
   "id": "6d76775986470c57"
  },
  {
   "cell_type": "code",
   "execution_count": 3,
   "outputs": [],
   "source": [
    "# Number of cases that have be generated\n",
    "num_of_cases = 10\n",
    "\n",
    "# Minimum and maximum number of events a case can contain\n",
    "(num_min_events, num_max_events) = (3, 10)"
   ],
   "metadata": {
    "collapsed": false,
    "ExecuteTime": {
     "end_time": "2023-12-09T16:17:29.829000800Z",
     "start_time": "2023-12-09T16:17:29.809000600Z"
    }
   },
   "id": "7b1283c66a9f46c0"
  },
  {
   "cell_type": "markdown",
   "source": [
    "The class `AspGenerator` has to be instantiated with the DECLARE model and the settings of above. Then, the `run` method will generate the cases and the `to_xes` method will save them in a `.xes` event log."
   ],
   "metadata": {
    "collapsed": false
   },
   "id": "c54f5ffce90f035b"
  },
  {
   "cell_type": "code",
   "execution_count": null,
   "outputs": [],
   "source": [
    "from Declare4Py.ProcessMiningTasks.LogGenerator.ASP.ASPGenerator import AspGenerator\n",
    "\n",
    "asp_gen: AspGenerator = AspGenerator(model, num_of_cases, num_min_events, num_max_events)\n",
    "asp_gen.run()"
   ],
   "metadata": {
    "collapsed": false
   },
   "id": "c36444f6f069ed5"
  }
 ],
 "metadata": {
  "kernelspec": {
   "display_name": "Python 3",
   "language": "python",
   "name": "python3"
  },
  "language_info": {
   "codemirror_mode": {
    "name": "ipython",
    "version": 2
   },
   "file_extension": ".py",
   "mimetype": "text/x-python",
   "name": "python",
   "nbconvert_exporter": "python",
   "pygments_lexer": "ipython2",
   "version": "2.7.6"
  }
 },
 "nbformat": 4,
 "nbformat_minor": 5
}
