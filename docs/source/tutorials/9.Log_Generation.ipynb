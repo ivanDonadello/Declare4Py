{
 "cells": [
  {
   "cell_type": "markdown",
   "id": "4f5a9a59",
   "metadata": {},
   "source": [
    "# Synthetic Log Generation from DECLARE Models\n",
    "\n",
    "DECLARE4Py implements the generation of synthetic logs from DECLARE models with a solution based on Answer Set Programming that uses a Clingo solver. More details can be found in the paper of Chiariello, F., Maggi, F. M., & Patrizi, F. (2022, June). ASP-Based Declarative Process Mining. In *Proceedings of the AAAI Conference on Artificial Intelligence* (Vol. 36, No. 5, pp. 5539-5547).\n",
    "\n",
    "As first step, it is necessary to import a `.decl` file containing the DECLARE constraints."
   ]
  },
  {
   "cell_type": "code",
   "outputs": [],
   "source": [
    "import os\n",
    "from Declare4Py.ProcessModels.DeclareModel import DeclareModel\n",
    "\n",
    "model_name = 'sepsis'\n",
    "model: DeclareModel = DeclareModel().parse_from_file(os.path.join(\"../../../\", \"tests\", \"test_models\", f\"{model_name}.decl\"))"
   ],
   "metadata": {
    "collapsed": false,
    "ExecuteTime": {
     "end_time": "2024-03-14T16:29:36.518612Z",
     "start_time": "2024-03-14T16:29:34.837612Z"
    }
   },
   "id": "bdf42d09",
   "execution_count": 1
  },
  {
   "cell_type": "markdown",
   "source": [
    "Then, some general settings are needed to set the number of cases to generate and the minimum and maximum number of events for each case"
   ],
   "metadata": {
    "collapsed": false
   },
   "id": "7a9b8417"
  },
  {
   "cell_type": "code",
   "execution_count": 2,
   "id": "785a61eb",
   "metadata": {
    "ExecuteTime": {
     "end_time": "2024-03-14T16:29:36.534613Z",
     "start_time": "2024-03-14T16:29:36.519612Z"
    }
   },
   "outputs": [],
   "source": [
    "# Number of cases that have be generated\n",
    "num_of_cases = 10\n",
    "\n",
    "# Minimum and maximum number of events a case can contain\n",
    "(num_min_events, num_max_events) = (6,10)"
   ]
  },
  {
   "cell_type": "markdown",
   "id": "6a06484d",
   "metadata": {},
   "source": [
    "The class `AspGenerator` has to be instantiated with the DECLARE model and the settings of above. Then, the `run` method will generate the cases and the `to_xes` method will save them in a `.xes` event log."
   ]
  },
  {
   "cell_type": "code",
   "execution_count": 3,
   "id": "e3669320",
   "metadata": {
    "ExecuteTime": {
     "end_time": "2024-03-14T16:29:45.342614Z",
     "start_time": "2024-03-14T16:29:36.535612Z"
    }
   },
   "outputs": [
    {
     "name": "stderr",
     "output_type": "stream",
     "text": [
      "DEBUG:ASP generator:Distribution for traces uniform\n",
      "DEBUG:ASP generator:traces: 10, events can have a trace min(6) max(10)\n",
      "INFO:ASP generator:Computing distribution\n",
      "DEBUG:Distributor:Distribution() uniform min_mu: 6 max_sigma: 10 num_traces: 10 custom_prob: None\n",
      "DEBUG:Distributor:Uniform() probabilities: [Fraction(1, 5), Fraction(1, 5), Fraction(1, 5), Fraction(1, 5), Fraction(1, 5)]\n",
      "DEBUG:Distributor:Custom_dist() min_mu:6 max_sigma:10 num_traces:10\n",
      "DEBUG:Distributor:Probabilities sum 1\n",
      "DEBUG:Distributor:Distribution result: [10  8  7  6  9  8 10  8  6  6]\n",
      "INFO:ASP generator:Distribution result Counter({8: 3, 6: 3, 10: 2, 7: 1, 9: 1})\n",
      "DEBUG:ASP generator:Using custom traces length\n",
      "INFO:ASP generator:Computing distribution\n",
      "DEBUG:Distributor:Distribution() uniform min_mu: 6 max_sigma: 10 num_traces: 10 custom_prob: None\n",
      "DEBUG:Distributor:Uniform() probabilities: [Fraction(1, 5), Fraction(1, 5), Fraction(1, 5), Fraction(1, 5), Fraction(1, 5)]\n",
      "DEBUG:Distributor:Custom_dist() min_mu:6 max_sigma:10 num_traces:10\n",
      "DEBUG:Distributor:Probabilities sum 1\n",
      "DEBUG:Distributor:Distribution result: [ 8  9  7  7  7  9  8  7  9 10]\n",
      "INFO:ASP generator:Distribution result Counter({7: 4, 9: 3, 8: 2, 10: 1})\n",
      "INFO:ASP generator:Computing distribution\n",
      "DEBUG:ASP generator:Generating traces\n",
      "DEBUG:ASP generator:Translate declare model to ASP\n",
      "DEBUG:ASP generator:Declare model translated to ASP. Total Facts 13\n",
      "DEBUG:ASP generator:ASP encoding generated\n",
      "DEBUG:ASP generator:Start generating traces: Counter({7: 4, 9: 3, 8: 2, 10: 1})\n",
      "DEBUG:ASP generator: Total trace to generate and events: Traces:2, Events: 8, RandFrequency: 0.9\n",
      "DEBUG:ASP generator: Generating trace:1/2 with events:8)\n",
      "DEBUG:ASP generator: Initializing clingo trace(1/2) with length:8), Seed 3969753759\n",
      "DEBUG:ASP generator: Traces generated :[assigned_value(attr_name_0,attr_value_9,1), assigned_value(attr_name_0,attr_value_9,2), assigned_value(attr_name_0,attr_value_9,3), assigned_value(attr_name_0,attr_value_8,4), assigned_value(attr_name_0,attr_value_9,5), assigned_value(attr_name_0,attr_value_9,6), assigned_value(attr_name_0,attr_value_2,7), assigned_value(attr_name_0,attr_value_1,8), assigned_value(attr_name_1,attr_value_26,1), assigned_value(attr_name_1,attr_value_26,2), assigned_value(attr_name_1,attr_value_26,3), assigned_value(attr_name_1,attr_value_26,4), assigned_value(attr_name_1,attr_value_26,5), assigned_value(attr_name_1,attr_value_30,6), assigned_value(attr_name_1,attr_value_26,7), assigned_value(attr_name_1,attr_value_26,8), assigned_value(attr_name_2,20,1), assigned_value(attr_name_2,22,2), assigned_value(attr_name_2,22,3), assigned_value(attr_name_2,20,4), assigned_value(attr_name_2,20,5), assigned_value(attr_name_2,21,6), assigned_value(attr_name_2,23,7), assigned_value(attr_name_2,22,8), assigned_value(attr_name_3,attr_value_147,1), assigned_value(attr_name_4,attr_value_147,1), assigned_value(attr_name_5,attr_value_147,1), assigned_value(attr_name_6,attr_value_147,1), assigned_value(attr_name_7,attr_value_147,1), assigned_value(attr_name_8,attr_value_148,1), assigned_value(attr_name_9,attr_value_148,1), assigned_value(attr_name_10,attr_value_148,1), assigned_value(attr_name_11,attr_value_148,1), assigned_value(attr_name_12,attr_value_147,1), assigned_value(attr_name_13,attr_value_148,1), assigned_value(attr_name_14,attr_value_148,1), assigned_value(attr_name_15,attr_value_148,1), assigned_value(attr_name_16,attr_value_148,1), assigned_value(attr_name_17,attr_value_148,1), assigned_value(attr_name_18,attr_value_148,1), assigned_value(attr_name_19,attr_value_148,1), assigned_value(attr_name_20,attr_value_147,1), assigned_value(attr_name_21,attr_value_147,1), assigned_value(attr_name_22,attr_value_147,1), assigned_value(attr_name_23,attr_value_148,1), assigned_value(attr_name_24,attr_value_148,1), assigned_value(evt_val_3,3,3), assigned_value(evt_val_4,2306,4), assigned_value(evt_val_4,50,7), assigned_value(evt_val_4,2804,8), trace(evt_val_1,1), trace(evt_val_0,2), trace(evt_val_3,3), trace(evt_val_4,4), trace(evt_val_0,5), trace(evt_val_0,6), trace(evt_val_4,7), trace(evt_val_4,8)]\n",
      "DEBUG:ASP generator: Clingo Result: SAT\n",
      "DEBUG:ASP generator: Generating trace:2/2 with events:8)\n",
      "DEBUG:ASP generator: Initializing clingo trace(2/2) with length:8), Seed 1863593231\n",
      "DEBUG:ASP generator: Traces generated :[assigned_value(attr_name_0,attr_value_9,1), assigned_value(attr_name_0,attr_value_9,2), assigned_value(attr_name_0,attr_value_2,3), assigned_value(attr_name_0,attr_value_1,4), assigned_value(attr_name_0,attr_value_0,5), assigned_value(attr_name_0,attr_value_9,6), assigned_value(attr_name_0,attr_value_9,7), assigned_value(attr_name_0,attr_value_3,8), assigned_value(attr_name_1,attr_value_11,1), assigned_value(attr_name_1,attr_value_30,2), assigned_value(attr_name_1,attr_value_26,3), assigned_value(attr_name_1,attr_value_26,4), assigned_value(attr_name_1,attr_value_26,5), assigned_value(attr_name_1,attr_value_26,6), assigned_value(attr_name_1,attr_value_30,7), assigned_value(attr_name_1,attr_value_28,8), assigned_value(attr_name_2,20,1), assigned_value(attr_name_2,21,2), assigned_value(attr_name_2,23,3), assigned_value(attr_name_2,22,4), assigned_value(attr_name_2,20,5), assigned_value(attr_name_2,25,6), assigned_value(attr_name_2,21,7), assigned_value(attr_name_2,20,8), assigned_value(attr_name_3,attr_value_148,1), assigned_value(attr_name_4,attr_value_147,1), assigned_value(attr_name_5,attr_value_147,1), assigned_value(attr_name_6,attr_value_148,1), assigned_value(attr_name_7,attr_value_148,1), assigned_value(attr_name_8,attr_value_147,1), assigned_value(attr_name_9,attr_value_148,1), assigned_value(attr_name_10,attr_value_147,1), assigned_value(attr_name_11,attr_value_148,1), assigned_value(attr_name_12,attr_value_147,1), assigned_value(attr_name_13,attr_value_148,1), assigned_value(attr_name_14,attr_value_147,1), assigned_value(attr_name_15,attr_value_147,1), assigned_value(attr_name_16,attr_value_147,1), assigned_value(attr_name_17,attr_value_147,1), assigned_value(attr_name_18,attr_value_147,1), assigned_value(attr_name_19,attr_value_147,1), assigned_value(attr_name_20,attr_value_147,1), assigned_value(attr_name_21,attr_value_147,1), assigned_value(attr_name_22,attr_value_147,1), assigned_value(attr_name_23,attr_value_148,1), assigned_value(attr_name_24,attr_value_147,1), assigned_value(evt_val_3,3,6), assigned_value(evt_val_3,2,7), assigned_value(evt_val_4,50,3), assigned_value(evt_val_4,4451,4), assigned_value(evt_val_4,703,5), assigned_value(evt_val_4,50,8), trace(evt_val_1,1), trace(evt_val_0,2), trace(evt_val_4,3), trace(evt_val_4,4), trace(evt_val_4,5), trace(evt_val_3,6), trace(evt_val_3,7), trace(evt_val_4,8)]\n",
      "DEBUG:ASP generator: Clingo Result: SAT\n",
      "DEBUG:ASP generator: Total trace to generate and events: Traces:3, Events: 9, RandFrequency: 0.9\n",
      "DEBUG:ASP generator: Generating trace:1/3 with events:9)\n",
      "DEBUG:ASP generator: Initializing clingo trace(1/3) with length:9), Seed 1736962125\n",
      "DEBUG:ASP generator: Traces generated :[assigned_value(attr_name_0,attr_value_9,1), assigned_value(attr_name_0,attr_value_9,2), assigned_value(attr_name_0,attr_value_1,3), assigned_value(attr_name_0,attr_value_2,4), assigned_value(attr_name_0,attr_value_1,5), assigned_value(attr_name_0,attr_value_0,6), assigned_value(attr_name_0,attr_value_0,7), assigned_value(attr_name_0,attr_value_9,8), assigned_value(attr_name_0,attr_value_2,9), assigned_value(attr_name_1,attr_value_17,1), assigned_value(attr_name_1,attr_value_26,2), assigned_value(attr_name_1,attr_value_28,3), assigned_value(attr_name_1,attr_value_26,5), assigned_value(attr_name_1,attr_value_26,6), assigned_value(attr_name_1,attr_value_26,7), assigned_value(attr_name_1,attr_value_30,8), assigned_value(attr_name_1,attr_value_28,9), assigned_value(attr_name_2,20,1), assigned_value(attr_name_2,24,2), assigned_value(attr_name_2,20,3), assigned_value(attr_name_2,22,5), assigned_value(attr_name_2,20,6), assigned_value(attr_name_2,25,7), assigned_value(attr_name_2,21,8), assigned_value(attr_name_2,20,9), assigned_value(attr_name_3,attr_value_148,1), assigned_value(attr_name_4,attr_value_147,1), assigned_value(attr_name_5,attr_value_147,1), assigned_value(attr_name_6,attr_value_148,1), assigned_value(attr_name_7,attr_value_148,1), assigned_value(attr_name_8,attr_value_147,1), assigned_value(attr_name_9,attr_value_148,1), assigned_value(attr_name_10,attr_value_147,1), assigned_value(attr_name_11,attr_value_148,1), assigned_value(attr_name_12,attr_value_147,1), assigned_value(attr_name_13,attr_value_148,1), assigned_value(attr_name_14,attr_value_147,1), assigned_value(attr_name_15,attr_value_147,1), assigned_value(attr_name_16,attr_value_147,1), assigned_value(attr_name_17,attr_value_147,1), assigned_value(attr_name_18,attr_value_147,1), assigned_value(attr_name_19,attr_value_147,1), assigned_value(attr_name_20,attr_value_147,1), assigned_value(attr_name_21,attr_value_147,1), assigned_value(attr_name_22,attr_value_147,1), assigned_value(attr_name_23,attr_value_148,1), assigned_value(attr_name_24,attr_value_147,1), assigned_value(evt_val_3,3,8), assigned_value(evt_val_3,2,9), assigned_value(evt_val_4,50,3), assigned_value(evt_val_4,1473,5), assigned_value(evt_val_4,50,6), assigned_value(evt_val_4,50,7), assigned_value(evt_val_5,2,4), trace(evt_val_1,1), trace(evt_val_0,2), trace(evt_val_4,3), trace(evt_val_5,4), trace(evt_val_4,5), trace(evt_val_4,6), trace(evt_val_4,7), trace(evt_val_3,8), trace(evt_val_3,9)]\n",
      "DEBUG:ASP generator: Clingo Result: SAT\n",
      "DEBUG:ASP generator: Generating trace:2/3 with events:9)\n",
      "DEBUG:ASP generator: Initializing clingo trace(2/3) with length:9), Seed 455767665\n",
      "DEBUG:ASP generator: Traces generated :[assigned_value(attr_name_0,attr_value_0,1), assigned_value(attr_name_0,attr_value_1,2), assigned_value(attr_name_0,attr_value_9,3), assigned_value(attr_name_0,attr_value_0,4), assigned_value(attr_name_0,attr_value_0,5), assigned_value(attr_name_0,attr_value_2,6), assigned_value(attr_name_0,attr_value_0,7), assigned_value(attr_name_0,attr_value_0,8), assigned_value(attr_name_0,attr_value_0,9), assigned_value(attr_name_1,attr_value_26,1), assigned_value(attr_name_1,attr_value_34,2), assigned_value(attr_name_1,attr_value_26,3), assigned_value(attr_name_1,attr_value_26,4), assigned_value(attr_name_1,attr_value_28,5), assigned_value(attr_name_1,attr_value_26,7), assigned_value(attr_name_1,attr_value_26,8), assigned_value(attr_name_1,attr_value_26,9), assigned_value(attr_name_2,20,1), assigned_value(attr_name_2,20,2), assigned_value(attr_name_2,20,3), assigned_value(attr_name_2,24,4), assigned_value(attr_name_2,20,5), assigned_value(attr_name_2,22,7), assigned_value(attr_name_2,20,8), assigned_value(attr_name_2,25,9), assigned_value(attr_name_3,attr_value_147,1), assigned_value(attr_name_4,attr_value_148,1), assigned_value(attr_name_5,attr_value_148,1), assigned_value(attr_name_6,attr_value_148,1), assigned_value(attr_name_7,attr_value_148,1), assigned_value(attr_name_8,attr_value_147,1), assigned_value(attr_name_9,attr_value_148,1), assigned_value(attr_name_10,attr_value_147,1), assigned_value(attr_name_11,attr_value_148,1), assigned_value(attr_name_12,attr_value_147,1), assigned_value(attr_name_13,attr_value_147,1), assigned_value(attr_name_14,attr_value_148,1), assigned_value(attr_name_15,attr_value_148,1), assigned_value(attr_name_16,attr_value_148,1), assigned_value(attr_name_17,attr_value_147,1), assigned_value(attr_name_18,attr_value_147,1), assigned_value(attr_name_19,attr_value_147,1), assigned_value(attr_name_20,attr_value_148,1), assigned_value(attr_name_21,attr_value_147,1), assigned_value(attr_name_22,attr_value_147,1), assigned_value(attr_name_23,attr_value_148,1), assigned_value(attr_name_24,attr_value_147,1), assigned_value(evt_val_4,50,4), assigned_value(evt_val_4,50,8), assigned_value(evt_val_4,3788,9), assigned_value(evt_val_5,2,6), trace(evt_val_1,1), trace(evt_val_0,2), trace(evt_val_0,3), trace(evt_val_4,4), trace(evt_val_0,5), trace(evt_val_5,6), trace(evt_val_0,7), trace(evt_val_4,8), trace(evt_val_4,9)]\n",
      "DEBUG:ASP generator: Clingo Result: SAT\n",
      "DEBUG:ASP generator: Generating trace:3/3 with events:9)\n",
      "DEBUG:ASP generator: Initializing clingo trace(3/3) with length:9), Seed 1677823118\n",
      "DEBUG:ASP generator: Traces generated :[assigned_value(attr_name_0,attr_value_9,1), assigned_value(attr_name_0,attr_value_0,2), assigned_value(attr_name_0,attr_value_2,3), assigned_value(attr_name_0,attr_value_0,4), assigned_value(attr_name_0,attr_value_3,5), assigned_value(attr_name_0,attr_value_2,6), assigned_value(attr_name_0,attr_value_0,7), assigned_value(attr_name_0,attr_value_5,8), assigned_value(attr_name_0,attr_value_1,9), assigned_value(attr_name_1,attr_value_26,1), assigned_value(attr_name_1,attr_value_27,2), assigned_value(attr_name_1,attr_value_30,3), assigned_value(attr_name_1,attr_value_28,4), assigned_value(attr_name_1,attr_value_27,5), assigned_value(attr_name_1,attr_value_26,6), assigned_value(attr_name_1,attr_value_26,7), assigned_value(attr_name_1,attr_value_26,8), assigned_value(attr_name_1,attr_value_29,9), assigned_value(attr_name_2,20,1), assigned_value(attr_name_2,21,2), assigned_value(attr_name_2,24,3), assigned_value(attr_name_2,20,4), assigned_value(attr_name_2,20,5), assigned_value(attr_name_2,20,6), assigned_value(attr_name_2,20,7), assigned_value(attr_name_2,24,8), assigned_value(attr_name_2,22,9), assigned_value(attr_name_3,attr_value_147,1), assigned_value(attr_name_4,attr_value_148,1), assigned_value(attr_name_5,attr_value_147,1), assigned_value(attr_name_6,attr_value_147,1), assigned_value(attr_name_7,attr_value_148,1), assigned_value(attr_name_8,attr_value_148,1), assigned_value(attr_name_9,attr_value_147,1), assigned_value(attr_name_10,attr_value_148,1), assigned_value(attr_name_11,attr_value_147,1), assigned_value(attr_name_12,attr_value_147,1), assigned_value(attr_name_13,attr_value_147,1), assigned_value(attr_name_14,attr_value_148,1), assigned_value(attr_name_15,attr_value_148,1), assigned_value(attr_name_16,attr_value_147,1), assigned_value(attr_name_17,attr_value_147,1), assigned_value(attr_name_18,attr_value_147,1), assigned_value(attr_name_19,attr_value_148,1), assigned_value(attr_name_20,attr_value_147,1), assigned_value(attr_name_21,attr_value_148,1), assigned_value(attr_name_22,attr_value_148,1), assigned_value(attr_name_23,attr_value_148,1), assigned_value(attr_name_24,attr_value_148,1), assigned_value(evt_val_3,2,4), assigned_value(evt_val_4,50,5), assigned_value(evt_val_4,50,6), assigned_value(evt_val_4,2732,7), assigned_value(evt_val_4,3386,8), assigned_value(evt_val_4,1035,9), trace(evt_val_1,1), trace(evt_val_0,2), trace(evt_val_0,3), trace(evt_val_3,4), trace(evt_val_4,5), trace(evt_val_4,6), trace(evt_val_4,7), trace(evt_val_4,8), trace(evt_val_4,9)]\n",
      "DEBUG:ASP generator: Clingo Result: SAT\n",
      "DEBUG:ASP generator: Total trace to generate and events: Traces:4, Events: 7, RandFrequency: 0.9\n",
      "DEBUG:ASP generator: Generating trace:1/4 with events:7)\n",
      "DEBUG:ASP generator: Initializing clingo trace(1/4) with length:7), Seed 1986414388\n",
      "DEBUG:ASP generator: Traces generated :[assigned_value(attr_name_0,attr_value_9,1), assigned_value(attr_name_0,attr_value_0,2), assigned_value(attr_name_0,attr_value_9,3), assigned_value(attr_name_0,attr_value_0,4), assigned_value(attr_name_0,attr_value_0,5), assigned_value(attr_name_0,attr_value_9,6), assigned_value(attr_name_0,attr_value_4,7), assigned_value(attr_name_1,attr_value_26,1), assigned_value(attr_name_1,attr_value_27,2), assigned_value(attr_name_1,attr_value_28,3), assigned_value(attr_name_1,attr_value_28,4), assigned_value(attr_name_1,attr_value_26,5), assigned_value(attr_name_1,attr_value_26,6), assigned_value(attr_name_1,attr_value_27,7), assigned_value(attr_name_2,20,1), assigned_value(attr_name_2,20,2), assigned_value(attr_name_2,20,3), assigned_value(attr_name_2,28,4), assigned_value(attr_name_2,20,5), assigned_value(attr_name_2,20,6), assigned_value(attr_name_2,22,7), assigned_value(attr_name_3,attr_value_147,1), assigned_value(attr_name_4,attr_value_148,1), assigned_value(attr_name_5,attr_value_148,1), assigned_value(attr_name_6,attr_value_148,1), assigned_value(attr_name_7,attr_value_147,1), assigned_value(attr_name_8,attr_value_148,1), assigned_value(attr_name_9,attr_value_147,1), assigned_value(attr_name_10,attr_value_147,1), assigned_value(attr_name_11,attr_value_148,1), assigned_value(attr_name_12,attr_value_147,1), assigned_value(attr_name_13,attr_value_148,1), assigned_value(attr_name_14,attr_value_148,1), assigned_value(attr_name_15,attr_value_147,1), assigned_value(attr_name_16,attr_value_147,1), assigned_value(attr_name_17,attr_value_147,1), assigned_value(attr_name_18,attr_value_147,1), assigned_value(attr_name_19,attr_value_147,1), assigned_value(attr_name_20,attr_value_147,1), assigned_value(attr_name_21,attr_value_148,1), assigned_value(attr_name_22,attr_value_147,1), assigned_value(attr_name_23,attr_value_148,1), assigned_value(attr_name_24,attr_value_147,1), assigned_value(evt_val_3,2,6), assigned_value(evt_val_4,199,4), assigned_value(evt_val_4,1862,5), assigned_value(evt_val_4,51,7), trace(evt_val_1,1), trace(evt_val_0,2), trace(evt_val_0,3), trace(evt_val_4,4), trace(evt_val_4,5), trace(evt_val_3,6), trace(evt_val_4,7)]\n",
      "DEBUG:ASP generator: Clingo Result: SAT\n",
      "DEBUG:ASP generator: Generating trace:2/4 with events:7)\n",
      "DEBUG:ASP generator: Initializing clingo trace(2/4) with length:7), Seed 1319351279\n",
      "DEBUG:ASP generator: Traces generated :[assigned_value(attr_name_0,attr_value_9,1), assigned_value(attr_name_0,attr_value_9,2), assigned_value(attr_name_0,attr_value_1,3), assigned_value(attr_name_0,attr_value_7,4), assigned_value(attr_name_0,attr_value_9,5), assigned_value(attr_name_0,attr_value_0,6), assigned_value(attr_name_0,attr_value_0,7), assigned_value(attr_name_1,attr_value_26,1), assigned_value(attr_name_1,attr_value_26,2), assigned_value(attr_name_1,attr_value_26,6), assigned_value(attr_name_1,attr_value_26,7), assigned_value(attr_name_2,21,1), assigned_value(attr_name_2,20,2), assigned_value(attr_name_2,20,6), assigned_value(attr_name_2,24,7), assigned_value(attr_name_3,attr_value_148,1), assigned_value(attr_name_4,attr_value_147,1), assigned_value(attr_name_5,attr_value_148,1), assigned_value(attr_name_6,attr_value_148,1), assigned_value(attr_name_7,attr_value_147,1), assigned_value(attr_name_8,attr_value_147,1), assigned_value(attr_name_9,attr_value_148,1), assigned_value(attr_name_10,attr_value_148,1), assigned_value(attr_name_11,attr_value_148,1), assigned_value(attr_name_12,attr_value_148,1), assigned_value(attr_name_13,attr_value_147,1), assigned_value(attr_name_14,attr_value_148,1), assigned_value(attr_name_15,attr_value_147,1), assigned_value(attr_name_16,attr_value_148,1), assigned_value(attr_name_17,attr_value_148,1), assigned_value(attr_name_18,attr_value_147,1), assigned_value(attr_name_19,attr_value_148,1), assigned_value(attr_name_20,attr_value_148,1), assigned_value(attr_name_21,attr_value_147,1), assigned_value(attr_name_22,attr_value_148,1), assigned_value(attr_name_23,attr_value_147,1), assigned_value(attr_name_24,attr_value_148,1), assigned_value(evt_val_4,4315,6), assigned_value(evt_val_4,1030,7), assigned_value(evt_val_5,2,3), assigned_value(evt_val_5,2,4), assigned_value(evt_val_5,2,5), trace(evt_val_1,1), trace(evt_val_0,2), trace(evt_val_5,3), trace(evt_val_5,4), trace(evt_val_5,5), trace(evt_val_4,6), trace(evt_val_4,7)]\n",
      "DEBUG:ASP generator: Clingo Result: SAT\n",
      "DEBUG:ASP generator: Generating trace:3/4 with events:7)\n",
      "DEBUG:ASP generator: Initializing clingo trace(3/4) with length:7), Seed 47329583\n",
      "DEBUG:ASP generator: Traces generated :[assigned_value(attr_name_0,attr_value_9,1), assigned_value(attr_name_0,attr_value_9,2), assigned_value(attr_name_0,attr_value_0,3), assigned_value(attr_name_0,attr_value_9,4), assigned_value(attr_name_0,attr_value_3,5), assigned_value(attr_name_0,attr_value_0,6), assigned_value(attr_name_0,attr_value_3,7), assigned_value(attr_name_1,attr_value_27,1), assigned_value(attr_name_1,attr_value_28,2), assigned_value(attr_name_1,attr_value_26,3), assigned_value(attr_name_1,attr_value_26,4), assigned_value(attr_name_1,attr_value_28,6), assigned_value(attr_name_1,attr_value_27,7), assigned_value(attr_name_2,20,1), assigned_value(attr_name_2,28,2), assigned_value(attr_name_2,20,3), assigned_value(attr_name_2,20,4), assigned_value(attr_name_2,20,6), assigned_value(attr_name_2,20,7), assigned_value(attr_name_3,attr_value_148,1), assigned_value(attr_name_4,attr_value_148,1), assigned_value(attr_name_5,attr_value_147,1), assigned_value(attr_name_6,attr_value_147,1), assigned_value(attr_name_7,attr_value_147,1), assigned_value(attr_name_8,attr_value_147,1), assigned_value(attr_name_9,attr_value_147,1), assigned_value(attr_name_10,attr_value_147,1), assigned_value(attr_name_11,attr_value_148,1), assigned_value(attr_name_12,attr_value_147,1), assigned_value(attr_name_13,attr_value_147,1), assigned_value(attr_name_14,attr_value_147,1), assigned_value(attr_name_15,attr_value_148,1), assigned_value(attr_name_16,attr_value_147,1), assigned_value(attr_name_17,attr_value_147,1), assigned_value(attr_name_18,attr_value_148,1), assigned_value(attr_name_19,attr_value_147,1), assigned_value(attr_name_20,attr_value_147,1), assigned_value(attr_name_21,attr_value_148,1), assigned_value(attr_name_22,attr_value_148,1), assigned_value(attr_name_23,attr_value_148,1), assigned_value(attr_name_24,attr_value_147,1), assigned_value(evt_val_4,50,3), assigned_value(evt_val_4,4169,7), assigned_value(evt_val_5,2,5), trace(evt_val_1,1), trace(evt_val_0,2), trace(evt_val_4,3), trace(evt_val_0,4), trace(evt_val_5,5), trace(evt_val_0,6), trace(evt_val_4,7)]\n",
      "DEBUG:ASP generator: Clingo Result: SAT\n",
      "DEBUG:ASP generator: Generating trace:4/4 with events:7)\n",
      "DEBUG:ASP generator: Initializing clingo trace(4/4) with length:7), Seed 3192250720\n",
      "DEBUG:ASP generator: Traces generated :[assigned_value(attr_name_0,attr_value_9,1), assigned_value(attr_name_0,attr_value_9,2), assigned_value(attr_name_0,attr_value_9,3), assigned_value(attr_name_0,attr_value_9,4), assigned_value(attr_name_0,attr_value_3,5), assigned_value(attr_name_0,attr_value_9,6), assigned_value(attr_name_0,attr_value_0,7), assigned_value(attr_name_1,attr_value_27,1), assigned_value(attr_name_1,attr_value_28,2), assigned_value(attr_name_1,attr_value_26,3), assigned_value(attr_name_1,attr_value_26,4), assigned_value(attr_name_1,attr_value_27,5), assigned_value(attr_name_1,attr_value_29,6), assigned_value(attr_name_1,attr_value_28,7), assigned_value(attr_name_2,20,1), assigned_value(attr_name_2,28,2), assigned_value(attr_name_2,20,3), assigned_value(attr_name_2,20,4), assigned_value(attr_name_2,22,5), assigned_value(attr_name_2,21,6), assigned_value(attr_name_2,20,7), assigned_value(attr_name_3,attr_value_147,1), assigned_value(attr_name_4,attr_value_147,1), assigned_value(attr_name_5,attr_value_147,1), assigned_value(attr_name_6,attr_value_147,1), assigned_value(attr_name_7,attr_value_148,1), assigned_value(attr_name_8,attr_value_148,1), assigned_value(attr_name_9,attr_value_148,1), assigned_value(attr_name_10,attr_value_148,1), assigned_value(attr_name_11,attr_value_148,1), assigned_value(attr_name_12,attr_value_148,1), assigned_value(attr_name_13,attr_value_148,1), assigned_value(attr_name_14,attr_value_147,1), assigned_value(attr_name_15,attr_value_148,1), assigned_value(attr_name_16,attr_value_148,1), assigned_value(attr_name_17,attr_value_148,1), assigned_value(attr_name_18,attr_value_147,1), assigned_value(attr_name_19,attr_value_147,1), assigned_value(attr_name_20,attr_value_148,1), assigned_value(attr_name_21,attr_value_148,1), assigned_value(attr_name_22,attr_value_147,1), assigned_value(attr_name_23,attr_value_148,1), assigned_value(attr_name_24,attr_value_147,1), assigned_value(evt_val_3,2,3), assigned_value(evt_val_4,4169,7), trace(evt_val_1,1), trace(evt_val_0,2), trace(evt_val_3,3), trace(evt_val_0,4), trace(evt_val_0,5), trace(evt_val_0,6), trace(evt_val_4,7)]\n",
      "DEBUG:ASP generator: Clingo Result: SAT\n",
      "DEBUG:ASP generator: Total trace to generate and events: Traces:1, Events: 10, RandFrequency: 0.9\n",
      "DEBUG:ASP generator: Generating trace:1/1 with events:10)\n",
      "DEBUG:ASP generator: Initializing clingo trace(1/1) with length:10), Seed 2978067196\n",
      "DEBUG:ASP generator: Traces generated :[assigned_value(attr_name_0,attr_value_9,1), assigned_value(attr_name_0,attr_value_7,2), assigned_value(attr_name_0,attr_value_9,3), assigned_value(attr_name_0,attr_value_9,4), assigned_value(attr_name_0,attr_value_1,5), assigned_value(attr_name_0,attr_value_0,6), assigned_value(attr_name_0,attr_value_9,7), assigned_value(attr_name_0,attr_value_0,8), assigned_value(attr_name_0,attr_value_9,9), assigned_value(attr_name_0,attr_value_5,10), assigned_value(attr_name_1,attr_value_26,1), assigned_value(attr_name_1,attr_value_26,2), assigned_value(attr_name_1,attr_value_26,3), assigned_value(attr_name_1,attr_value_30,4), assigned_value(attr_name_1,attr_value_26,5), assigned_value(attr_name_1,attr_value_28,7), assigned_value(attr_name_1,attr_value_26,8), assigned_value(attr_name_1,attr_value_26,10), assigned_value(attr_name_2,22,1), assigned_value(attr_name_2,20,2), assigned_value(attr_name_2,20,3), assigned_value(attr_name_2,21,4), assigned_value(attr_name_2,23,5), assigned_value(attr_name_2,20,7), assigned_value(attr_name_2,20,8), assigned_value(attr_name_2,24,10), assigned_value(attr_name_3,attr_value_148,1), assigned_value(attr_name_4,attr_value_147,1), assigned_value(attr_name_5,attr_value_148,1), assigned_value(attr_name_6,attr_value_148,1), assigned_value(attr_name_7,attr_value_148,1), assigned_value(attr_name_8,attr_value_147,1), assigned_value(attr_name_9,attr_value_148,1), assigned_value(attr_name_10,attr_value_148,1), assigned_value(attr_name_11,attr_value_147,1), assigned_value(attr_name_12,attr_value_148,1), assigned_value(attr_name_13,attr_value_147,1), assigned_value(attr_name_14,attr_value_148,1), assigned_value(attr_name_15,attr_value_147,1), assigned_value(attr_name_16,attr_value_148,1), assigned_value(attr_name_17,attr_value_148,1), assigned_value(attr_name_18,attr_value_147,1), assigned_value(attr_name_19,attr_value_147,1), assigned_value(attr_name_20,attr_value_148,1), assigned_value(attr_name_21,attr_value_148,1), assigned_value(attr_name_22,attr_value_147,1), assigned_value(attr_name_23,attr_value_147,1), assigned_value(attr_name_24,attr_value_148,1), assigned_value(evt_val_3,3039,3), assigned_value(evt_val_4,50,8), assigned_value(evt_val_4,4664,10), assigned_value(evt_val_5,2,6), assigned_value(evt_val_5,2,9), trace(evt_val_1,1), trace(evt_val_0,2), trace(evt_val_3,3), trace(evt_val_0,4), trace(evt_val_0,5), trace(evt_val_5,6), trace(evt_val_0,7), trace(evt_val_4,8), trace(evt_val_5,9), trace(evt_val_4,10)]\n",
      "DEBUG:ASP generator: Clingo Result: SAT\n",
      "DEBUG:ASP generator:Traces generated. Positive: 10 Neg: 0. Parsing Trace results.\n",
      "DEBUG:ASP generator:Trace results parsed\n",
      "DEBUG:ASP generator:Generating Pm4py log\n",
      "DEBUG:ASP generator:Pm4py generated but not saved yet\n"
     ]
    },
    {
     "name": "stdout",
     "output_type": "stream",
     "text": [
      "CPU times: total: 39.1 s\n",
      "Wall time: 8.8 s\n"
     ]
    }
   ],
   "source": [
    "%%time\n",
    "from Declare4Py.ProcessMiningTasks.ASPLogGeneration.asp_generator import AspGenerator\n",
    "\n",
    "asp_gen: AspGenerator = AspGenerator(model, num_of_cases, num_min_events, num_max_events)\n",
    "asp_gen.run()"
   ]
  },
  {
   "cell_type": "code",
   "execution_count": 4,
   "id": "188777b4",
   "metadata": {
    "ExecuteTime": {
     "end_time": "2024-03-14T16:29:46.119661Z",
     "start_time": "2024-03-14T16:29:46.104661Z"
    }
   },
   "outputs": [],
   "source": [
    "asp_gen.to_csv(f'{model_name}.csv')"
   ]
  },
  {
   "cell_type": "code",
   "outputs": [],
   "source": [
    "from pprint import pprint\n",
    "\n",
    "pprint(asp_gen.clingo_output)"
   ],
   "metadata": {
    "collapsed": false
   },
   "id": "c7f0651185c94acf",
   "execution_count": null
  },
  {
   "cell_type": "markdown",
   "id": "d1a80293",
   "metadata": {},
   "source": [
    "Logs can be generated with some **purposes** according to the needs of Process Mining algorithms. DECLARE4Py implements four useful purposes that can be set with the following methods of the `AspGenerator` class.\n",
    "\n",
    "\n",
    "## 1. Setting up the Length Distribution of the Cases\n",
    "\n",
    "Users can specify a probability distribution over the lengths of the generated traces. The method `set_distribution` takes as parameter the `distributor_type`. By setting this parameter with the `uniform` value, a uniform distribution in `[num_min_events, num_max_events]` is chosen."
   ]
  },
  {
   "cell_type": "code",
   "execution_count": null,
   "id": "7b624f2d",
   "metadata": {},
   "outputs": [],
   "source": [
    "asp_gen.set_distribution(distributor_type=\"uniform\")\n",
    "\n",
    "asp_gen.run()\n",
    "asp_gen.to_xes(f'{model_name}.xes')"
   ]
  },
  {
   "cell_type": "markdown",
   "id": "8fc1cfec",
   "metadata": {},
   "source": [
    "A `gaussian` distribution requires a location (the mean) and a scale (the variance)"
   ]
  },
  {
   "cell_type": "code",
   "execution_count": null,
   "id": "b094a88f",
   "metadata": {},
   "outputs": [],
   "source": [
    "asp_gen.set_distribution(distributor_type=\"gaussian\", loc=5, scale= 2)\n",
    "asp_gen.run()\n",
    "asp_gen.to_xes(f'{model_name}.xes')"
   ]
  },
  {
   "cell_type": "markdown",
   "id": "d17bb2bf",
   "metadata": {},
   "source": [
    "A `custom` distribution requires the user to set the probability for each length in `[num_min_events, num_max_events]`"
   ]
  },
  {
   "cell_type": "code",
   "execution_count": null,
   "id": "b5e657eb",
   "metadata": {},
   "outputs": [],
   "source": [
    "asp_gen.set_distribution(distributor_type=\"custom\",\n",
    "                         custom_probabilities=[0.1, 0.1, 0.1, 0.1, 0.1, 0.1, 0.1, 0.3])\n",
    "\n",
    "asp_gen.run()\n",
    "asp_gen.to_xes(f'{model_name}.xes')"
   ]
  },
  {
   "cell_type": "markdown",
   "id": "0a4122d0",
   "metadata": {},
   "source": [
    "## 2. Setting up the Variants\n",
    "\n",
    "Users can generate variants by setting the number of repetitions of the workflow of each case. This is done with the `set_number_of_repetition_per_trace` method"
   ]
  },
  {
   "cell_type": "code",
   "execution_count": null,
   "id": "bbdedc87",
   "metadata": {},
   "outputs": [],
   "source": [
    "asp_gen.set_number_of_repetition_per_trace(3)\n",
    "\n",
    "asp_gen.run()\n",
    "asp_gen.to_xes(f'{model_name}.xes')"
   ]
  },
  {
   "cell_type": "markdown",
   "id": "5d94874a",
   "metadata": {},
   "source": [
    "## Setting up Positive and Negative Traces\n",
    "\n",
    "Users can specify some constraints to be violated in the synthetic cases to obtain labelled logs for binary classification, e.g., for deviance mining algorithms. The method `set_constraints_to_violate` takes as input:\n",
    "\n",
    "1. `tot_negative_trace`: the number of negative cases to be violated;\n",
    "2. `violate_all`: whether to violate *all* the specified constraints or let Clingo decide which constraints to be violated;\n",
    "3. `constraints_list`: the list containing the subset of DECLARE constraints (specified as strings of text) to be violated."
   ]
  },
  {
   "cell_type": "code",
   "execution_count": null,
   "id": "982111f4",
   "metadata": {},
   "outputs": [],
   "source": [
    "asp_gen: AspGenerator = AspGenerator(model, num_of_cases, num_min_events, num_max_events)\n",
    "\n",
    "asp_gen.set_constraints_to_violate(tot_negative_trace=10, violate_all=True, constraints_list=[\n",
    "    \"Init[ER Registration] | |\",\n",
    "    \"Chain Response[ER Registration, ER Triage] |A.org:group is J |T.org:group is A |\"])\n",
    "asp_gen.run()\n",
    "asp_gen.to_xes(f'{model_name}.xes')"
   ]
  },
  {
   "cell_type": "markdown",
   "id": "14eda967",
   "metadata": {},
   "source": [
    "In addition, instead of giving the explicit text of the DECLARE constraint, an index can be used in the `set_constraints_to_violate_by_template_index` method"
   ]
  },
  {
   "cell_type": "code",
   "execution_count": null,
   "id": "31e4b953",
   "metadata": {},
   "outputs": [],
   "source": [
    "asp_gen: AspGenerator = AspGenerator(model, num_of_cases, num_min_events, num_max_events)\n",
    "\n",
    "for id, constr_text in enumerate(model.serialized_constraints):\n",
    "    print(f\"{id} - {constr_text}\")\n",
    "\n",
    "asp_gen.set_constraints_to_violate_by_template_index(tot_negative_trace=10, violate_all=True, \n",
    "                                                 constraints_idx_list=[0, 3])\n",
    "asp_gen.run()\n",
    "asp_gen.to_xes(f'{model_name}.xes')"
   ]
  },
  {
   "cell_type": "markdown",
   "id": "9d948642",
   "metadata": {},
   "source": [
    "## Setting up Rules for the Activation Conditions\n",
    "\n",
    "Users can specify the number of activations of a DECLARE constraint in the synthetic cases. This can be done with the `set_activation_conditions` method by specifying an interval of activations for specific DECLARE constraints in the loaded model"
   ]
  },
  {
   "cell_type": "code",
   "execution_count": null,
   "id": "9a2f7727",
   "metadata": {},
   "outputs": [],
   "source": [
    "asp_gen: AspGenerator = AspGenerator(model, num_of_cases, num_min_events, num_max_events)\n",
    "\n",
    "asp_gen.set_activation_conditions({\n",
    "'Response[CRP, Release B] |A.org:group is J |T.org:group is A |':\n",
    "[2, 3]}) # activation should occur between 2 to 3 times\n",
    "\n",
    "asp_gen.run()\n",
    "asp_gen.to_xes(f'{model_name}.xes')"
   ]
  },
  {
   "cell_type": "markdown",
   "id": "d28a4daf",
   "metadata": {},
   "source": [
    "In addition, instead of giving the explicit text of the DECLARE constraints, an index can be used in the `set_activation_conditions_by_template_index` method"
   ]
  },
  {
   "cell_type": "code",
   "execution_count": null,
   "id": "81518fa8",
   "metadata": {},
   "outputs": [],
   "source": [
    "asp_gen: AspGenerator = AspGenerator(model, num_of_cases, num_min_events, num_max_events)\n",
    "\n",
    "for id, constr_text in enumerate(model.serialized_constraints):\n",
    "    print(f\"{id} - {constr_text}\")\n",
    "\n",
    "asp_gen.set_activation_conditions_by_template_index({3: [2, 3]})\n",
    "asp_gen.run()\n",
    "asp_gen.to_xes(f'{model_name}.xes')"
   ]
  },
  {
   "cell_type": "code",
   "execution_count": null,
   "id": "fa7da6b0-4451-452c-a6b4-98573d3772ba",
   "metadata": {},
   "outputs": [],
   "source": []
  }
 ],
 "metadata": {
  "kernelspec": {
   "display_name": "Python 3 (ipykernel)",
   "language": "python",
   "name": "python3"
  },
  "language_info": {
   "codemirror_mode": {
    "name": "ipython",
    "version": 3
   },
   "file_extension": ".py",
   "mimetype": "text/x-python",
   "name": "python",
   "nbconvert_exporter": "python",
   "pygments_lexer": "ipython3",
   "version": "3.11.4"
  }
 },
 "nbformat": 4,
 "nbformat_minor": 5
}
