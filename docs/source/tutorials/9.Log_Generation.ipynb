{
 "cells": [
  {
   "cell_type": "markdown",
   "id": "4f5a9a59",
   "metadata": {},
   "source": [
    "# Synthetic Log Generation from DECLARE Models\n",
    "\n",
    "DECLARE4Py implements the generation of synthetic logs from DECLARE models with a solution based on Answer Set Programming that uses a Clingo solver. More details can be found in the paper of Chiariello, F., Maggi, F. M., & Patrizi, F. (2022, June). ASP-Based Declarative Process Mining. In *Proceedings of the AAAI Conference on Artificial Intelligence* (Vol. 36, No. 5, pp. 5539-5547).\n",
    "\n",
    "As first step, it is necessary to import a `.decl` file containing the DECLARE constraints."
   ]
  },
  {
   "cell_type": "code",
   "execution_count": 1,
   "id": "bdf42d09",
   "metadata": {
    "ExecuteTime": {
     "end_time": "2023-12-10T10:06:12.126017600Z",
     "start_time": "2023-12-10T10:06:08.615875500Z"
    }
   },
   "outputs": [],
   "source": [
    "import os\n",
    "from Declare4Py.ProcessModels.DeclareModel import DeclareModel\n",
    "\n",
    "model_name = 'sepsis'\n",
    "model: DeclareModel = DeclareModel().parse_from_file(os.path.join(\"../../../\", \"tests\", \"test_models\", f\"{model_name}.decl\"))"
   ]
  },
  {
   "cell_type": "markdown",
   "id": "7a9b8417",
   "metadata": {},
   "source": [
    "Then, some general settings are needed to set the number of cases to generate and the minimum and maximum number of events for each case"
   ]
  },
  {
   "cell_type": "code",
   "execution_count": 2,
   "id": "785a61eb",
   "metadata": {
    "ExecuteTime": {
     "end_time": "2023-12-10T10:06:12.138019Z",
     "start_time": "2023-12-10T10:06:12.125017600Z"
    }
   },
   "outputs": [],
   "source": [
    "# Number of cases that have be generated\n",
    "num_of_cases = 10\n",
    "\n",
    "# Minimum and maximum number of events a case can contain\n",
    "(num_min_events, num_max_events) = (3, 10)"
   ]
  },
  {
   "cell_type": "markdown",
   "id": "6a06484d",
   "metadata": {},
   "source": [
    "The class `AspGenerator` has to be instantiated with the DECLARE model and the settings of above. Then, the `run` method will generate the cases and the `to_xes` method will save them in a `.xes` event log."
   ]
  },
  {
   "cell_type": "code",
   "execution_count": 3,
   "id": "e3669320",
   "metadata": {
    "ExecuteTime": {
     "end_time": "2023-12-10T10:06:13.098443800Z",
     "start_time": "2023-12-10T10:06:12.141017800Z"
    }
   },
   "outputs": [
    {
     "name": "stderr",
     "output_type": "stream",
     "text": [
      "DEBUG:ASP generator:Distribution for traces uniform\n",
      "DEBUG:ASP generator:traces: 10, events can have a trace min(3) max(10)\n",
      "INFO:ASP generator:Computing distribution\n",
      "DEBUG:Distributor:Distribution() uniform min_mu: 3 max_sigma: 10 num_traces: 10 custom_prob: None\n",
      "DEBUG:Distributor:Uniform() probabilities: [Fraction(1, 8), Fraction(1, 8), Fraction(1, 8), Fraction(1, 8), Fraction(1, 8), Fraction(1, 8), Fraction(1, 8), Fraction(1, 8)]\n",
      "DEBUG:Distributor:Custom_dist() min_mu:3 max_sigma:10 num_traces:10\n",
      "DEBUG:Distributor:Probabilities sum 1\n",
      "DEBUG:Distributor:Distribution result: [ 7 10  9  3  3  3  3  7  5  9]\n",
      "INFO:ASP generator:Distribution result Counter({3: 4, 7: 2, 9: 2, 10: 1, 5: 1})\n",
      "DEBUG:ASP generator:******* Using custom traces length *******\n",
      "DEBUG:ASP generator:Generating traces\n",
      "DEBUG:ASP generator:Translate declare model to ASP\n",
      "DEBUG:ASP generator:Declare model translated to ASP. Total Facts 13\n",
      "DEBUG:ASP generator:ASP encoding generated\n",
      "DEBUG:ASP generator:Start generating traces: None\n"
     ]
    },
    {
     "ename": "AttributeError",
     "evalue": "'NoneType' object has no attribute 'items'",
     "output_type": "error",
     "traceback": [
      "\u001B[1;31m---------------------------------------------------------------------------\u001B[0m",
      "\u001B[1;31mAttributeError\u001B[0m                            Traceback (most recent call last)",
      "Cell \u001B[1;32mIn[3], line 4\u001B[0m\n\u001B[0;32m      1\u001B[0m \u001B[38;5;28;01mfrom\u001B[39;00m \u001B[38;5;21;01mDeclare4Py\u001B[39;00m\u001B[38;5;21;01m.\u001B[39;00m\u001B[38;5;21;01mProcessMiningTasks\u001B[39;00m\u001B[38;5;21;01m.\u001B[39;00m\u001B[38;5;21;01mASPLogGeneration\u001B[39;00m\u001B[38;5;21;01m.\u001B[39;00m\u001B[38;5;21;01masp_generator\u001B[39;00m \u001B[38;5;28;01mimport\u001B[39;00m AspGenerator\n\u001B[0;32m      3\u001B[0m asp_gen: AspGenerator \u001B[38;5;241m=\u001B[39m AspGenerator(model, num_of_cases, num_min_events, num_max_events)\n\u001B[1;32m----> 4\u001B[0m \u001B[43masp_gen\u001B[49m\u001B[38;5;241;43m.\u001B[39;49m\u001B[43mrun\u001B[49m\u001B[43m(\u001B[49m\u001B[43m)\u001B[49m\n",
      "File \u001B[1;32m~\\Desktop\\Repository\\python\\Tesi\\Declare4Py\\Declare4Py\\ProcessMiningTasks\\ASPLogGeneration\\asp_generator.py:345\u001B[0m, in \u001B[0;36mAspGenerator.run\u001B[1;34m(self, generated_asp_file_path)\u001B[0m\n\u001B[0;32m    343\u001B[0m lp \u001B[38;5;241m=\u001B[39m \u001B[38;5;28mself\u001B[39m\u001B[38;5;241m.\u001B[39mgenerate_asp_from_decl_model(\u001B[38;5;28mself\u001B[39m\u001B[38;5;241m.\u001B[39mencode_decl_model, generated_asp_file_path)\n\u001B[0;32m    344\u001B[0m \u001B[38;5;66;03m# print(lp) \u001B[39;00m\n\u001B[1;32m--> 345\u001B[0m \u001B[38;5;28;43mself\u001B[39;49m\u001B[38;5;241;43m.\u001B[39;49m\u001B[43m__generate_traces\u001B[49m\u001B[43m(\u001B[49m\u001B[43mlp\u001B[49m\u001B[43m,\u001B[49m\u001B[43m \u001B[49m\u001B[43mpos_traces_dist\u001B[49m\u001B[43m,\u001B[49m\u001B[43m \u001B[49m\u001B[38;5;124;43m\"\u001B[39;49m\u001B[38;5;124;43mpositive\u001B[39;49m\u001B[38;5;124;43m\"\u001B[39;49m\u001B[43m)\u001B[49m\n\u001B[0;32m    346\u001B[0m \u001B[38;5;28;01mif\u001B[39;00m \u001B[38;5;28mself\u001B[39m\u001B[38;5;241m.\u001B[39mrun_parallel:\n\u001B[0;32m    347\u001B[0m     concurrent\u001B[38;5;241m.\u001B[39mfutures\u001B[38;5;241m.\u001B[39mwait(\u001B[38;5;28mself\u001B[39m\u001B[38;5;241m.\u001B[39mparallel_futures)\n",
      "File \u001B[1;32m~\\Desktop\\Repository\\python\\Tesi\\Declare4Py\\Declare4Py\\ProcessMiningTasks\\ASPLogGeneration\\asp_generator.py:381\u001B[0m, in \u001B[0;36mAspGenerator.__generate_traces\u001B[1;34m(self, lp_model, traces_to_generate, trace_type)\u001B[0m\n\u001B[0;32m    379\u001B[0m             \u001B[38;5;28mself\u001B[39m\u001B[38;5;241m.\u001B[39mparallel_futures\u001B[38;5;241m.\u001B[39mappend(future)\n\u001B[0;32m    380\u001B[0m \u001B[38;5;28;01melse\u001B[39;00m:\n\u001B[1;32m--> 381\u001B[0m     \u001B[38;5;28;01mfor\u001B[39;00m events, traces \u001B[38;5;129;01min\u001B[39;00m \u001B[43mtraces_to_generate\u001B[49m\u001B[38;5;241;43m.\u001B[39;49m\u001B[43mitems\u001B[49m():\n\u001B[0;32m    382\u001B[0m         \u001B[38;5;28mself\u001B[39m\u001B[38;5;241m.\u001B[39mpy_logger\u001B[38;5;241m.\u001B[39mdebug(\n\u001B[0;32m    383\u001B[0m             \u001B[38;5;124mf\u001B[39m\u001B[38;5;124m\"\u001B[39m\u001B[38;5;124m Total trace to generate and events: Traces:\u001B[39m\u001B[38;5;132;01m{\u001B[39;00mtraces\u001B[38;5;132;01m}\u001B[39;00m\u001B[38;5;124m, Events: \u001B[39m\u001B[38;5;132;01m{\u001B[39;00mevents\u001B[38;5;132;01m}\u001B[39;00m\u001B[38;5;124m, RandFrequency: 0.9\u001B[39m\u001B[38;5;124m\"\u001B[39m)\n\u001B[0;32m    384\u001B[0m         \u001B[38;5;28mself\u001B[39m\u001B[38;5;241m.\u001B[39m__generate_asp_trace(lp_model, events, traces, trace_type)\n",
      "\u001B[1;31mAttributeError\u001B[0m: 'NoneType' object has no attribute 'items'"
     ]
    }
   ],
   "source": [
    "from Declare4Py.ProcessMiningTasks.ASPLogGeneration.asp_generator import AspGenerator\n",
    "\n",
    "asp_gen: AspGenerator = AspGenerator(model, num_of_cases, num_min_events, num_max_events)\n",
    "asp_gen.run()"
   ]
  },
  {
   "cell_type": "code",
   "execution_count": null,
   "id": "188777b4",
   "metadata": {
    "ExecuteTime": {
     "end_time": "2023-12-10T10:06:13.102444200Z",
     "start_time": "2023-12-10T10:06:13.101444400Z"
    }
   },
   "outputs": [],
   "source": [
    "asp_gen.to_xes(f'{model_name}.xes')"
   ]
  },
  {
   "cell_type": "markdown",
   "id": "d1a80293",
   "metadata": {},
   "source": [
    "Logs can be generated with some **purposes** according to the needs of Process Mining algorithms. DECLARE4Py implements four useful purposes that can be set with the following methods of the `AspGenerator` class.\n",
    "\n",
    "\n",
    "## 1. Setting up the Length Distribution of the Cases\n",
    "\n",
    "Users can specify a probability distribution over the lengths of the generated traces. The method `set_distribution` takes as parameter the `distributor_type`. By setting this parameter with the `uniform` value, a uniform distribution in `[num_min_events, num_max_events]` is chosen."
   ]
  },
  {
   "cell_type": "code",
   "execution_count": null,
   "id": "7b624f2d",
   "metadata": {
    "ExecuteTime": {
     "start_time": "2023-12-10T10:06:13.103444300Z"
    }
   },
   "outputs": [],
   "source": [
    "asp_gen.set_distribution(distributor_type=\"uniform\")\n",
    "\n",
    "asp_gen.run()\n",
    "asp_gen.to_xes(f'{model_name}.xes')"
   ]
  },
  {
   "cell_type": "markdown",
   "id": "8fc1cfec",
   "metadata": {},
   "source": [
    "A `gaussian` distribution requires a location (the mean) and a scale (the variance)"
   ]
  },
  {
   "cell_type": "code",
   "execution_count": null,
   "id": "b094a88f",
   "metadata": {
    "ExecuteTime": {
     "start_time": "2023-12-10T10:06:13.105443800Z"
    }
   },
   "outputs": [],
   "source": [
    "asp_gen.set_distribution(distributor_type=\"gaussian\", loc=5, scale= 2)\n",
    "asp_gen.run()\n",
    "asp_gen.to_xes(f'{model_name}.xes')"
   ]
  },
  {
   "cell_type": "markdown",
   "id": "d17bb2bf",
   "metadata": {},
   "source": [
    "A `custom` distribution requires the user to set the probability for each length in `[num_min_events, num_max_events]`"
   ]
  },
  {
   "cell_type": "code",
   "execution_count": null,
   "id": "b5e657eb",
   "metadata": {
    "ExecuteTime": {
     "start_time": "2023-12-10T10:06:13.106444400Z"
    }
   },
   "outputs": [],
   "source": [
    "asp_gen.set_distribution(distributor_type=\"custom\",\n",
    "                         custom_probabilities=[0.1, 0.1, 0.1, 0.1, 0.1, 0.1, 0.1, 0.3])\n",
    "\n",
    "asp_gen.run()\n",
    "asp_gen.to_xes(f'{model_name}.xes')"
   ]
  },
  {
   "cell_type": "markdown",
   "id": "0a4122d0",
   "metadata": {},
   "source": [
    "## 2. Setting up the Variants\n",
    "\n",
    "Users can generate variants by setting the number of repetitions of the workflow of each case. This is done with the `set_number_of_repetition_per_trace` method"
   ]
  },
  {
   "cell_type": "code",
   "execution_count": null,
   "id": "bbdedc87",
   "metadata": {
    "ExecuteTime": {
     "end_time": "2023-12-10T10:06:13.113443900Z",
     "start_time": "2023-12-10T10:06:13.107444200Z"
    }
   },
   "outputs": [],
   "source": [
    "asp_gen.set_number_of_repetition_per_trace(3)\n",
    "\n",
    "asp_gen.run()\n",
    "asp_gen.to_xes(f'{model_name}.xes')"
   ]
  },
  {
   "cell_type": "markdown",
   "id": "5d94874a",
   "metadata": {},
   "source": [
    "## Setting up Positive and Negative Traces\n",
    "\n",
    "Users can specify some constraints to be violated in the synthetic cases to obtain labelled logs for binary classification, e.g., for deviance mining algorithms. The method `set_constraints_to_violate` takes as input:\n",
    "\n",
    "1. `tot_negative_trace`: the number of negative cases to be violated;\n",
    "2. `violate_all`: whether to violate *all* the specified constraints or let Clingo decide which constraints to be violated;\n",
    "3. `constraints_list`: the list containing the subset of DECLARE constraints (specified as strings of text) to be violated."
   ]
  },
  {
   "cell_type": "code",
   "execution_count": null,
   "id": "982111f4",
   "metadata": {
    "ExecuteTime": {
     "start_time": "2023-12-10T10:06:13.108443900Z"
    }
   },
   "outputs": [],
   "source": [
    "asp_gen: AspGenerator = AspGenerator(model, num_of_cases, num_min_events, num_max_events)\n",
    "\n",
    "asp_gen.set_constraints_to_violate(tot_negative_trace=10, violate_all=True, constraints_list=[\n",
    "    \"Init[ER Registration] | |\",\n",
    "    \"Chain Response[ER Registration, ER Triage] |A.org:group is J |T.org:group is A |\"])\n",
    "asp_gen.run()\n",
    "asp_gen.to_xes(f'{model_name}.xes')"
   ]
  },
  {
   "cell_type": "markdown",
   "id": "14eda967",
   "metadata": {},
   "source": [
    "In addition, instead of giving the explicit text of the DECLARE constraint, an index can be used in the `set_constraints_to_violate_by_template_index` method"
   ]
  },
  {
   "cell_type": "code",
   "execution_count": null,
   "id": "31e4b953",
   "metadata": {
    "ExecuteTime": {
     "start_time": "2023-12-10T10:06:13.109443900Z"
    }
   },
   "outputs": [],
   "source": [
    "asp_gen: AspGenerator = AspGenerator(model, num_of_cases, num_min_events, num_max_events)\n",
    "\n",
    "for id, constr_text in enumerate(model.serialized_constraints):\n",
    "    print(f\"{id} - {constr_text}\")\n",
    "\n",
    "asp_gen.set_constraints_to_violate_by_template_index(tot_negative_trace=10, violate_all=True, \n",
    "                                                 constraints_idx_list=[0, 3])\n",
    "asp_gen.run()\n",
    "asp_gen.to_xes(f'{model_name}.xes')"
   ]
  },
  {
   "cell_type": "markdown",
   "id": "9d948642",
   "metadata": {},
   "source": [
    "## Setting up Rules for the Activation Conditions\n",
    "\n",
    "Users can specify the number of activations of a DECLARE constraint in the synthetic cases. This can be done with the `set_activation_conditions` method by specifying an interval of activations for specific DECLARE constraints in the loaded model"
   ]
  },
  {
   "cell_type": "code",
   "execution_count": null,
   "id": "9a2f7727",
   "metadata": {
    "ExecuteTime": {
     "start_time": "2023-12-10T10:06:13.110444200Z"
    }
   },
   "outputs": [],
   "source": [
    "asp_gen: AspGenerator = AspGenerator(model, num_of_cases, num_min_events, num_max_events)\n",
    "\n",
    "asp_gen.set_activation_conditions({\n",
    "'Response[CRP, Release B] |A.org:group is J |T.org:group is A |':\n",
    "[2, 3]}) # activation should occur between 2 to 3 times\n",
    "\n",
    "asp_gen.run()\n",
    "asp_gen.to_xes(f'{model_name}.xes')"
   ]
  },
  {
   "cell_type": "markdown",
   "id": "d28a4daf",
   "metadata": {},
   "source": [
    "In addition, instead of giving the explicit text of the DECLARE constraints, an index can be used in the `set_activation_conditions_by_template_index` method"
   ]
  },
  {
   "cell_type": "code",
   "execution_count": null,
   "id": "81518fa8",
   "metadata": {
    "ExecuteTime": {
     "start_time": "2023-12-10T10:06:13.111444200Z"
    }
   },
   "outputs": [],
   "source": [
    "asp_gen: AspGenerator = AspGenerator(model, num_of_cases, num_min_events, num_max_events)\n",
    "\n",
    "for id, constr_text in enumerate(model.serialized_constraints):\n",
    "    print(f\"{id} - {constr_text}\")\n",
    "\n",
    "asp_gen.set_activation_conditions_by_template_index({3: [2, 3]})\n",
    "asp_gen.run()\n",
    "asp_gen.to_xes(f'{model_name}.xes')"
   ]
  },
  {
   "cell_type": "code",
   "execution_count": null,
   "id": "fa7da6b0-4451-452c-a6b4-98573d3772ba",
   "metadata": {
    "ExecuteTime": {
     "start_time": "2023-12-10T10:06:13.112444300Z"
    }
   },
   "outputs": [],
   "source": []
  }
 ],
 "metadata": {
  "kernelspec": {
   "display_name": "Python 3 (ipykernel)",
   "language": "python",
   "name": "python3"
  },
  "language_info": {
   "codemirror_mode": {
    "name": "ipython",
    "version": 3
   },
   "file_extension": ".py",
   "mimetype": "text/x-python",
   "name": "python",
   "nbconvert_exporter": "python",
   "pygments_lexer": "ipython3",
   "version": "3.11.4"
  }
 },
 "nbformat": 4,
 "nbformat_minor": 5
}
