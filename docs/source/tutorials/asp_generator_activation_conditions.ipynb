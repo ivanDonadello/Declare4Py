{
 "cells": [
  {
   "cell_type": "markdown",
   "id": "0009d44f-be72-4bb2-9ca6-487a2be24ce1",
   "metadata": {
    "tags": []
   },
   "source": [
    "# Generate pm4py log using ASP Generator\n",
    "\n",
    "ASP log generator uses the decl model which converts the model into abduction logic programming and pass to the clingo.\n",
    "Clingo generates the output which is turned into the pm4py log or can be created a .xes file.\n"
   ]
  },
  {
   "cell_type": "code",
   "id": "1eb21bf2-bf41-46b2-96e3-806047cc8cb1",
   "metadata": {
    "ExecuteTime": {
     "end_time": "2024-05-07T11:49:00.530542Z",
     "start_time": "2024-05-07T11:49:00.484543Z"
    }
   },
   "source": [
    "!python --version"
   ],
   "outputs": [
    {
     "name": "stdout",
     "output_type": "stream",
     "text": [
      "Python 3.8.18\n"
     ]
    }
   ],
   "execution_count": 1
  },
  {
   "cell_type": "code",
   "id": "2938753f-7b7c-4095-b918-1a667621e50d",
   "metadata": {
    "tags": [],
    "ExecuteTime": {
     "end_time": "2024-05-07T11:49:02.549542Z",
     "start_time": "2024-05-07T11:49:00.531548Z"
    }
   },
   "source": [
    "import os\n",
    "import pathlib\n",
    "import logging\n",
    "\n",
    "from Declare4Py.ProcessMiningTasks.LogGenerator.ASP.ASPLogGenerator import AspGenerator\n",
    "from Declare4Py.ProcessModels.DeclareModel import DeclareModel"
   ],
   "outputs": [],
   "execution_count": 2
  },
  {
   "cell_type": "code",
   "id": "0b9d5123-dc4f-4a75-bdd1-d4235d636772",
   "metadata": {
    "tags": [],
    "ExecuteTime": {
     "end_time": "2024-05-07T11:49:02.579542Z",
     "start_time": "2024-05-07T11:49:02.550542Z"
    }
   },
   "source": [
    "# Setting up required files\n",
    "\n",
    "# possible files to test\n",
    "decl_model_1 = \"./decl_files/Response.decl\"\n",
    "decl_model_2 = \"./decl_files/MikeModel.decl\"\n",
    "decl_model_3 = \"./decl_files/reference10.decl\"\n",
    "decl_model_4 = \"./decl_files/diagnosis.decl\"\n",
    "\n",
    "decl_file = os.path.join(pathlib.Path(decl_model_2).resolve())\n",
    "output_file = os.path.join(pathlib.Path(\"./generated_exporter.xes\").resolve())"
   ],
   "outputs": [],
   "execution_count": 3
  },
  {
   "cell_type": "code",
   "id": "4b2d84b6-6a5a-4b3c-a0bb-335981eb6374",
   "metadata": {
    "ExecuteTime": {
     "end_time": "2024-05-07T11:49:02.595542Z",
     "start_time": "2024-05-07T11:49:02.580542Z"
    }
   },
   "source": [
    "# Create Declare model by reading declare model from a file.\n",
    "\n",
    "model: DeclareModel = DeclareModel().parse_from_file(decl_file)"
   ],
   "outputs": [],
   "execution_count": 4
  },
  {
   "cell_type": "code",
   "id": "f4b87ba4-2740-4006-b40f-b0ae95bab202",
   "metadata": {
    "ExecuteTime": {
     "end_time": "2024-05-07T11:49:02.611542Z",
     "start_time": "2024-05-07T11:49:02.596542Z"
    }
   },
   "source": [
    "#general Setting\n",
    "\n",
    "# Number of traces that should be generated\n",
    "num_of_traces = 4\n",
    "\n",
    "# Minimum and maximum number of events a trace can contain\n",
    "(num_min_events, num_max_events) = (2, 14)\n"
   ],
   "outputs": [],
   "execution_count": 5
  },
  {
   "cell_type": "code",
   "id": "b9dc4474-319b-40e0-95a7-c8ac36a18f2b",
   "metadata": {
    "ExecuteTime": {
     "end_time": "2024-05-07T11:49:02.627542Z",
     "start_time": "2024-05-07T11:49:02.612542Z"
    }
   },
   "source": [
    "# Initializing ASP generator with default distributor which is uniform.\n",
    "\n",
    "logging.basicConfig(level=logging.DEBUG)\n",
    "asp = AspGenerator(\n",
    "    model,\n",
    "    num_of_traces,\n",
    "    num_min_events,\n",
    "    num_max_events,\n",
    ")\n"
   ],
   "outputs": [],
   "execution_count": 6
  },
  {
   "cell_type": "code",
   "id": "1a35131f-9c1c-44d3-9660-a6c657fed23a",
   "metadata": {
    "ExecuteTime": {
     "end_time": "2024-05-07T11:49:02.642542Z",
     "start_time": "2024-05-07T11:49:02.628542Z"
    }
   },
   "source": [
    "# activity A\n",
    "# bind A: attribute\n",
    "# activity B\n",
    "# activity C\n",
    "# attribute: value1, value2, value3\n",
    "# Response[A,B] | A.attribute is value1 | |\n",
    "\n",
    "\n",
    "# A user may want the activation of the Response constraint (i.e., activity A with\n",
    "# attribute = value1) to happen at least 3 times within each generated trace.\n",
    "\n",
    "\n",
    "asp.set_activation_conditions({\n",
    "    'Response[Driving_Test, Resit] |A.Grade<=2 | |': [0, 3]  # activation should occur between at most 3 times\n",
    "})\n",
    "\n",
    "asp.set_activation_conditions({'Response[Driving_Test, Resit] |A.Grade<=2 | |': [3, 5]})  # activation should occur between 3 to 5 times\n",
    "\n",
    "asp.set_activation_conditions_by_template_index({1: [2, 4]})  # activation should occur between 3 to 5 times and as key you can also define the template index instead str\n"
   ],
   "outputs": [
    {
     "data": {
      "text/plain": [
       "<Declare4Py.ProcessMiningTasks.LogGenerator.ASP.ASPLogGenerator.AspGenerator at 0x207a8eadac0>"
      ]
     },
     "execution_count": 7,
     "metadata": {},
     "output_type": "execute_result"
    }
   ],
   "execution_count": 7
  },
  {
   "cell_type": "code",
   "id": "974a92ad-6497-433f-99e4-2f0d79a6e150",
   "metadata": {
    "scrolled": true,
    "tags": [],
    "ExecuteTime": {
     "end_time": "2024-05-07T11:49:02.704542Z",
     "start_time": "2024-05-07T11:49:02.644543Z"
    }
   },
   "source": [
    "# Generate the traces and parse the result produced by clingo\n",
    "asp.run()  # Run accepts 1 optional value whether to create file for the ASP generated from given declare model\n"
   ],
   "outputs": [
    {
     "name": "stderr",
     "output_type": "stream",
     "text": [
      "C:\\Users\\Matteo\\Desktop\\Repository\\python\\Tesi\\Declare4Py\\Declare4Py\\ProcessMiningTasks\\LogGenerator\\ASP\\ASPLogGenerator.py:303: UserWarning: WARNING: Cannot generate 1 positive trace/s exactly with 8 events with this Declare model. Check the definition of your constraints\n",
      "  warnings.warn(f'WARNING: Cannot generate {num_traces} {trace_type} trace/s exactly with {num_events} events with this Declare model. Check the definition of your constraints')\n",
      "C:\\Users\\Matteo\\Desktop\\Repository\\python\\Tesi\\Declare4Py\\Declare4Py\\ProcessMiningTasks\\LogGenerator\\ASP\\ASPLogGenerator.py:303: UserWarning: WARNING: Cannot generate 1 positive trace/s exactly with 6 events with this Declare model. Check the definition of your constraints\n",
      "  warnings.warn(f'WARNING: Cannot generate {num_traces} {trace_type} trace/s exactly with {num_events} events with this Declare model. Check the definition of your constraints')\n",
      "C:\\Users\\Matteo\\Desktop\\Repository\\python\\Tesi\\Declare4Py\\Declare4Py\\ProcessMiningTasks\\LogGenerator\\ASP\\ASPLogGenerator.py:303: UserWarning: WARNING: Cannot generate 1 positive trace/s exactly with 13 events with this Declare model. Check the definition of your constraints\n",
      "  warnings.warn(f'WARNING: Cannot generate {num_traces} {trace_type} trace/s exactly with {num_events} events with this Declare model. Check the definition of your constraints')\n",
      "C:\\Users\\Matteo\\Desktop\\Repository\\python\\Tesi\\Declare4Py\\Declare4Py\\ProcessMiningTasks\\LogGenerator\\ASP\\ASPLogGenerator.py:303: UserWarning: WARNING: Cannot generate 1 positive trace/s exactly with 5 events with this Declare model. Check the definition of your constraints\n",
      "  warnings.warn(f'WARNING: Cannot generate {num_traces} {trace_type} trace/s exactly with {num_events} events with this Declare model. Check the definition of your constraints')\n",
      "WARNING:ASP generator:PM4PY log generated: 0/4 only.\n"
     ]
    }
   ],
   "execution_count": 8
  },
  {
   "cell_type": "code",
   "id": "a03b7b40-e718-4783-a8e4-36528bd4d01d",
   "metadata": {
    "scrolled": true,
    "ExecuteTime": {
     "end_time": "2024-05-07T11:49:02.719542Z",
     "start_time": "2024-05-07T11:49:02.705543Z"
    }
   },
   "source": [
    "# Save file to xes\n",
    "asp.to_xes(output_file)"
   ],
   "outputs": [
    {
     "name": "stderr",
     "output_type": "stream",
     "text": [
      "C:\\Users\\Matteo\\Desktop\\Repository\\python\\Tesi\\Declare4Py\\Declare4Py\\ProcessMiningTasks\\LogGenerator\\ASP\\ASPLogGenerator.py:638: UserWarning: Unable to produce the logs with given model and parameters set for it.\n",
      "  warnings.warn(\"Unable to produce the logs with given model and parameters set for it.\")\n"
     ]
    }
   ],
   "execution_count": 9
  },
  {
   "cell_type": "code",
   "id": "1817e728",
   "metadata": {
    "ExecuteTime": {
     "end_time": "2024-05-07T11:49:02.734542Z",
     "start_time": "2024-05-07T11:49:02.720542Z"
    }
   },
   "source": [],
   "outputs": [],
   "execution_count": 9
  }
 ],
 "metadata": {
  "kernelspec": {
   "display_name": "Python 3 (ipykernel)",
   "language": "python",
   "name": "python3"
  },
  "language_info": {
   "codemirror_mode": {
    "name": "ipython",
    "version": 3
   },
   "file_extension": ".py",
   "mimetype": "text/x-python",
   "name": "python",
   "nbconvert_exporter": "python",
   "pygments_lexer": "ipython3",
   "version": "3.11.4"
  }
 },
 "nbformat": 4,
 "nbformat_minor": 5
}
