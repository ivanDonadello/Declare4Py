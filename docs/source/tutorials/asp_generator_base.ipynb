{
 "cells": [
  {
   "cell_type": "markdown",
   "id": "0009d44f-be72-4bb2-9ca6-487a2be24ce1",
   "metadata": {
    "tags": []
   },
   "source": [
    "# Generate pm4py log using ASP Generator\n",
    "\n",
    "ASP log generator uses the decl model which converts the model into abduction logic programming and pass to the clingo.\n",
    "Clingo generates the output which is turned into the pm4py log or can be created a .xes file.\n"
   ]
  },
  {
   "cell_type": "code",
   "id": "1eb21bf2-bf41-46b2-96e3-806047cc8cb1",
   "metadata": {
    "scrolled": true,
    "ExecuteTime": {
     "end_time": "2024-05-07T11:58:51.073691Z",
     "start_time": "2024-05-07T11:58:50.982402Z"
    }
   },
   "source": [
    "!python3 --version"
   ],
   "outputs": [
    {
     "name": "stderr",
     "output_type": "stream",
     "text": [
      "Python non trovato; Esegui senza argomenti per installare da Microsoft Store o disabilitare il collegamento da impostazioni > Gestisci app Alias di esecuzione.\n"
     ]
    }
   ],
   "execution_count": 41
  },
  {
   "cell_type": "code",
   "id": "2938753f-7b7c-4095-b918-1a667621e50d",
   "metadata": {
    "tags": [],
    "ExecuteTime": {
     "end_time": "2024-05-07T11:58:51.088903Z",
     "start_time": "2024-05-07T11:58:51.074692Z"
    }
   },
   "source": [
    "import pathlib\n",
    "\n",
    "from Declare4Py.ProcessMiningTasks.LogGenerator.ASP.ASPLogGenerator import AspGenerator\n",
    "from Declare4Py.ProcessModels.DeclareModel import DeclareModel"
   ],
   "outputs": [],
   "execution_count": 42
  },
  {
   "cell_type": "code",
   "id": "0b9d5123-dc4f-4a75-bdd1-d4235d636772",
   "metadata": {
    "tags": [],
    "ExecuteTime": {
     "end_time": "2024-05-07T11:58:51.104903Z",
     "start_time": "2024-05-07T11:58:51.089903Z"
    }
   },
   "source": [
    "decl_model_1 = \"decl_files/Response.decl\"\n",
    "decl_model_2 = \"decl_files/MikeModel.decl\"\n",
    "decl_model_3 = \"decl_files/reference10.decl\"\n",
    "decl_model_4 = \"diagnosis.decl\"\n",
    "decl_folder = \"decl_files\"\n",
    "\n",
    "decl_filename = decl_model_4.split(\".\")[0]\n",
    "output_file = pathlib.Path(\".\", f\"{decl_filename}.xes\")\n",
    "decl_file = pathlib.Path(\".\", decl_folder, decl_model_4)"
   ],
   "outputs": [],
   "execution_count": 43
  },
  {
   "cell_type": "code",
   "id": "4b2d84b6-6a5a-4b3c-a0bb-335981eb6374",
   "metadata": {
    "ExecuteTime": {
     "end_time": "2024-05-07T11:58:51.120902Z",
     "start_time": "2024-05-07T11:58:51.106902Z"
    }
   },
   "source": [
    "# Create Declare model by reading declare model from a file.\n",
    "\n",
    "model: DeclareModel = DeclareModel().parse_from_file(decl_file)"
   ],
   "outputs": [],
   "execution_count": 44
  },
  {
   "cell_type": "code",
   "id": "f4b87ba4-2740-4006-b40f-b0ae95bab202",
   "metadata": {
    "ExecuteTime": {
     "end_time": "2024-05-07T11:58:51.136901Z",
     "start_time": "2024-05-07T11:58:51.121902Z"
    }
   },
   "source": [
    "#general Setting\n",
    "\n",
    "# Number of traces that should be generated\n",
    "num_of_traces = 10\n",
    "\n",
    "# Minimum and maximum number of events a trace can contain\n",
    "(num_min_events, num_max_events) = (2, 5)\n"
   ],
   "outputs": [],
   "execution_count": 45
  },
  {
   "cell_type": "code",
   "id": "b9dc4474-319b-40e0-95a7-c8ac36a18f2b",
   "metadata": {
    "ExecuteTime": {
     "end_time": "2024-05-07T11:58:51.151903Z",
     "start_time": "2024-05-07T11:58:51.137903Z"
    }
   },
   "source": [
    "# Initializing ASP generator with default distributor which is uniform.\n",
    "\n",
    "asp = AspGenerator(model, num_of_traces, num_min_events, num_max_events)"
   ],
   "outputs": [],
   "execution_count": 46
  },
  {
   "cell_type": "code",
   "id": "d9696dfe",
   "metadata": {
    "ExecuteTime": {
     "end_time": "2024-05-07T11:58:51.166907Z",
     "start_time": "2024-05-07T11:58:51.152902Z"
    }
   },
   "source": [
    "model.__dict__\n"
   ],
   "outputs": [
    {
     "data": {
      "text/plain": [
       "{'activities': ['ER Triage',\n",
       "  'ER Registration',\n",
       "  'ER Sepsis Triage',\n",
       "  'Leucocytes',\n",
       "  'CRP',\n",
       "  'LacticAcid',\n",
       "  'IV Antibiotics',\n",
       "  'Admission NC',\n",
       "  'IV Liquid',\n",
       "  'Release A',\n",
       "  'Release B',\n",
       "  'Return ER',\n",
       "  'Admission IC'],\n",
       " 'formula': '',\n",
       " 'parsed_formula': None,\n",
       " 'parameters': [],\n",
       " 'backend': 'lydia',\n",
       " 'attribute_type': [],\n",
       " 'payload': [],\n",
       " 'serialized_constraints': ['Chain Response[Admission NC, Release B] |A.org:group is K |T.org:group is E |',\n",
       "  'Chain Response[Admission NC, Release A] |A.org:group is I |T.org:group is E |133020,957701,s',\n",
       "  'Chain Precedence[IV Liquid, Admission NC] |A.org:group is I |T.org:group is A |92,14473,s',\n",
       "  'Chain Response[ER Registration, ER Triage] |(A.DiagnosticArtAstrup is false) AND (A.SIRSCritHeartRate is true) AND (A.org:group is A) AND (A.DiagnosticBlood is true) AND (A.DisfuncOrg is false) AND (A.DiagnosticECG is true) AND (A.Age >= 45) AND (A.InfectionSuspected is true) AND (A.DiagnosticLacticAcid is true) AND (A.DiagnosticSputum is true) AND (A.Hypoxie is false) AND (A.DiagnosticUrinaryCulture is true) AND (A.DiagnosticLiquor is false) AND (A.SIRSCritTemperature is true) AND (A.Infusion is true) AND (A.Hypotensie is false) AND (A.DiagnosticUrinarySediment is true) AND (A.Oligurie is false) AND (A.Age <= 80) AND (A.SIRSCritTachypnea is true) AND (A.DiagnosticOther is false) AND (A.SIRSCritLeucos is false) AND (A.DiagnosticIC is true) AND (A.SIRSCriteria2OrMore is true) AND (A.DiagnosticXthorax is true) |T.org:group is C |52,2154,s',\n",
       "  'Chain Precedence[Release A, Return ER] |A.org:group is ? |T.org:group is E |1121801,1121801,s',\n",
       "  'Chain Precedence[ER Sepsis Triage, IV Antibiotics] |A.org:group is L |T.org:group is L |15,11000,s',\n",
       "  'Chain Response[ER Sepsis Triage, IV Antibiotics] |A.org:group is L |T.org:group is L |15,11000,s',\n",
       "  'Chain Precedence[Admission IC, Admission NC] |A.org:group is J |T.org:group is J |',\n",
       "  'Chain Precedence[IV Antibiotics, Admission NC] |A.org:group is F |T.org:group is A |92,14459,s',\n",
       "  'Chain Precedence[Admission NC, Release B] |A.org:group is E |T.org:group is K |48225,48225,s',\n",
       "  'Chain Response[Admission IC, Admission NC] |A.org:group is J |T.org:group is J |61534,61534,s',\n",
       "  'Chain Response[LacticAcid, Leucocytes] |A.LacticAcid <= 0.8 |T.Leucocytes >= 13.8 |0,2778,m',\n",
       "  'Chain Precedence[ER Registration, ER Triage] |A.org:group is C |(T.InfectionSuspected is true) AND (T.SIRSCritTemperature is true) AND (T.DiagnosticLacticAcid is true) AND (T.DiagnosticBlood is true) AND (T.DiagnosticIC is true) AND (T.SIRSCriteria2OrMore is true) AND (T.DiagnosticECG is true) |52,2154,s'],\n",
       " 'constraints': [{'template': \"<Template.Chain Response: 11 >\",\n",
       "   'activities': ['Admission NC', 'Release B'],\n",
       "   'condition': ['A.org:group is K', 'T.org:group is E', '']},\n",
       "  {'template': \"<Template.Chain Response: 11 >\",\n",
       "   'activities': ['Admission NC', 'Release A'],\n",
       "   'condition': ['A.org:group is I', 'T.org:group is E', '133020,957701,s']},\n",
       "  {'template': \"<Template.Chain Precedence: 14 >\",\n",
       "   'activities': ['IV Liquid', 'Admission NC'],\n",
       "   'condition': ['A.org:group is I', 'T.org:group is A', '92,14473,s']},\n",
       "  {'template': \"<Template.Chain Response: 11 >\",\n",
       "   'activities': ['ER Registration', 'ER Triage'],\n",
       "   'condition': ['(A.DiagnosticArtAstrup is false) AND (A.SIRSCritHeartRate is true) AND (A.org:group is A) AND (A.DiagnosticBlood is true) AND (A.DisfuncOrg is false) AND (A.DiagnosticECG is true) AND (A.Age >= 45) AND (A.InfectionSuspected is true) AND (A.DiagnosticLacticAcid is true) AND (A.DiagnosticSputum is true) AND (A.Hypoxie is false) AND (A.DiagnosticUrinaryCulture is true) AND (A.DiagnosticLiquor is false) AND (A.SIRSCritTemperature is true) AND (A.Infusion is true) AND (A.Hypotensie is false) AND (A.DiagnosticUrinarySediment is true) AND (A.Oligurie is false) AND (A.Age <= 80) AND (A.SIRSCritTachypnea is true) AND (A.DiagnosticOther is false) AND (A.SIRSCritLeucos is false) AND (A.DiagnosticIC is true) AND (A.SIRSCriteria2OrMore is true) AND (A.DiagnosticXthorax is true)',\n",
       "    'T.org:group is C',\n",
       "    '52,2154,s']},\n",
       "  {'template': \"<Template.Chain Precedence: 14 >\",\n",
       "   'activities': ['Release A', 'Return ER'],\n",
       "   'condition': ['A.org:group is ?', 'T.org:group is E', '1121801,1121801,s']},\n",
       "  {'template': \"<Template.Chain Precedence: 14 >\",\n",
       "   'activities': ['ER Sepsis Triage', 'IV Antibiotics'],\n",
       "   'condition': ['A.org:group is L', 'T.org:group is L', '15,11000,s']},\n",
       "  {'template': \"<Template.Chain Response: 11 >\",\n",
       "   'activities': ['ER Sepsis Triage', 'IV Antibiotics'],\n",
       "   'condition': ['A.org:group is L', 'T.org:group is L', '15,11000,s']},\n",
       "  {'template': \"<Template.Chain Precedence: 14 >\",\n",
       "   'activities': ['Admission IC', 'Admission NC'],\n",
       "   'condition': ['A.org:group is J', 'T.org:group is J', '']},\n",
       "  {'template': \"<Template.Chain Precedence: 14 >\",\n",
       "   'activities': ['IV Antibiotics', 'Admission NC'],\n",
       "   'condition': ['A.org:group is F', 'T.org:group is A', '92,14459,s']},\n",
       "  {'template': \"<Template.Chain Precedence: 14 >\",\n",
       "   'activities': ['Admission NC', 'Release B'],\n",
       "   'condition': ['A.org:group is E', 'T.org:group is K', '48225,48225,s']},\n",
       "  {'template': \"<Template.Chain Response: 11 >\",\n",
       "   'activities': ['Admission IC', 'Admission NC'],\n",
       "   'condition': ['A.org:group is J', 'T.org:group is J', '61534,61534,s']},\n",
       "  {'template': \"<Template.Chain Response: 11 >\",\n",
       "   'activities': ['LacticAcid', 'Leucocytes'],\n",
       "   'condition': ['A.LacticAcid <= 0.8', 'T.Leucocytes >= 13.8', '0,2778,m']},\n",
       "  {'template': \"<Template.Chain Precedence: 14 >\",\n",
       "   'activities': ['ER Registration', 'ER Triage'],\n",
       "   'condition': ['A.org:group is C',\n",
       "    '(T.InfectionSuspected is true) AND (T.SIRSCritTemperature is true) AND (T.DiagnosticLacticAcid is true) AND (T.DiagnosticBlood is true) AND (T.DiagnosticIC is true) AND (T.SIRSCriteria2OrMore is true) AND (T.DiagnosticECG is true)',\n",
       "    '52,2154,s']}],\n",
       " 'parsed_model': <Declare4Py.ProcessModels.DeclareModel.DeclareParsedDataModel at 0x1cba8fa6790>,\n",
       " 'declare_model_lines': ['activity ER Triage\\n',\n",
       "  'bind ER Triage: org:group, Diagnose, Age\\n',\n",
       "  'activity ER Registration\\n',\n",
       "  'bind ER Registration: InfectionSuspected, org:group, DiagnosticBlood, DisfuncOrg, SIRSCritTachypnea, Hypotensie, SIRSCritHeartRate, Infusion, DiagnosticArtAstrup, Age, DiagnosticIC, DiagnosticSputum, DiagnosticLiquor, DiagnosticOther, SIRSCriteria2OrMore, DiagnosticXthorax, SIRSCritTemperature, DiagnosticUrinaryCulture, SIRSCritLeucos, Oligurie, DiagnosticLacticAcid, Diagnose, Hypoxie, DiagnosticUrinarySediment, DiagnosticECG\\n',\n",
       "  'activity ER Sepsis Triage\\n',\n",
       "  'bind ER Sepsis Triage: org:group, Diagnose, Age\\n',\n",
       "  'activity Leucocytes\\n',\n",
       "  'bind Leucocytes: Leucocytes, org:group, Diagnose, Age\\n',\n",
       "  'activity CRP\\n',\n",
       "  'bind CRP: CRP, org:group, Diagnose, Age\\n',\n",
       "  'activity LacticAcid\\n',\n",
       "  'bind LacticAcid: org:group, LacticAcid\\n',\n",
       "  'activity IV Antibiotics\\n',\n",
       "  'bind IV Antibiotics: org:group\\n',\n",
       "  'activity Admission NC\\n',\n",
       "  'bind Admission NC: org:group\\n',\n",
       "  'activity IV Liquid\\n',\n",
       "  'bind IV Liquid: org:group, Diagnose, Age\\n',\n",
       "  'activity Release A\\n',\n",
       "  'bind Release A: org:group\\n',\n",
       "  'activity Release B\\n',\n",
       "  'bind Release B: org:group\\n',\n",
       "  'activity Return ER\\n',\n",
       "  'bind Return ER: org:group\\n',\n",
       "  'activity Admission IC\\n',\n",
       "  'bind Admission IC: org:group\\n',\n",
       "  'CRP: float between 5.0 and 573.0\\n',\n",
       "  'InfectionSuspected: true, false\\n',\n",
       "  'org:group: A, B, C, D, E, F, G, H, I, J, K, L, M, N, O, P, Q, R, S, T, U, V, W, X, Y, ?\\n',\n",
       "  'DiagnosticBlood: true, false\\n',\n",
       "  'DisfuncOrg: true, false\\n',\n",
       "  'SIRSCritTachypnea: true, false\\n',\n",
       "  'Hypotensie: true, false\\n',\n",
       "  'SIRSCritHeartRate: true, false\\n',\n",
       "  'Infusion: true, false\\n',\n",
       "  'Leucocytes: float between 0.2 and 381.3\\n',\n",
       "  'DiagnosticArtAstrup: true, false\\n',\n",
       "  'LacticAcid: float between 0.2 and 14.9\\n',\n",
       "  'Age: integer between 20 and 90\\n',\n",
       "  'DiagnosticIC: true, false\\n',\n",
       "  'DiagnosticSputum: false, true\\n',\n",
       "  'DiagnosticLiquor: false, true\\n',\n",
       "  'DiagnosticOther: false, true\\n',\n",
       "  'SIRSCriteria2OrMore: true, false\\n',\n",
       "  'DiagnosticXthorax: true, false\\n',\n",
       "  'SIRSCritTemperature: true, false\\n',\n",
       "  'DiagnosticUrinaryCulture: true, false\\n',\n",
       "  'SIRSCritLeucos: false, true\\n',\n",
       "  'Oligurie: false, true\\n',\n",
       "  'DiagnosticLacticAcid: true, false\\n',\n",
       "  'Diagnose: YA, YB, YC, YD, QA, QB, QC, QD, QE, IA, IB, IC, ID, IE, AA, AB, AC, AD, AE, ZA, ZB, ZC, ZD, RA, RB, RC, RD, JA, JB, JC, JD, JE, BA, BB, A, BC, B, BD, C, BE, D, E, F, G, H, I, J, K, L, M, N, SA, O, SB, P, SC, Q, SD, R, S, T, U, V, KA, W, KB, X, KC, Y, KD, Z, KE, CA, CB, CC, CD, CE, TA, TB, TC, TD, LA, LB, LC, LD, LE, DA, DB, DC, DD, DE, UA, UB, UC, UD, MA, MB, MC, MD, ME, EA, EB, EC, ED, EE, VA, VB, VC, VD, NA, NB, NC, ND, FA, FB, FC, FD, FE, WA, WB, WC, WD, OA, OB, OC, OD, OE, GA, GB, GC, GD, GE, XA, XB, XC, XD, PA, PB, PC, PD, PE, HA, HB, HC, HD, HE\\n',\n",
       "  'Hypoxie: false, true\\n',\n",
       "  'DiagnosticUrinarySediment: true, false\\n',\n",
       "  'DiagnosticECG: true, false\\n',\n",
       "  'Chain Response[Admission NC, Release B] |A.org:group is K |T.org:group is E |\\n',\n",
       "  'Chain Response[Admission NC, Release A] |A.org:group is I |T.org:group is E |133020,957701,s\\n',\n",
       "  'Chain Precedence[IV Liquid, Admission NC] |A.org:group is I |T.org:group is A |92,14473,s\\n',\n",
       "  'Chain Response[ER Registration, ER Triage] |(A.DiagnosticArtAstrup is false) AND (A.SIRSCritHeartRate is true) AND (A.org:group is A) AND (A.DiagnosticBlood is true) AND (A.DisfuncOrg is false) AND (A.DiagnosticECG is true) AND (A.Age >= 45) AND (A.InfectionSuspected is true) AND (A.DiagnosticLacticAcid is true) AND (A.DiagnosticSputum is true) AND (A.Hypoxie is false) AND (A.DiagnosticUrinaryCulture is true) AND (A.DiagnosticLiquor is false) AND (A.SIRSCritTemperature is true) AND (A.Infusion is true) AND (A.Hypotensie is false) AND (A.DiagnosticUrinarySediment is true) AND (A.Oligurie is false) AND (A.Age <= 80) AND (A.SIRSCritTachypnea is true) AND (A.DiagnosticOther is false) AND (A.SIRSCritLeucos is false) AND (A.DiagnosticIC is true) AND (A.SIRSCriteria2OrMore is true) AND (A.DiagnosticXthorax is true) |T.org:group is C |52,2154,s\\n',\n",
       "  'Chain Precedence[Release A, Return ER] |A.org:group is ? |T.org:group is E |1121801,1121801,s\\n',\n",
       "  'Chain Precedence[ER Sepsis Triage, IV Antibiotics] |A.org:group is L |T.org:group is L |15,11000,s\\n',\n",
       "  'Chain Response[ER Sepsis Triage, IV Antibiotics] |A.org:group is L |T.org:group is L |15,11000,s\\n',\n",
       "  'Chain Precedence[Admission IC, Admission NC] |A.org:group is J |T.org:group is J |\\n',\n",
       "  'Chain Precedence[IV Antibiotics, Admission NC] |A.org:group is F |T.org:group is A |92,14459,s\\n',\n",
       "  'Chain Precedence[Admission NC, Release B] |A.org:group is E |T.org:group is K |48225,48225,s\\n',\n",
       "  'Chain Response[Admission IC, Admission NC] |A.org:group is J |T.org:group is J |61534,61534,s\\n',\n",
       "  'Chain Response[LacticAcid, Leucocytes] |A.LacticAcid <= 0.8 |T.Leucocytes >= 13.8 |0,2778,m\\n',\n",
       "  'Chain Precedence[ER Registration, ER Triage] |A.org:group is C |(T.InfectionSuspected is true) AND (T.SIRSCritTemperature is true) AND (T.DiagnosticLacticAcid is true) AND (T.DiagnosticBlood is true) AND (T.DiagnosticIC is true) AND (T.SIRSCriteria2OrMore is true) AND (T.DiagnosticECG is true) |52,2154,s\\n']}"
      ]
     },
     "execution_count": 47,
     "metadata": {},
     "output_type": "execute_result"
    }
   ],
   "execution_count": 47
  },
  {
   "cell_type": "code",
   "id": "974a92ad-6497-433f-99e4-2f0d79a6e150",
   "metadata": {
    "scrolled": true,
    "ExecuteTime": {
     "end_time": "2024-05-07T11:58:52.678975Z",
     "start_time": "2024-05-07T11:58:51.167903Z"
    }
   },
   "source": [
    "# Generate the traces and parse the result produced by clingo\n",
    "asp.run()  # Run accepts 1 optional value whether to create file for the ASP generated from given declare model\n"
   ],
   "outputs": [],
   "execution_count": 48
  },
  {
   "cell_type": "code",
   "id": "a03b7b40-e718-4783-a8e4-36528bd4d01d",
   "metadata": {
    "ExecuteTime": {
     "end_time": "2024-05-07T11:58:52.694455Z",
     "start_time": "2024-05-07T11:58:52.680458Z"
    }
   },
   "source": [
    "# Save file to xes\n",
    "asp.to_xes(output_file.as_posix())"
   ],
   "outputs": [
    {
     "name": "stderr",
     "output_type": "stream",
     "text": [
      "C:\\Users\\Matteo\\miniconda3\\envs\\Declare4Py\\lib\\site-packages\\ipywidgets\\widgets\\widget.py:528: DeprecationWarning: The `ipykernel.comm.Comm` class has been deprecated. Please use the `comm` module instead.For creating comms, use the function `from comm import create_comm`.\n",
      "  self.comm = Comm(**args)\n",
      "C:\\Users\\Matteo\\miniconda3\\envs\\Declare4Py\\lib\\site-packages\\ipywidgets\\widgets\\widget.py:528: DeprecationWarning: The `ipykernel.comm.Comm` class has been deprecated. Please use the `comm` module instead.For creating comms, use the function `from comm import create_comm`.\n",
      "  self.comm = Comm(**args)\n",
      "C:\\Users\\Matteo\\miniconda3\\envs\\Declare4Py\\lib\\site-packages\\ipywidgets\\widgets\\widget.py:528: DeprecationWarning: The `ipykernel.comm.Comm` class has been deprecated. Please use the `comm` module instead.For creating comms, use the function `from comm import create_comm`.\n",
      "  self.comm = Comm(**args)\n",
      "C:\\Users\\Matteo\\miniconda3\\envs\\Declare4Py\\lib\\site-packages\\ipywidgets\\widgets\\widget.py:528: DeprecationWarning: The `ipykernel.comm.Comm` class has been deprecated. Please use the `comm` module instead.For creating comms, use the function `from comm import create_comm`.\n",
      "  self.comm = Comm(**args)\n",
      "C:\\Users\\Matteo\\miniconda3\\envs\\Declare4Py\\lib\\site-packages\\ipywidgets\\widgets\\widget.py:528: DeprecationWarning: The `ipykernel.comm.Comm` class has been deprecated. Please use the `comm` module instead.For creating comms, use the function `from comm import create_comm`.\n",
      "  self.comm = Comm(**args)\n",
      "C:\\Users\\Matteo\\miniconda3\\envs\\Declare4Py\\lib\\site-packages\\ipywidgets\\widgets\\widget.py:528: DeprecationWarning: The `ipykernel.comm.Comm` class has been deprecated. Please use the `comm` module instead.For creating comms, use the function `from comm import create_comm`.\n",
      "  self.comm = Comm(**args)\n",
      "C:\\Users\\Matteo\\miniconda3\\envs\\Declare4Py\\lib\\site-packages\\ipywidgets\\widgets\\widget.py:528: DeprecationWarning: The `ipykernel.comm.Comm` class has been deprecated. Please use the `comm` module instead.For creating comms, use the function `from comm import create_comm`.\n",
      "  self.comm = Comm(**args)\n",
      "C:\\Users\\Matteo\\miniconda3\\envs\\Declare4Py\\lib\\site-packages\\ipywidgets\\widgets\\widget.py:528: DeprecationWarning: The `ipykernel.comm.Comm` class has been deprecated. Please use the `comm` module instead.For creating comms, use the function `from comm import create_comm`.\n",
      "  self.comm = Comm(**args)\n",
      "C:\\Users\\Matteo\\miniconda3\\envs\\Declare4Py\\lib\\site-packages\\ipywidgets\\widgets\\widget.py:528: DeprecationWarning: The `ipykernel.comm.Comm` class has been deprecated. Please use the `comm` module instead.For creating comms, use the function `from comm import create_comm`.\n",
      "  self.comm = Comm(**args)\n",
      "C:\\Users\\Matteo\\miniconda3\\envs\\Declare4Py\\lib\\site-packages\\ipywidgets\\widgets\\widget.py:528: DeprecationWarning: The `ipykernel.comm.Comm` class has been deprecated. Please use the `comm` module instead.For creating comms, use the function `from comm import create_comm`.\n",
      "  self.comm = Comm(**args)\n",
      "C:\\Users\\Matteo\\miniconda3\\envs\\Declare4Py\\lib\\site-packages\\ipywidgets\\widgets\\widget.py:528: DeprecationWarning: The `ipykernel.comm.Comm` class has been deprecated. Please use the `comm` module instead.For creating comms, use the function `from comm import create_comm`.\n",
      "  self.comm = Comm(**args)\n"
     ]
    },
    {
     "data": {
      "text/plain": [
       "exporting log, completed traces ::   0%|          | 0/10 [00:00<?, ?it/s]"
      ],
      "application/vnd.jupyter.widget-view+json": {
       "version_major": 2,
       "version_minor": 0,
       "model_id": "40d0827927f84d009a5a8a56b8ebdd4f"
      }
     },
     "metadata": {},
     "output_type": "display_data"
    }
   ],
   "execution_count": 49
  }
 ],
 "metadata": {
  "kernelspec": {
   "display_name": "Python 3 (ipykernel)",
   "language": "python",
   "name": "python3"
  },
  "language_info": {
   "codemirror_mode": {
    "name": "ipython",
    "version": 3
   },
   "file_extension": ".py",
   "mimetype": "text/x-python",
   "name": "python",
   "nbconvert_exporter": "python",
   "pygments_lexer": "ipython3",
   "version": "3.11.4"
  }
 },
 "nbformat": 4,
 "nbformat_minor": 5
}
